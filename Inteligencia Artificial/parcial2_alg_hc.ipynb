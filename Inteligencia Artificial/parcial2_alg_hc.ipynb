{
 "cells": [
  {
   "cell_type": "code",
   "execution_count": 254,
   "metadata": {},
   "outputs": [],
   "source": [
    "import random\n",
    "import numpy as np\n",
    "import pandas as pd\n",
    "import copy"
   ]
  },
  {
   "cell_type": "code",
   "execution_count": 255,
   "metadata": {},
   "outputs": [],
   "source": [
    "#variables iniciales para la funcionalidad del codigo\n",
    "tablero_inicial = np.array([[0,0,3,0,1,0],[5,6,0,3,2,0],[0,5,4,2,0,3],[2,0,6,4,5,0],[0,1,2,0,4,5],[0,4,0,1,0,0]])\n",
    "tablero_modelo = np.array([[4,2,3,5,1,6],[5,6,1,3,2,4],[1,5,4,2,6,3],[2,3,6,4,5,1],[3,1,2,6,4,5],[6,4,5,1,3,2]])\n",
    "tablero_inicial\n",
    "num_pos = 5"
   ]
  },
  {
   "cell_type": "code",
   "execution_count": 256,
   "metadata": {},
   "outputs": [],
   "source": [
    "#funcion que valida el correcto funcionamiento del codigo\n",
    "def es_valido(tablero):\n",
    "    valido = True\n",
    "    fitness = 0\n",
    "    cont = 0\n",
    "    #loop para ver si las filas son validas\n",
    "    for fil in tablero:\n",
    "        serie = pd.Series(fil)\n",
    "        cont,valido = filas(serie)\n",
    "        fitness = fitness + cont\n",
    "    #loop para ver si las columnas son validas\n",
    "    for col in range(len(tablero)):\n",
    "        column = pd.Series(tablero[:,col])\n",
    "        cont,valido = columnas(column)\n",
    "        fitness += cont\n",
    "    #loop para seleccionar los cuadrantes\n",
    "    cu1 = tablero[:2,:3]\n",
    "    cu1 = cu1.ravel()\n",
    "    cu2 = tablero[:2,3:]\n",
    "    cu2 = cu2.ravel()\n",
    "    cu3 = tablero[2:4,:3]\n",
    "    cu3 = cu3.ravel()\n",
    "    cu4 = tablero[2:4,3:]\n",
    "    cu4 = cu4.ravel()\n",
    "    cu5 = tablero[4:,:3]\n",
    "    cu5 = cu5.ravel()\n",
    "    cu6 = tablero[4:,3:]\n",
    "    cu6 = cu6.ravel()\n",
    "    list_cuad = [pd.Series(cu1),pd.Series(cu2),pd.Series(cu3),pd.Series(cu4),pd.Series(cu5),pd.Series(cu6)]\n",
    "    for i in list_cuad:\n",
    "        cont,valido = cuadrante(i)\n",
    "        fitness += cont\n",
    "    #print(valido)\n",
    "    return fitness,valido  \n",
    "    \n",
    "def filas(fila):\n",
    "    cont = 0\n",
    "    if len(fila.value_counts()) != 6:\n",
    "        cont+=len(fila.value_counts())\n",
    "        #print(cont)\n",
    "        return cont, False\n",
    "    else:\n",
    "        cont+=len(fila.value_counts())\n",
    "        return cont, True\n",
    "\n",
    "def columnas(col):\n",
    "    cont = 0\n",
    "    if len(col.value_counts()) != 6:\n",
    "        cont+=len(col.value_counts())\n",
    "        #print(cont)\n",
    "        return cont, False\n",
    "    else:\n",
    "        cont+=len(col.value_counts())\n",
    "        return cont, True\n",
    "\n",
    "def cuadrante(cuad):\n",
    "    cont = 0\n",
    "    if len(cuad.value_counts()) != 6:\n",
    "        cont+=len(cuad.value_counts())\n",
    "        #print(cont)\n",
    "        return cont, False\n",
    "    else:\n",
    "        cont+=len(cuad.value_counts())\n",
    "        return cont, True"
   ]
  },
  {
   "cell_type": "code",
   "execution_count": 257,
   "metadata": {},
   "outputs": [
    {
     "output_type": "execute_result",
     "data": {
      "text/plain": "(108, True)"
     },
     "metadata": {},
     "execution_count": 257
    }
   ],
   "source": [
    "#a mayor valor mas eficiente y valido es la solucion\n",
    "es_valido(tablero_modelo)"
   ]
  },
  {
   "cell_type": "code",
   "execution_count": 258,
   "metadata": {},
   "outputs": [],
   "source": [
    "def init_posibilities(tablero):\n",
    "    lst_pos = list()\n",
    "    for i in range(num_pos):\n",
    "        copia = copy.copy(tablero)\n",
    "        copia[copia == 0] = random.randint(0,6)\n",
    "        fitness,valido = es_valido(copia)\n",
    "        print(fitness,valido)                   \n",
    "        lst_pos.append(copia)\n",
    "    print(lst_pos)"
   ]
  },
  {
   "cell_type": "code",
   "execution_count": 259,
   "metadata": {},
   "outputs": [
    {
     "output_type": "stream",
     "name": "stdout",
     "text": "72 False\n69 False\n69 False\n72 False\n78 False\n[array([[6, 6, 3, 6, 1, 6],\n       [5, 6, 6, 3, 2, 6],\n       [6, 5, 4, 2, 6, 3],\n       [2, 6, 6, 4, 5, 6],\n       [6, 1, 2, 6, 4, 5],\n       [6, 4, 6, 1, 6, 6]]), array([[1, 1, 3, 1, 1, 1],\n       [5, 6, 1, 3, 2, 1],\n       [1, 5, 4, 2, 1, 3],\n       [2, 1, 6, 4, 5, 1],\n       [1, 1, 2, 1, 4, 5],\n       [1, 4, 1, 1, 1, 1]]), array([[3, 3, 3, 3, 1, 3],\n       [5, 6, 3, 3, 2, 3],\n       [3, 5, 4, 2, 3, 3],\n       [2, 3, 6, 4, 5, 3],\n       [3, 1, 2, 3, 4, 5],\n       [3, 4, 3, 1, 3, 3]]), array([[6, 6, 3, 6, 1, 6],\n       [5, 6, 6, 3, 2, 6],\n       [6, 5, 4, 2, 6, 3],\n       [2, 6, 6, 4, 5, 6],\n       [6, 1, 2, 6, 4, 5],\n       [6, 4, 6, 1, 6, 6]]), array([[0, 0, 3, 0, 1, 0],\n       [5, 6, 0, 3, 2, 0],\n       [0, 5, 4, 2, 0, 3],\n       [2, 0, 6, 4, 5, 0],\n       [0, 1, 2, 0, 4, 5],\n       [0, 4, 0, 1, 0, 0]])]\n"
    }
   ],
   "source": [
    "init_posibilities(tablero_inicial)"
   ]
  }
 ],
 "metadata": {
  "language_info": {
   "codemirror_mode": {
    "name": "ipython",
    "version": 3
   },
   "file_extension": ".py",
   "mimetype": "text/x-python",
   "name": "python",
   "nbconvert_exporter": "python",
   "pygments_lexer": "ipython3",
   "version": "3.7.5-final"
  },
  "orig_nbformat": 2,
  "kernelspec": {
   "name": "python37564bit0dc79bb492bd44c78f05d4b2f5c90882",
   "display_name": "Python 3.7.5 64-bit"
  }
 },
 "nbformat": 4,
 "nbformat_minor": 2
}