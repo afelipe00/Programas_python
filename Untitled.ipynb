{
 "cells": [
  {
   "cell_type": "code",
   "execution_count": 69,
   "metadata": {},
   "outputs": [],
   "source": [
    "import re\n",
    "import nltk\n"
   ]
  },
  {
   "cell_type": "code",
   "execution_count": 70,
   "metadata": {},
   "outputs": [],
   "source": [
    "def contador_palabras(text):\n",
    "    voc_corpus = dict()\n",
    "    text2 = text.lower()\n",
    "    palabras = re.findall(r'[\\w]+', text2)\n",
    "    print(\"\\npalabras en el corpus\\n\")\n",
    "    print(palabras)\n",
    "    no_repet = list(set(palabras))\n",
    "    print(\"\\n sin repetidas\\n\")\n",
    "    print(no_repet)\n",
    "    print(\"\\n\")\n",
    "    for indice in palabras:\n",
    "        if indice in voc_corpus:\n",
    "            voc_corpus[indice]+=1\n",
    "        else:\n",
    "            voc_corpus[indice]=1\n",
    "    return voc_corpus\n",
    "    "
   ]
  },
  {
   "cell_type": "code",
   "execution_count": 71,
   "metadata": {},
   "outputs": [],
   "source": [
    "def lectura_text():\n",
    "    documentos = []\n",
    "    with open(\"corpus.txt\",\"r\") as doc:\n",
    "        for lineas, texto in enumerate(doc):\n",
    "            documentos.append(texto)\n",
    "        corp_cont = contador_palabras(texto)\n",
    "        print(\"\\ncontador de palabras en el corpus\\n\", corp_cont)\n",
    "    print(\"\\ncorpus\\n\")\n",
    "    return documentos\n",
    "        "
   ]
  },
  {
   "cell_type": "code",
   "execution_count": 72,
   "metadata": {},
   "outputs": [
    {
     "name": "stdout",
     "output_type": "stream",
     "text": [
      "\n",
      "palabras en el corpus\n",
      "\n",
      "['a', 'mobile', 'device', 'or', 'handheld', 'computer', 'is', 'a', 'computing', 'device', 'small', 'enough', 'to', 'hold', 'and', 'operate', 'in', 'the', 'hand', 'typically', 'any', 'handheld', 'computer', 'device', 'will', 'have', 'an', 'lcd', 'fhd', 'or', 'oled', 'flatscreen', 'interface', 'providing', 'a', 'touchscreen', 'android', 'version', '9', '0interface', 'with', 'digital', 'buttons', 'and', 'keyboard', 'or', 'physical', 'buttons', 'along', 'with', 'a', 'physical', 'keyboard', 'many', 'such', 'devices', 'can', 'connect', 'to', 'the', 'internet', 'and', 'interconnect', 'with', 'other', 'devices', 'such', 'as', 'car', 'entertainment', 'systems', 'or', 'headsets', 'via', 'wi', 'fi', 'bluetooth', 'cellular', 'networks', '2gor', '3g', 'or4gnear', 'field', 'communication', 'nfc', 'integrated', 'cameras', 'digital', 'media', 'players', 'the', 'ability', 'to', 'place', 'and', 'receive', 'telephone', 'calls', 'video', 'games', 'and', 'global', 'positioning', 'system', 'gps', 'capabilities', 'are', 'common', 'power', 'is', 'typically', 'provided', 'by', 'a', 'lithium', 'battery', 'mobile', 'devices', 'may', 'run', 'mobile', 'operating', 'systems', 'that', 'allow', 'third', 'party', 'apps', 'specialized', 'for', 'said', 'capabilities', 'to', 'be', 'installed', 'and', 'run']\n",
      "\n",
      " sin repetidas\n",
      "\n",
      "['receive', 'positioning', 'computing', 'video', 'fi', 'operate', 'entertainment', 'installed', 'small', 'in', 'computer', 'connect', 'provided', 'many', 'ability', 'capabilities', 'lcd', 'cameras', 'have', 'systems', 'third', 'hand', 'via', 'networks', 'version', 'calls', 'such', 'telephone', 'the', 'physical', 'android', 'run', 'cellular', 'apps', 'internet', 'along', 'global', 'nfc', 'by', 'car', 'fhd', 'headsets', 'an', 'specialized', 'handheld', 'for', 'a', 'with', 'common', '2gor', 'media', 'enough', 'party', 'can', 'games', 'gps', '0interface', 'as', 'allow', 'wi', 'flatscreen', 'digital', 'mobile', 'to', 'keyboard', 'communication', 'system', 'or4gnear', 'field', 'device', 'battery', 'lithium', 'or', 'is', 'touchscreen', 'devices', 'and', '9', 'interconnect', 'be', 'providing', 'integrated', '3g', 'may', 'players', 'buttons', 'interface', 'bluetooth', 'operating', 'that', 'are', 'will', 'said', 'any', 'place', 'typically', 'oled', 'other', 'power', 'hold']\n",
      "\n",
      "\n",
      "\n",
      "contador de palabras en el corpus\n",
      " {'a': 5, 'mobile': 3, 'device': 3, 'or': 4, 'handheld': 2, 'computer': 2, 'is': 2, 'computing': 1, 'small': 1, 'enough': 1, 'to': 4, 'hold': 1, 'and': 6, 'operate': 1, 'in': 1, 'the': 3, 'hand': 1, 'typically': 2, 'any': 1, 'will': 1, 'have': 1, 'an': 1, 'lcd': 1, 'fhd': 1, 'oled': 1, 'flatscreen': 1, 'interface': 1, 'providing': 1, 'touchscreen': 1, 'android': 1, 'version': 1, '9': 1, '0interface': 1, 'with': 3, 'digital': 2, 'buttons': 2, 'keyboard': 2, 'physical': 2, 'along': 1, 'many': 1, 'such': 2, 'devices': 3, 'can': 1, 'connect': 1, 'internet': 1, 'interconnect': 1, 'other': 1, 'as': 1, 'car': 1, 'entertainment': 1, 'systems': 2, 'headsets': 1, 'via': 1, 'wi': 1, 'fi': 1, 'bluetooth': 1, 'cellular': 1, 'networks': 1, '2gor': 1, '3g': 1, 'or4gnear': 1, 'field': 1, 'communication': 1, 'nfc': 1, 'integrated': 1, 'cameras': 1, 'media': 1, 'players': 1, 'ability': 1, 'place': 1, 'receive': 1, 'telephone': 1, 'calls': 1, 'video': 1, 'games': 1, 'global': 1, 'positioning': 1, 'system': 1, 'gps': 1, 'capabilities': 2, 'are': 1, 'common': 1, 'power': 1, 'provided': 1, 'by': 1, 'lithium': 1, 'battery': 1, 'may': 1, 'run': 2, 'operating': 1, 'that': 1, 'allow': 1, 'third': 1, 'party': 1, 'apps': 1, 'specialized': 1, 'for': 1, 'said': 1, 'be': 1, 'installed': 1}\n",
      "\n",
      "corpus\n",
      "\n",
      "['Amazon distributes downloads and streaming of video, music, audiobook through its Amazon Prime Video, Amazon Music, and Audible subsidiaries. Amazon also has a publishing arm, Amazon Publishing, a film and television studio, Amazon Studios, and a cloud computing subsidiary, Amazon Web Services. \\n', 'Microsoft Corporation is an American multinational technology company with headquarters in Redmond, Washington. It develops, manufactures, licenses, supports and sells computer software, consumer electronics, personal computers, and related services. Its best known software products are the Microsoft Windows line of operating systems, the Microsoft Office suite, and the Internet Explorer and Edge Web browsers.\\n', 'Google was founded in 1998 by Larry Page and Sergey Brin while they were Ph.D. students at Stanford University in California. Together they own about 14 percent of its shares and control 56 percent of the stockholder voting power through supervoting stock. They incorporated Google as a privately held company on September 4, 1998. \\n', 'Machine learning (ML) is the scientific study of algorithms and statistical models that computer systems use in order to perform a specific task effectively without using explicit instructions, relying on patterns and inference instead. It is seen as a subset of artificial intelligence. Machine learning algorithms build a mathematical model based on sample data, known as \"training data\", in order to make predictions or decisions without being explicitly programmed to perform the task.\\n', 'In computer science, artificial intelligence (AI), sometimes called machine intelligence, is intelligence demonstrated by machines, in contrast to the natural intelligence displayed by humans. Colloquially, the term \"artificial intelligence\" is often used to describe machines (or computers) that mimic \"cognitive\" functions that humans associate with the human mind, such as \"learning\" and \"problem solving\".\\n', 'In information retrieval, tfâ€“idf or TFIDF, short for term frequencyâ€“inverse document frequency, is a numerical statistic that is intended to reflect how important a word is to a document in a collection or corpus.\\n', 'Information retrieval (IR) is the activity of obtaining information system resources that are relevant to an information need from a collection of those resources. Searches can be based on full-text or other content-based indexing. Information retrieval is the science of searching for information in a document, searching for documents themselves, and also searching for the metadata that describes data, and for databases of texts, images or sounds.\\n', 'A web search engine or Internet search engine is a software system that is designed to carry out web search (Internet search), which means to search the World Wide Web in a systematic way for particular information specified in a textual web search query. The search results are generally presented in a line of results, often referred to as search engine results pages (SERPs). \\n', 'The World Wide Web (WWW), commonly known as the Web, is an information system where documents and other web resources are identified by Uniform Resource Locators (URLs, such as https://www.example.com/), which may be interlinked by hypertext, and are accessible over the Internet.\\n', \"A web browser (commonly referred to as a browser) is a software application for accessing information on the World Wide Web. Each individual web page, image, and video is identified by a distinct Uniform Resource Locator (URL), enabling browsers to retrieve these resources from a web server and display them on a user's device.\\n\", 'A web page (also written as webpage) is a document that is suitable to act as a web resource on the World Wide Web. In order to graphically display a web page, a web browser is needed. This is a type of software that can retrieve web pages from the Internet. When accessed by a web browser it may be displayed as a web page on a monitor or mobile device. Typical web pages are hypertext documents which contain hyperlinks, often referred to as [1]links, for browsing to other web pages.\\n', 'A mobile device (or handheld computer) is a computing device small enough to hold and operate in the hand. Typically, any handheld computer device will have an LCD FHD or OLED flatscreen interface, providing a touchscreen android version 9.0interface with digital buttons and keyboard or physical buttons along with a physical keyboard. Many such devices can connect to the Internet and interconnect with other devices such as car entertainment systems or headsets via Wi-Fi, Bluetooth, cellular networks 2Gor 3G or4Gnear field communication (NFC). Integrated cameras, digital media players, the ability to place and receive telephone calls, video games, and Global Positioning System (GPS) capabilities are common. Power is typically provided by a lithium battery. Mobile devices may run mobile operating systems that allow third-party apps specialized for said capabilities to be installed and run.']\n"
     ]
    }
   ],
   "source": [
    "if __name__ == \"__main__\":\n",
    "    print(lectura_text())"
   ]
  },
  {
   "cell_type": "code",
   "execution_count": null,
   "metadata": {},
   "outputs": [],
   "source": []
  },
  {
   "cell_type": "code",
   "execution_count": null,
   "metadata": {},
   "outputs": [],
   "source": []
  }
 ],
 "metadata": {
  "kernelspec": {
   "display_name": "Python 3",
   "language": "python",
   "name": "python3"
  },
  "language_info": {
   "codemirror_mode": {
    "name": "ipython",
    "version": 3
   },
   "file_extension": ".py",
   "mimetype": "text/x-python",
   "name": "python",
   "nbconvert_exporter": "python",
   "pygments_lexer": "ipython3",
   "version": "3.7.3"
  }
 },
 "nbformat": 4,
 "nbformat_minor": 4
}
