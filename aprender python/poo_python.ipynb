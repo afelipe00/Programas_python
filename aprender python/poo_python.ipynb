{
 "nbformat": 4,
 "nbformat_minor": 2,
 "metadata": {
  "language_info": {
   "name": "python",
   "codemirror_mode": {
    "name": "ipython",
    "version": 3
   },
   "version": "3.7.5-final"
  },
  "orig_nbformat": 2,
  "file_extension": ".py",
  "mimetype": "text/x-python",
  "name": "python",
  "npconvert_exporter": "python",
  "pygments_lexer": "ipython3",
  "version": 3,
  "kernelspec": {
   "name": "python37564bit0dc79bb492bd44c78f05d4b2f5c90882",
   "display_name": "Python 3.7.5 64-bit"
  }
 },
 "cells": [
  {
   "cell_type": "markdown",
   "metadata": {},
   "source": [
    "<h1>Programacion orientada a objetos</h1>"
   ]
  },
  {
   "cell_type": "markdown",
   "metadata": {},
   "source": [
    "<b>la programacion orientada a objetos</b> es un paradigma de programacion que parte de la idea de dividir el programa o la solucion en objetos.\n",
    "Uno de los elementos mas importantes en la poo es la utilizacion de las <b>clases</b> para organizar programas en modulos y abstracciones de datos.\n",
    "\n",
    "<b>Que es una clase?:</b> es una plantilla dentro de un programa que nos sirve para declarar un <b>objeto</b> de forma predefinida,en las clases podemos notar que podemos declarar procesos (metodos) y propiedades (atributos), una clase suele representar entidades o conceptos tales como: usuario, estudiante, etc.\n",
    "\n",
    "<b>que es una instancia?:</b> mientras que las clases solo nos proporsionan las plantillas de las cuales vamos a formar nuestros objetos las intancias son la declaracion misma de los objetos es decir son los objetos en particular que vamos creando en el codigo en base a las clases (las plantillas)\n",
    "\n",
    "<b>objetos:</b> es una unidad dentro del programa que contiene un estado y un comportamiento, es decir, tiene una serie de datos almacenados y una serie de tareas a ejecutar.\n",
    "\n",
    "<b>metodos:</b> un metodo es un proceso o una tarea a realizar dentro de una clase. y respresentan las accones dentro de los objetos.\n",
    "\n",
    "<b>atributos:</b> son las variables o los datos dentro de las clases. representan las caracteristicas de los objetos.\n",
    "\n",
    "<b>parametro self (en python):</b> el parametro self hacer referencia a (direccion de memoria) el objeto que se esta instanciando. Este es importante dado que cada metodo debe recibir como primer parametro el argumento self. para poder hacer referencia a el objeto creado. tambien nos permite diferenciar el alcance de el atributo dentro de la clase, es decir:\n",
    "<br><b>con self (self.atributo):</b> esto significa que el atributo puede ser accedido en la clase, todo los metodos dentro de la clase tendran acceso a el.\n",
    "<br><b>sin self(atributo):</b> esto significa que solo el metodo que declaro esta variable tiene acceso a el."
   ]
  },
  {
   "cell_type": "code",
   "execution_count": 1,
   "metadata": {},
   "outputs": [
    {
     "output_type": "execute_result",
     "data": {
      "text/plain": "'Hola erika, me llamo david'"
     },
     "metadata": {},
     "execution_count": 1
    }
   ],
   "source": [
    "#tipos de datos abstractos\n",
    "#hay que recordar que en python todo es un objeto\n",
    "\"\"\"una forma de interactuar con los objetos.\n",
    "\n",
    "crearlos (constructor)\n",
    "manipularlos (ejecutar metodos)\n",
    "destruirlos (destructor)\n",
    "en python el depurador se encarga de eliminar automaticamente los ojetos cuando en algun punto del codigo se deja de hacer referencia a el (cuando se deja de usar). no es necesario crear un destructor aunque se puede utilizar el comando del para eliminar una instancia de una clase.\n",
    "\"\"\"\n",
    "class Persona:\n",
    "    def __init__(self,nombre,edad):\n",
    "        self.nombre = nombre\n",
    "        self.edad = edad\n",
    "    def saluda(self, otra_persona):\n",
    "        return f'Hola {otra_persona.nombre}, me llamo {self.nombre}'\n",
    "\n",
    "david = Persona('david',35)\n",
    "erika = Persona('erika',27)\n",
    "\n",
    "david.saluda(erika)\n",
    "#dunder init (__init__)"
   ]
  },
  {
   "cell_type": "markdown",
   "metadata": {},
   "source": [
    "<h3>Tipos de atributos</h3>\n",
    "\n",
    "<b>atributos de clase: </b> son los atributos que dan caracteristicas a la clase, es decir, todos los  objetos creados a partir de esta clase van a contener este mismo atributo (incluyendo el valor), estos atributos suelen representar las constantes en los objetos.\n",
    "\n",
    "<b>atributos de instancia:</b> son los atributos que dan caracteristica a los objetos en particulart, es decir, todos los objetos que son intanciados por la misma clase contienen el atributo pero con diferente valor.\n",
    "\n",
    "visibilidad de los elementos dentro de una clase (encapsulamietno):\n",
    "<br><b>encapsulamiento:</b> este es el ocultamiento del estado de cada objeto, es decir, la forma en la que la poo rige la manera en como los objeros comparten los datos entre si y en como el programador encapsula estos datos dandole diferentes formas de acceso, estas pueden ser, publico, privado y protegido.\n",
    "\n",
    "<b>publicos:</b> eston son los tipos de atributos a los cuales se puede acceder desde cualquier parte, es decir, desde la clase instanciada, clase herdada, otras clases.\n",
    "<br><b>privado:</b> cuando un atributo o un metodo se declara de forma privada significa que solo se puede accerder a este elemento desde la clse que lo define. para poder obtener los valores de estos atributos se crean metodos conocidos como get (obtener) y set (enviar).\n",
    "<br><b>protegido:</b> cuando un atributo se declara de forma protegida se puede acceder a este desde la clase que lo define o desde las clases que heredan la clase que la definio.\n",
    "\n",
    "el lenguaje de python no diferencia entre estos tipos de datos (publicos, privados, protegidos) dado que en este lenguaje no se definen los datos de esta manera por convencion los programadores: <b>_elemento</b> para decir que son privados, <b>elemento</b> para decir que son publicos. \n"
   ]
  },
  {
   "cell_type": "code",
   "execution_count": 1,
   "metadata": {},
   "outputs": [],
   "source": [
    "class Coordenada:\n",
    "    def __init__(self, x, y):\n",
    "        self.x = x\n",
    "        self.y = y\n",
    "    \n",
    "    def distancia(self, otra_coordenada):\n",
    "        x_diff = (self.x - otra_coordenada.x)**2\n",
    "        y_diff = (self.y - otra_coordenada.y)**2\n",
    "\n",
    "        return (x_diff + y_diff)**0.5"
   ]
  },
  {
   "cell_type": "code",
   "execution_count": 4,
   "metadata": {},
   "outputs": [
    {
     "output_type": "stream",
     "name": "stdout",
     "text": "22.02271554554524\nTrue\n"
    }
   ],
   "source": [
    "coord1 = Coordenada(3,30)\n",
    "coord2 = Coordenada(4,8)\n",
    "print(coord1.distancia(coord2))\n",
    "#metodo para saber la instancia\n",
    "print(isinstance(coord1,Coordenada))"
   ]
  },
  {
   "cell_type": "markdown",
   "metadata": {},
   "source": [
    "<b>Metodo Constructor:</b> es un metodo especial que nos permite instanciar objetos de esa clase (todas las clases lo tienen). se invoca una vez se intancia la clase y lo que hace es crear un espacio de memoria para ese nuevo objeto. si no se define en el codigo se crea de forma predeterminada. cuando creamos el metodo constructor este nos permite declarar todas la variables inicales del objeto y asi darle un estado inicial a el objeto. En el caso de python el metodo constructor se define con : (_ _init_ _)"
   ]
  },
  {
   "cell_type": "code",
   "execution_count": 24,
   "metadata": {},
   "outputs": [
    {
     "output_type": "stream",
     "name": "stdout",
     "text": "bmw 0\n"
    }
   ],
   "source": [
    "#decomposicion\n",
    "#la capacidad de dividir un problema en problemas mas pequeños\n",
    "class Motor:\n",
    "    _temperatura = 0\n",
    "    def __init__(self,cilindros,tipo='gasolina'):\n",
    "        self.cilindros = cilindros\n",
    "        self.tipo = tipo\n",
    "\n",
    "    def inyecta_gasolina(self,cantidad):\n",
    "        pass\n",
    "\n",
    "class Auto:\n",
    "    _estado = 'en reposo'\n",
    "    _motor = Motor(cilindros=4)\n",
    "    def __init__(self,modelo,marca,color):\n",
    "        self.modelo = modelo\n",
    "        self.marca = marca\n",
    "        self.color = color\n",
    "        \n",
    "    def acelerar(self,tipo = 'despacio'):\n",
    "        if tipo == 'rapida':\n",
    "            self._motor.inyecta_gasolina(10)\n",
    "        elif tipo == 'despacio':\n",
    "            self._motor.inyecta_gasolina(3)\n",
    "        else:\n",
    "            self._motor.inyecta_gasolina(5)\n",
    "        self._estado = 'movimiento'\n",
    "auto_1 = Auto('2018','bmw','rojo')\n",
    "print(auto_1.marca,auto_1._motor._temperatura)"
   ]
  },
  {
   "cell_type": "code",
   "execution_count": 14,
   "metadata": {
    "tags": [
     "outputPrepend",
     "outputPrepend",
     "outputPrepend"
    ]
   },
   "outputs": [
    {
     "output_type": "stream",
     "name": "stdout",
     "text": "llenando tanque\nanadiendo jabon\nlavando ropa\ncentrifugar\n"
    }
   ],
   "source": [
    "#abstraccion\n",
    "#forma en como convertimos los conceptos generales en objetos dentro del codigo\n",
    "class Lavadora:\n",
    "    def __init__(self):\n",
    "        pass\n",
    "    def lavar(self,temperatura='caliente'):\n",
    "        self._llenar_tanque(temperatura)\n",
    "        self._jabon()\n",
    "        self._lavar()\n",
    "        self._centrifugar()\n",
    "\n",
    "    def _llenar_tanque(self,temperatura):\n",
    "        print('llenando tanque')\n",
    "\n",
    "    def _jabon(self):\n",
    "        print('anadiendo jabon')\n",
    "\n",
    "    def _lavar(self):\n",
    "        print('lavando ropa')\n",
    "\n",
    "    def _centrifugar(self):\n",
    "        print('centrifugar')\n",
    "        \n",
    "lavadora = Lavadora()\n",
    "lavadora.lavar()"
   ]
  },
  {
   "cell_type": "code",
   "execution_count": 23,
   "metadata": {},
   "outputs": [
    {
     "output_type": "stream",
     "name": "stdout",
     "text": "None\nBogota\n"
    }
   ],
   "source": [
    "#encapsulamiento\n",
    "#gettter an setter\n",
    "#defensive programming\n",
    "class CasillaVotacion:\n",
    "    def __init__(self, indentificador,pais):\n",
    "        self._identificador = indentificador\n",
    "        self._pais = pais\n",
    "        self._region = None\n",
    "    @property\n",
    "    def region(self):\n",
    "        return self._region\n",
    "    @region.setter\n",
    "    def region(self,reg):\n",
    "        if reg in self._pais:\n",
    "            self._region = reg\n",
    "        else:\n",
    "            raise ValueError(f'La region {reg} no es valida en {self._pais}')\n",
    "\n",
    "casilla = CasillaVotacion(123,['Bogota','Medellin'])\n",
    "print(casilla.region)\n",
    "casilla.region = 'Bogota'\n",
    "print(casilla.region)"
   ]
  },
  {
   "cell_type": "code",
   "execution_count": null,
   "metadata": {},
   "outputs": [],
   "source": []
  }
 ]
}