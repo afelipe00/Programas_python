{
 "nbformat": 4,
 "nbformat_minor": 2,
 "metadata": {
  "language_info": {
   "name": "python",
   "codemirror_mode": {
    "name": "ipython",
    "version": 3
   },
   "version": "3.7.5-final"
  },
  "orig_nbformat": 2,
  "file_extension": ".py",
  "mimetype": "text/x-python",
  "name": "python",
  "npconvert_exporter": "python",
  "pygments_lexer": "ipython3",
  "version": 3,
  "kernelspec": {
   "name": "python37564bit0dc79bb492bd44c78f05d4b2f5c90882",
   "display_name": "Python 3.7.5 64-bit"
  }
 },
 "cells": [
  {
   "cell_type": "code",
   "execution_count": 2,
   "metadata": {},
   "outputs": [],
   "source": [
    "import pandas as pd\n",
    "import numpy as np"
   ]
  },
  {
   "cell_type": "markdown",
   "metadata": {},
   "source": [
    "<h1>tipos de objetos</h1>"
   ]
  },
  {
   "cell_type": "markdown",
   "metadata": {},
   "source": [
    "<h3>Series</h3>"
   ]
  },
  {
   "cell_type": "code",
   "execution_count": 6,
   "metadata": {},
   "outputs": [
    {
     "output_type": "stream",
     "name": "stdout",
     "text": "0    1.0\n1    2.0\n2    3.0\n3    4.0\n4    NaN\n5    6.0\n6    8.0\ndtype: float64\n<class 'pandas.core.series.Series'>\n3.0\n"
    }
   ],
   "source": [
    "#Series\n",
    "#atributos series(data=None, index=None, dtype=None, name=None, copy=False, fastpath=False)\n",
    "#es un arreglo unidimensional con etiquetas de eje\n",
    "serie = pd.Series([1,2,3,4,np.nan,6,8])\n",
    "print(serie)\n",
    "print(type(serie))#se imprime el tipo\n",
    "print(serie[2])#es iterable por lo tanto podemos imprimir indices"
   ]
  },
  {
   "cell_type": "code",
   "execution_count": 15,
   "metadata": {},
   "outputs": [
    {
     "output_type": "stream",
     "name": "stdout",
     "text": "0     hm\n1     ou\n2     ln\n3     ad\n4    NaN\ndtype: object\n0     5\n1    12\n2    21\n3    32\ndtype: int64\n0    5.000000\n1    3.000000\n2    2.333333\n3    2.000000\ndtype: float64\n0   -4\n1   -4\n2   -4\n3   -4\ndtype: int64\n"
    }
   ],
   "source": [
    "#operaciones basicas\n",
    "sr1 = pd.Series(['h', 'o','l','a'])\n",
    "sr2 = pd.Series(['m','u','n','d','o'])\n",
    "print(sr1+sr2)#se hace indice a indice\n",
    "sr1 = pd.Series([1,2,3,4])\n",
    "sr2 = pd.Series([5,6,7,8])\n",
    "print(sr1*sr2)#la operacion se hace indice a indice\n",
    "print(sr2/sr1)#la operacion se hace indice a indice\n",
    "print(sr1-sr2)#la operacion se haces indice a indice"
   ]
  },
  {
   "cell_type": "markdown",
   "metadata": {},
   "source": [
    "<h3>Atributos</h3>"
   ]
  },
  {
   "cell_type": "code",
   "execution_count": 59,
   "metadata": {},
   "outputs": [
    {
     "output_type": "stream",
     "name": "stdout",
     "text": "T:\n0     2\n1     4\n2    54\n3    21\n4    54\n5    65\n6    87\ndtype: int64\n\narray: \n<PandasArray>\n[2, 4, 54, 21, 54, 65, 87]\nLength: 7, dtype: int64\n\n at:\n54\n\nattrs:\n{}\n\naxes:\n[RangeIndex(start=0, stop=7, step=1)]\n\ndtype:\nint64\n\nhasnans:\nFalse\n\niat:\n54\n\niloc:\n54\n\nindex:\nRangeIndex(start=0, stop=7, step=1)\n\nismonotic:\nFalse\n\nismonotic_decreasing:\nFalse\n\nisunique:\nFalse\n\nloc:\n54\n\nnbytes:\n56\n\nndim:\n1\n\nshape:\n(7,)\n\nsize:\n7\n\nvalues:\n[ 2  4 54 21 54 65 87]\n"
    }
   ],
   "source": [
    "sr1 = pd.Series([2,4,54,21,54,65,87])\n",
    "print(f'T:\\n{sr1.T}')#devuelve la transposicion que por definicion es self\n",
    "print(f'\\narray: \\n{sr1.array}')#conjunto de datos que componen la serie\n",
    "print(f'\\n at:\\n{sr1.at[2]}')#accede al valor unico recibiendo un par respectivo a (fila y columna)\n",
    "print(f'\\nattrs:\\n{sr1.attrs}')#diccionario de atributos globales en el objeto (METODO EXPERIMENTAL PUEDE TENER CAMBIOS)\n",
    "print(f'\\naxes:\\n{sr1.axes}')#retorna una lista de las etiquetas de las filas\n",
    "print(f'\\ndtype:\\n{sr1.dtype}')#retorna el tipo de los datos que contiene la serie(tambien se puede usar dtypes)\n",
    "print(f'\\nhasnans:\\n{sr1.hasnans}')#devuelve si la serie tiene valores nans\n",
    "print(f'\\niat:\\n{sr1.iat[2]}')#devuelve un valor entero recibiendo un par de enteros de posicion\n",
    "print(f'\\niloc:\\n{sr1.iloc[2]}')#indexación basada en la ubicación para la selección por posición (enteros)\n",
    "print(f'\\nindex:\\n{sr1.index}')#el indice de la serie (etiqueta de los ejes)\n",
    "print(f'\\nismonotic:\\n{sr1.is_monotonic}')#retorna valor booleano que dice si los valores son monoticamente crecientes\n",
    "print(f'\\nismonotic_decreasing:\\n{sr1.is_monotonic_decreasing}')#retorna valor booleano que dice si los valores son monoticamente decrecientes\n",
    "print(f'\\nisunique:\\n{sr1.is_unique}')#retorna valor booleano que dice si los valores de la serie son unicos\n",
    "print(f'\\nloc:\\n{sr1.loc[2]}')#accede a un grupo de filas y columnas por etiquetas\n",
    "print(f'\\nnbytes:\\n{sr1.nbytes}')#retorna el numero de bytes de los datos en la serie\n",
    "print(f'\\nndim:\\n{sr1.ndim}')#retorna el numero de dimensiones\n",
    "print(f'\\nshape:\\n{sr1.shape}')#retorna una tupla con la forma de la serie (en el caso de la serie # valores)\n",
    "print(f'\\nsize:\\n{sr1.size}')#retorna el tamaño de la serie\n",
    "print(f'\\nvalues:\\n{sr1.values}')#retorna una lista con los valores de la serie"
   ]
  },
  {
   "cell_type": "code",
   "execution_count": null,
   "metadata": {},
   "outputs": [],
   "source": []
  }
 ]
}