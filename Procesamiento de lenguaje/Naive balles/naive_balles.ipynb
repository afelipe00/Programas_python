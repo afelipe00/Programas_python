{
 "nbformat": 4,
 "nbformat_minor": 2,
 "metadata": {
  "language_info": {
   "name": "python",
   "codemirror_mode": {
    "name": "ipython",
    "version": 3
   },
   "version": "3.7.5-final"
  },
  "orig_nbformat": 2,
  "file_extension": ".py",
  "mimetype": "text/x-python",
  "name": "python",
  "npconvert_exporter": "python",
  "pygments_lexer": "ipython3",
  "version": 3,
  "kernelspec": {
   "name": "python37564bit0dc79bb492bd44c78f05d4b2f5c90882",
   "display_name": "Python 3.7.5 64-bit"
  }
 },
 "cells": [
  {
   "cell_type": "markdown",
   "metadata": {},
   "source": [
    "<h1>Clasificador de naive balles</h1>"
   ]
  },
  {
   "cell_type": "code",
   "execution_count": 80,
   "metadata": {},
   "outputs": [],
   "source": [
    "import pandas as pd\n",
    "from sklearn.feature_extraction.text import CountVectorizer"
   ]
  },
  {
   "cell_type": "code",
   "execution_count": 81,
   "metadata": {},
   "outputs": [
    {
     "name": "stdout",
     "output_type": "stream",
     "text": "<class 'pandas.core.frame.DataFrame'>\n(5572, 2)\n"
    },
    {
     "data": {
      "text/html": "<div>\n<style scoped>\n    .dataframe tbody tr th:only-of-type {\n        vertical-align: middle;\n    }\n\n    .dataframe tbody tr th {\n        vertical-align: top;\n    }\n\n    .dataframe thead th {\n        text-align: right;\n    }\n</style>\n<table border=\"1\" class=\"dataframe\">\n  <thead>\n    <tr style=\"text-align: right;\">\n      <th></th>\n      <th>label</th>\n      <th>sms_message</th>\n    </tr>\n  </thead>\n  <tbody>\n    <tr>\n      <th>0</th>\n      <td>ham</td>\n      <td>Go until jurong point, crazy.. Available only ...</td>\n    </tr>\n    <tr>\n      <th>1</th>\n      <td>ham</td>\n      <td>Ok lar... Joking wif u oni...</td>\n    </tr>\n    <tr>\n      <th>2</th>\n      <td>spam</td>\n      <td>00 00 Free entry in 2 a wkly comp to win FA Cu...</td>\n    </tr>\n    <tr>\n      <th>3</th>\n      <td>ham</td>\n      <td>U dun say so early hor... U c already then say...</td>\n    </tr>\n    <tr>\n      <th>4</th>\n      <td>ham</td>\n      <td>Nah I don't think he goes to usf, he lives aro...</td>\n    </tr>\n  </tbody>\n</table>\n</div>",
      "text/plain": "  label                                        sms_message\n0   ham  Go until jurong point, crazy.. Available only ...\n1   ham                      Ok lar... Joking wif u oni...\n2  spam  00 00 Free entry in 2 a wkly comp to win FA Cu...\n3   ham  U dun say so early hor... U c already then say...\n4   ham  Nah I don't think he goes to usf, he lives aro..."
     },
     "execution_count": 81,
     "metadata": {},
     "output_type": "execute_result"
    }
   ],
   "source": [
    "#se crea dataframe con la base de datos entregada\n",
    "#un dataframe es una tabla con la capcidad de contener diferentes datos\n",
    "#se crea el dataframe utilizacon la libreria pandas\n",
    "df = pd.read_table('smsspamcollection/SMSSpamCollection',\n",
    "sep = '\\t',\n",
    "header = None,\n",
    "names = ['label', 'sms_message'])\n",
    "print(type(df)) # se imprime el tipo\n",
    "print(df.shape) #su forma (filas, columnas)\n",
    "df.head() #head por defecto imprime las primeras 5 filas"
   ]
  },
  {
   "cell_type": "markdown",
   "metadata": {},
   "source": [
    "se filtra el dataframe en ham y spam"
   ]
  },
  {
   "cell_type": "code",
   "execution_count": 82,
   "metadata": {},
   "outputs": [
    {
     "name": "stdout",
     "output_type": "stream",
     "text": "(4825, 2)\n"
    },
    {
     "data": {
      "text/html": "<div>\n<style scoped>\n    .dataframe tbody tr th:only-of-type {\n        vertical-align: middle;\n    }\n\n    .dataframe tbody tr th {\n        vertical-align: top;\n    }\n\n    .dataframe thead th {\n        text-align: right;\n    }\n</style>\n<table border=\"1\" class=\"dataframe\">\n  <thead>\n    <tr style=\"text-align: right;\">\n      <th></th>\n      <th>label</th>\n      <th>sms_message</th>\n    </tr>\n  </thead>\n  <tbody>\n    <tr>\n      <th>0</th>\n      <td>ham</td>\n      <td>Go until jurong point, crazy.. Available only ...</td>\n    </tr>\n    <tr>\n      <th>1</th>\n      <td>ham</td>\n      <td>Ok lar... Joking wif u oni...</td>\n    </tr>\n    <tr>\n      <th>3</th>\n      <td>ham</td>\n      <td>U dun say so early hor... U c already then say...</td>\n    </tr>\n    <tr>\n      <th>4</th>\n      <td>ham</td>\n      <td>Nah I don't think he goes to usf, he lives aro...</td>\n    </tr>\n    <tr>\n      <th>6</th>\n      <td>ham</td>\n      <td>Even my brother is not like to speak with me. ...</td>\n    </tr>\n  </tbody>\n</table>\n</div>",
      "text/plain": "  label                                        sms_message\n0   ham  Go until jurong point, crazy.. Available only ...\n1   ham                      Ok lar... Joking wif u oni...\n3   ham  U dun say so early hor... U c already then say...\n4   ham  Nah I don't think he goes to usf, he lives aro...\n6   ham  Even my brother is not like to speak with me. ..."
     },
     "execution_count": 82,
     "metadata": {},
     "output_type": "execute_result"
    }
   ],
   "source": [
    "#se crea dataframe de ham\n",
    "in_ham = df['label'] == 'ham'\n",
    "dfh = df[in_ham]\n",
    "print(dfh.shape)\n",
    "dfh.head()"
   ]
  },
  {
   "cell_type": "code",
   "execution_count": 83,
   "metadata": {},
   "outputs": [
    {
     "name": "stdout",
     "output_type": "stream",
     "text": "(747, 2)\n"
    },
    {
     "data": {
      "text/html": "<div>\n<style scoped>\n    .dataframe tbody tr th:only-of-type {\n        vertical-align: middle;\n    }\n\n    .dataframe tbody tr th {\n        vertical-align: top;\n    }\n\n    .dataframe thead th {\n        text-align: right;\n    }\n</style>\n<table border=\"1\" class=\"dataframe\">\n  <thead>\n    <tr style=\"text-align: right;\">\n      <th></th>\n      <th>label</th>\n      <th>sms_message</th>\n    </tr>\n  </thead>\n  <tbody>\n    <tr>\n      <th>2</th>\n      <td>spam</td>\n      <td>00 00 Free entry in 2 a wkly comp to win FA Cu...</td>\n    </tr>\n    <tr>\n      <th>5</th>\n      <td>spam</td>\n      <td>FreeMsg Hey there darling it's been 3 week's n...</td>\n    </tr>\n    <tr>\n      <th>8</th>\n      <td>spam</td>\n      <td>WINNER!! As a valued network customer you have...</td>\n    </tr>\n    <tr>\n      <th>9</th>\n      <td>spam</td>\n      <td>Had your mobile 11 months or more? U R entitle...</td>\n    </tr>\n    <tr>\n      <th>11</th>\n      <td>spam</td>\n      <td>SIX chances to win CASH! From 100 to 20,000 po...</td>\n    </tr>\n  </tbody>\n</table>\n</div>",
      "text/plain": "   label                                        sms_message\n2   spam  00 00 Free entry in 2 a wkly comp to win FA Cu...\n5   spam  FreeMsg Hey there darling it's been 3 week's n...\n8   spam  WINNER!! As a valued network customer you have...\n9   spam  Had your mobile 11 months or more? U R entitle...\n11  spam  SIX chances to win CASH! From 100 to 20,000 po..."
     },
     "execution_count": 83,
     "metadata": {},
     "output_type": "execute_result"
    }
   ],
   "source": [
    "#se crea data frame spam\n",
    "in_spam = df['label'] == 'spam'\n",
    "dfs = df[in_spam]\n",
    "print(dfs.shape)\n",
    "dfs.head()"
   ]
  },
  {
   "cell_type": "markdown",
   "metadata": {},
   "source": [
    "<h2>se construye comdelo de palabras con SKLEARN </h2>"
   ]
  },
  {
   "cell_type": "code",
   "execution_count": 84,
   "metadata": {},
   "outputs": [
    {
     "name": "stdout",
     "output_type": "stream",
     "text": "CountVectorizer(analyzer='word', binary=False, decode_error='strict',\n                dtype=<class 'numpy.int64'>, encoding='utf-8', input='content',\n                lowercase=True, max_df=1.0, max_features=None, min_df=1,\n                ngram_range=(1, 1), preprocessor=None, stop_words=None,\n                strip_accents=None, token_pattern='(?u)\\\\b\\\\w\\\\w+\\\\b',\n                tokenizer=None, vocabulary=None)\n"
    },
    {
     "data": {
      "text/plain": "['00',\n '000',\n '000pes',\n '008704050406',\n '0089',\n '0121',\n '01223585236',\n '01223585334',\n '0125698789',\n '02',\n '0207',\n '02072069400',\n '02073162414',\n '02085076972',\n '021',\n '03',\n '04',\n '0430',\n '05',\n '050703',\n '0578',\n '06',\n '07',\n '07008009200',\n '07046744435',\n '07090201529',\n '07090298926',\n '07099833605',\n '07123456789',\n '0721072',\n '07732584351',\n '07734396839',\n '07742676969',\n '07753741225',\n '0776xxxxxxx',\n '07781482378',\n '07786200117',\n '077xxx',\n '078',\n '07801543489',\n '07808',\n '07808247860',\n '07808726822',\n '07815296484',\n '07821230901',\n '078498',\n '07880867867',\n '0789xxxxxxx',\n '07946746291',\n '0796xxxxxx',\n '07973788240',\n '07xxxxxxxxx',\n '08',\n '0800',\n '08000407165',\n '08000776320',\n '08000839402',\n '08000930705',\n '08000938767',\n '08001950382',\n '08002888812',\n '08002986030',\n '08002986906',\n '08002988890',\n '08006344447',\n '0808',\n '08081263000',\n '08081560665',\n '0825',\n '083',\n '0844',\n '08448350055',\n '08448714184',\n '0845',\n '08450542832',\n '08452810071',\n '08452810073',\n '08452810075over18',\n '0870',\n '08700435505150p',\n '08700469649',\n '08700621170150p',\n '08701213186',\n '08701237397',\n '08701417012',\n '08701417012150p',\n '0870141701216',\n '087016248',\n '08701752560',\n '087018728737',\n '0870241182716',\n '08702490080',\n '08702840625',\n '08704050406',\n '08704439680',\n '08704439680ts',\n '08706091795',\n '0870737910216yrs',\n '08707500020',\n '08707509020',\n '0870753331018',\n '08707808226',\n '08708034412',\n '08708800282',\n '08709222922',\n '08709501522',\n '0871',\n '087104711148',\n '08712101358',\n '08712103738',\n '0871212025016',\n '08712300220',\n '087123002209am',\n '08712317606',\n '08712400200',\n '08712400602450p',\n '08712400603',\n '08712402050',\n '08712402578',\n '08712402779',\n '08712402902',\n '08712402972',\n '08712404000',\n '08712405020',\n '08712405022',\n '08712460324',\n '08712466669',\n '0871277810710p',\n '0871277810810',\n '0871277810910p',\n '08714342399',\n '087147123779am',\n '08714712379',\n '08714712388',\n '08714712394',\n '08714712412',\n '08714714011',\n '08715203028',\n '08715203649',\n '08715203652',\n '08715203656',\n '08715203677',\n '08715203685',\n '08715203694',\n '08715205273',\n '08715500022',\n '08715705022',\n '08717111821',\n '08717168528',\n '08717205546',\n '0871750',\n '08717507382',\n '08717509990',\n '08717890890',\n '08717895698',\n '08717898035',\n '08718711108',\n '08718720201',\n '08718723815',\n '08718725756',\n '08718726270',\n '087187262701',\n '08718726970',\n '08718726971',\n '08718726978',\n '087187272008',\n '08718727868',\n '08718727870',\n '08718727870150ppm',\n '08718730555',\n '08718730666',\n '08718738001',\n '08718738002',\n '08718738034',\n '08719180219',\n '08719180248',\n '08719181259',\n '08719181503',\n '08719181513',\n '08719839835',\n '08719899217',\n '08719899229',\n '08719899230',\n '09',\n '09041940223',\n '09050000301',\n '09050000332',\n '09050000460',\n '09050000555',\n '09050000878',\n '09050000928',\n '09050001295',\n '09050001808',\n '09050002311',\n '09050003091',\n '09050005321',\n '09050090044',\n '09050280520',\n '09053750005',\n '09056242159',\n '09057039994',\n '09058091854',\n '09058091870',\n '09058094454',\n '09058094455',\n '09058094507',\n '09058094565',\n '09058094583',\n '09058094594',\n '09058094597',\n '09058094599',\n '09058095107',\n '09058095201',\n '09058097189',\n '09058097218',\n '09058098002',\n '09058099801',\n '09061104276',\n '09061104283',\n '09061209465',\n '09061213237',\n '09061221061',\n '09061221066',\n '09061701444',\n '09061701461',\n '09061701851',\n '09061701939',\n '09061702893',\n '09061743386',\n '09061743806',\n '09061743810',\n '09061743811',\n '09061744553',\n '09061749602',\n '09061790121',\n '09061790125',\n '09061790126',\n '09063440451',\n '09063442151',\n '09063458130',\n '0906346330',\n '09064011000',\n '09064012103',\n '09064012160',\n '09064015307',\n '09064017295',\n '09064017305',\n '09064018838',\n '09064019014',\n '09064019788',\n '09065069120',\n '09065069154',\n '09065171142',\n '09065174042',\n '09065394514',\n '09065394973',\n '09065989180',\n '09065989182',\n '09066350750',\n '09066358152',\n '09066358361',\n '09066361921',\n '09066362206',\n '09066362220',\n '09066362231',\n '09066364311',\n '09066364349',\n '09066364589',\n '09066368327',\n '09066368470',\n '09066368753',\n '09066380611',\n '09066382422',\n '09066612661',\n '09066649731from',\n '09066660100',\n '09071512432',\n '09071512433',\n '09071517866',\n '09077818151',\n '09090204448',\n '09090900040',\n '09094100151',\n '09094646631',\n '09094646899',\n '09095350301',\n '09096102316',\n '09099725823',\n '09099726395',\n '09099726429',\n '09099726481',\n '09099726553',\n '09111030116',\n '09111032124',\n '09701213186',\n '0a',\n '0quit',\n '10',\n '100',\n '1000',\n '1000call',\n '1000s',\n '100p',\n '100percent',\n '100txt',\n '1013',\n '1030',\n '10am',\n '10k',\n '10p',\n '10ppm',\n '10th',\n '11',\n '1120',\n '113',\n '1131',\n '114',\n '1146',\n '116',\n '1172',\n '118p',\n '11mths',\n '11pm',\n '12',\n '1205',\n '120p',\n '121',\n '1225',\n '123',\n '125',\n '1250',\n '125gift',\n '128',\n '12hours',\n '12hrs',\n '12mths',\n '13',\n '130',\n '1327',\n '139',\n '14',\n '140',\n '1405',\n '140ppm',\n '145',\n '1450',\n '146tf150p',\n '14tcr',\n '14thmarch',\n '15',\n '150',\n '1500',\n '150p',\n '150p16',\n '150pm',\n '150ppermesssubscription',\n '150ppm',\n '150ppmpobox10183bhamb64xe',\n '150ppmsg',\n '150pw',\n '151',\n '153',\n '15541',\n '15pm',\n '16',\n '165',\n '1680',\n '169',\n '177',\n '18',\n '180',\n '1843',\n '18p',\n '18yrs',\n '195',\n '1956669',\n '1apple',\n '1b6a5ecef91ff9',\n '1cup',\n '1da',\n '1er',\n '1hr',\n '1im',\n '1lemon',\n '1mega',\n '1million',\n '1pm',\n '1st',\n '1st4terms',\n '1stchoice',\n '1stone',\n '1thing',\n '1tulsi',\n '1win150ppmx3',\n '1winaweek',\n '1winawk',\n '1x150p',\n '1yf',\n '20',\n '200',\n '2000',\n '2003',\n '2004',\n '2005',\n '2006',\n '2007',\n '200p',\n '2025050',\n '20m12aq',\n '20p',\n '21',\n '21870000',\n '21st',\n '22',\n '220',\n '220cm2',\n '2309',\n '23f',\n '23g',\n '24',\n '24hrs',\n '24m',\n '24th',\n '25',\n '250',\n '250k',\n '255',\n '25p',\n '26',\n '2667',\n '26th',\n '27',\n '28',\n '2814032',\n '28days',\n '28th',\n '28thfeb',\n '29',\n '2b',\n '2bold',\n '2c',\n '2channel',\n '2day',\n '2docd',\n '2end',\n '2exit',\n '2ez',\n '2find',\n '2getha',\n '2geva',\n '2go',\n '2gthr',\n '2hook',\n '2hrs',\n '2i',\n '2kbsubject',\n '2lands',\n '2marrow',\n '2moro',\n '2morow',\n '2morro',\n '2morrow',\n '2morrowxxxx',\n '2mro',\n '2mrw',\n '2mwen',\n '2nd',\n '2nhite',\n '2nights',\n '2nite',\n '2optout',\n '2p',\n '2price',\n '2px',\n '2rcv',\n '2stop',\n '2stoptx',\n '2stoptxt',\n '2u',\n '2u2',\n '2watershd',\n '2waxsto',\n '2wks',\n '2wt',\n '2wu',\n '2years',\n '2yr',\n '2yrs',\n '30',\n '300',\n '3000',\n '300603',\n '300603t',\n '300p',\n '3030',\n '30apr',\n '30ish',\n '30pm',\n '30pp',\n '30s',\n '30th',\n '31',\n '3100',\n '310303',\n '31p',\n '32',\n '32000',\n '3230',\n '32323',\n '326',\n '33',\n '330',\n '350',\n '3510i',\n '35p',\n '3650',\n '36504',\n '3680',\n '373',\n '3750',\n '37819',\n '38',\n '382',\n '391784',\n '3aj',\n '3d',\n '3days',\n '3g',\n '3gbp',\n '3hrs',\n '3lions',\n '3lp',\n '3miles',\n '3mins',\n '3mobile',\n '3optical',\n '3pound',\n '3qxj9',\n '3rd',\n '3ss',\n '3uz',\n '3wks',\n '3x',\n '3xx',\n '40',\n '400',\n '400mins',\n '400thousad',\n '402',\n '4041',\n '40411',\n '40533',\n '40gb',\n '40mph',\n '41685',\n '41782',\n '420',\n '42049',\n '4217',\n '42478',\n '42810',\n '430',\n '434',\n '44',\n '440',\n '4403ldnw1a7rw18',\n '44345',\n '447797706009',\n '447801259231',\n '448712404000',\n '449050000301',\n '449071512431',\n '45',\n '450',\n '450p',\n '450ppw',\n '450pw',\n '45239',\n '45pm',\n '47',\n '4719',\n '4742',\n '47per',\n '48',\n '4882',\n '48922',\n '49',\n '49557',\n '4a',\n '4brekkie',\n '4d',\n '4eva',\n '4few',\n '4fil',\n '4get',\n '4give',\n '4got',\n '4goten',\n '4info',\n '4jx',\n '4msgs',\n '4mths',\n '4my',\n '4qf2',\n '4t',\n '4th',\n '4the',\n '4thnov',\n '4txt',\n '4u',\n '4utxt',\n '4w',\n '4ward',\n '4wrd',\n '4xx26',\n '4years',\n '50',\n '500',\n '5000',\n '505060',\n '50award',\n '50ea',\n '50gbp',\n '50p',\n '50perweeksub',\n '50perwksub',\n '50pm',\n '50pmmorefrommobile2bremoved',\n '50ppm',\n '50rcvd',\n '50s',\n '515',\n '5226',\n '523',\n '5249',\n '526',\n '528',\n '530',\n '54',\n '542',\n '545',\n '5digital',\n '5free',\n '5ish',\n '5k',\n '5min',\n '5mls',\n '5p',\n '5pm',\n '5th',\n '5wb',\n '5we',\n '5wkg',\n '5wq',\n '5years',\n '60',\n '600',\n '6031',\n '6089',\n '60p',\n '61',\n '61200',\n '61610',\n '62220cncl',\n '6230',\n '62468',\n '62735',\n '630',\n '63miles',\n '645',\n '65',\n '650',\n '66',\n '6669',\n '674',\n '67441233',\n '68866',\n '69101',\n '69200',\n '69669',\n '69696',\n '69698',\n '69855',\n '69866',\n '69876',\n '69888',\n '69888nyt',\n '69911',\n '69969',\n '69988',\n '6days',\n '6hl',\n '6hrs',\n '6ish',\n '6missed',\n '6months',\n '6ph',\n '6pm',\n '6th',\n '6times',\n '6wu',\n '6zf',\n '700',\n '71',\n '7250',\n '7250i',\n '730',\n '731',\n '74355',\n '75',\n '750',\n '7548',\n '75max',\n '762',\n '7634',\n '7684',\n '77',\n '7732584351',\n '78',\n '786',\n '7876150ppm',\n '79',\n '7am',\n '7cfca1a',\n '7ish',\n '7mp',\n '7oz',\n '7pm',\n '7th',\n '7ws',\n '7zs',\n '80',\n '800',\n '8000930705',\n '80062',\n '8007',\n '80082',\n '80086',\n '80122300p',\n '80155',\n '80160',\n '80182',\n '8027',\n '80488',\n '80608',\n '8077',\n '80878',\n '81010',\n '81151',\n '81303',\n '81618',\n '82050',\n '820554ad0a1705572711',\n '82242',\n '82277',\n '82324',\n '82468',\n '83021',\n '83039',\n '83049',\n '83110',\n '83118',\n '83222',\n '83332',\n '83338',\n '83355',\n '83370',\n '83383',\n '83435',\n '83600',\n '83738',\n '84',\n '84025',\n '84122',\n '84128',\n '84199',\n '84484',\n '85',\n '850',\n '85023',\n '85069',\n '85222',\n '85233',\n '8552',\n '85555',\n '86021',\n '861',\n '864233',\n '86688',\n '86888',\n '87021',\n '87066',\n '87070',\n '87077',\n '87121',\n '87131',\n '8714714',\n '872',\n '87239',\n '87575',\n '8800',\n '88039',\n '88066',\n '88088',\n '88222',\n '88600',\n '88800',\n '8883',\n '88877',\n '88888',\n '89034',\n '89070',\n '89080',\n '89105',\n '89123',\n '89545',\n '89555',\n '89693',\n '89938',\n '8am',\n '8ball',\n '8lb',\n '8p',\n '8pm',\n '8th',\n '8wp',\n '900',\n '9061100010',\n '910',\n '9153',\n '9280114',\n '92h',\n '930',\n '9307622',\n '945',\n '946',\n '95',\n '9755',\n '9758',\n '97n7qp',\n '98321561',\n '99',\n '9996',\n '9ae',\n '9am',\n '9ja',\n '9pm',\n '9t',\n '9th',\n '9yt',\n '____',\n 'a21',\n 'a30',\n 'aa',\n 'aah',\n 'aaniye',\n 'aaooooright',\n 'aathi',\n 'ab',\n 'abbey',\n 'abdomen',\n 'abeg',\n 'abel',\n 'aberdeen',\n 'abi',\n 'ability',\n 'abiola',\n 'abj',\n 'able',\n 'abnormally',\n 'about',\n 'aboutas',\n 'above',\n 'abroad',\n 'absence',\n 'absolutely',\n 'absolutly',\n 'abstract',\n 'abt',\n 'abta',\n 'aburo',\n 'abuse',\n 'abusers',\n 'ac',\n 'academic',\n 'acc',\n 'accent',\n 'accenture',\n 'accept',\n 'access',\n 'accessible',\n 'accidant',\n 'accident',\n 'accidentally',\n 'accommodation',\n 'accommodationvouchers',\n 'accomodate',\n 'accomodations',\n 'accordin',\n 'accordingly',\n 'account',\n 'accounting',\n 'accounts',\n 'accumulation',\n 'achan',\n 'ache',\n 'achieve',\n 'acid',\n 'acknowledgement',\n 'acl03530150pm',\n 'acnt',\n 'aco',\n 'across',\n 'act',\n 'acted',\n 'actin',\n 'acting',\n 'action',\n 'activ8',\n 'activate',\n 'active',\n 'activities',\n 'actor',\n 'actual',\n 'actually',\n 'ad',\n 'adam',\n 'add',\n 'addamsfa',\n 'added',\n 'addicted',\n 'addie',\n 'adding',\n 'address',\n 'adds',\n 'adewale',\n 'adi',\n 'adjustable',\n 'admin',\n 'administrator',\n 'admirer',\n 'admission',\n 'admit',\n 'adore',\n 'adoring',\n 'adp',\n 'adress',\n 'adrian',\n 'adrink',\n 'ads',\n 'adsense',\n 'adult',\n 'adults',\n 'advance',\n 'adventure',\n 'adventuring',\n 'advice',\n 'advise',\n 'advising',\n 'advisors',\n 'aeronautics',\n 'aeroplane',\n 'afew',\n 'affair',\n 'affairs',\n 'affection',\n 'affectionate',\n 'affections',\n 'affidavit',\n 'afford',\n 'afghanistan',\n 'afraid',\n 'africa',\n 'african',\n 'aft',\n 'after',\n 'afternon',\n 'afternoon',\n 'afternoons',\n 'afterwards',\n 'aftr',\n 'ag',\n 'again',\n 'against',\n 'agalla',\n 'age',\n 'age16',\n 'age23',\n 'agency',\n 'agent',\n 'agents',\n 'ages',\n 'agidhane',\n 'aging',\n 'ago',\n 'agree',\n 'ah',\n 'aha',\n 'ahead',\n 'ahhh',\n ...]"
     },
     "execution_count": 84,
     "metadata": {},
     "output_type": "execute_result"
    }
   ],
   "source": [
    "#se crea vocabulario de el corpus\n",
    "count_vector = CountVectorizer()\n",
    "print(count_vector)\n",
    "count_vector.fit(df['sms_message'])\n",
    "count_vector.get_feature_names()"
   ]
  },
  {
   "cell_type": "code",
   "execution_count": 85,
   "metadata": {},
   "outputs": [
    {
     "data": {
      "text/html": "<div>\n<style scoped>\n    .dataframe tbody tr th:only-of-type {\n        vertical-align: middle;\n    }\n\n    .dataframe tbody tr th {\n        vertical-align: top;\n    }\n\n    .dataframe thead th {\n        text-align: right;\n    }\n</style>\n<table border=\"1\" class=\"dataframe\">\n  <thead>\n    <tr style=\"text-align: right;\">\n      <th></th>\n      <th>00</th>\n      <th>000</th>\n      <th>000pes</th>\n      <th>008704050406</th>\n      <th>0089</th>\n      <th>0121</th>\n      <th>01223585236</th>\n      <th>01223585334</th>\n      <th>0125698789</th>\n      <th>02</th>\n      <th>...</th>\n      <th>zhong</th>\n      <th>zindgi</th>\n      <th>zoe</th>\n      <th>zogtorius</th>\n      <th>zoom</th>\n      <th>zouk</th>\n      <th>zyada</th>\n      <th>èn</th>\n      <th>ú1</th>\n      <th>〨ud</th>\n    </tr>\n  </thead>\n  <tbody>\n    <tr>\n      <th>0</th>\n      <td>2</td>\n      <td>0</td>\n      <td>0</td>\n      <td>0</td>\n      <td>0</td>\n      <td>0</td>\n      <td>0</td>\n      <td>0</td>\n      <td>0</td>\n      <td>0</td>\n      <td>...</td>\n      <td>0</td>\n      <td>0</td>\n      <td>0</td>\n      <td>0</td>\n      <td>0</td>\n      <td>0</td>\n      <td>0</td>\n      <td>0</td>\n      <td>0</td>\n      <td>0</td>\n    </tr>\n    <tr>\n      <th>1</th>\n      <td>0</td>\n      <td>0</td>\n      <td>0</td>\n      <td>0</td>\n      <td>0</td>\n      <td>0</td>\n      <td>0</td>\n      <td>0</td>\n      <td>0</td>\n      <td>0</td>\n      <td>...</td>\n      <td>0</td>\n      <td>0</td>\n      <td>0</td>\n      <td>0</td>\n      <td>0</td>\n      <td>0</td>\n      <td>0</td>\n      <td>0</td>\n      <td>0</td>\n      <td>0</td>\n    </tr>\n    <tr>\n      <th>2</th>\n      <td>0</td>\n      <td>0</td>\n      <td>0</td>\n      <td>0</td>\n      <td>0</td>\n      <td>0</td>\n      <td>0</td>\n      <td>0</td>\n      <td>0</td>\n      <td>0</td>\n      <td>...</td>\n      <td>0</td>\n      <td>0</td>\n      <td>0</td>\n      <td>0</td>\n      <td>0</td>\n      <td>0</td>\n      <td>0</td>\n      <td>0</td>\n      <td>0</td>\n      <td>0</td>\n    </tr>\n    <tr>\n      <th>3</th>\n      <td>0</td>\n      <td>0</td>\n      <td>0</td>\n      <td>0</td>\n      <td>0</td>\n      <td>0</td>\n      <td>0</td>\n      <td>0</td>\n      <td>0</td>\n      <td>0</td>\n      <td>...</td>\n      <td>0</td>\n      <td>0</td>\n      <td>0</td>\n      <td>0</td>\n      <td>0</td>\n      <td>0</td>\n      <td>0</td>\n      <td>0</td>\n      <td>0</td>\n      <td>0</td>\n    </tr>\n    <tr>\n      <th>4</th>\n      <td>0</td>\n      <td>1</td>\n      <td>0</td>\n      <td>0</td>\n      <td>0</td>\n      <td>0</td>\n      <td>0</td>\n      <td>0</td>\n      <td>0</td>\n      <td>0</td>\n      <td>...</td>\n      <td>0</td>\n      <td>0</td>\n      <td>0</td>\n      <td>0</td>\n      <td>0</td>\n      <td>0</td>\n      <td>0</td>\n      <td>0</td>\n      <td>0</td>\n      <td>0</td>\n    </tr>\n    <tr>\n      <th>...</th>\n      <td>...</td>\n      <td>...</td>\n      <td>...</td>\n      <td>...</td>\n      <td>...</td>\n      <td>...</td>\n      <td>...</td>\n      <td>...</td>\n      <td>...</td>\n      <td>...</td>\n      <td>...</td>\n      <td>...</td>\n      <td>...</td>\n      <td>...</td>\n      <td>...</td>\n      <td>...</td>\n      <td>...</td>\n      <td>...</td>\n      <td>...</td>\n      <td>...</td>\n      <td>...</td>\n    </tr>\n    <tr>\n      <th>742</th>\n      <td>0</td>\n      <td>0</td>\n      <td>0</td>\n      <td>0</td>\n      <td>0</td>\n      <td>0</td>\n      <td>0</td>\n      <td>0</td>\n      <td>0</td>\n      <td>0</td>\n      <td>...</td>\n      <td>0</td>\n      <td>0</td>\n      <td>0</td>\n      <td>0</td>\n      <td>0</td>\n      <td>0</td>\n      <td>0</td>\n      <td>0</td>\n      <td>0</td>\n      <td>0</td>\n    </tr>\n    <tr>\n      <th>743</th>\n      <td>0</td>\n      <td>0</td>\n      <td>0</td>\n      <td>0</td>\n      <td>0</td>\n      <td>0</td>\n      <td>0</td>\n      <td>0</td>\n      <td>0</td>\n      <td>0</td>\n      <td>...</td>\n      <td>0</td>\n      <td>0</td>\n      <td>0</td>\n      <td>0</td>\n      <td>0</td>\n      <td>0</td>\n      <td>0</td>\n      <td>0</td>\n      <td>0</td>\n      <td>0</td>\n    </tr>\n    <tr>\n      <th>744</th>\n      <td>0</td>\n      <td>0</td>\n      <td>0</td>\n      <td>0</td>\n      <td>0</td>\n      <td>0</td>\n      <td>0</td>\n      <td>0</td>\n      <td>0</td>\n      <td>0</td>\n      <td>...</td>\n      <td>0</td>\n      <td>0</td>\n      <td>0</td>\n      <td>0</td>\n      <td>0</td>\n      <td>0</td>\n      <td>0</td>\n      <td>0</td>\n      <td>0</td>\n      <td>0</td>\n    </tr>\n    <tr>\n      <th>745</th>\n      <td>0</td>\n      <td>0</td>\n      <td>0</td>\n      <td>0</td>\n      <td>0</td>\n      <td>0</td>\n      <td>0</td>\n      <td>0</td>\n      <td>0</td>\n      <td>0</td>\n      <td>...</td>\n      <td>0</td>\n      <td>0</td>\n      <td>0</td>\n      <td>0</td>\n      <td>0</td>\n      <td>0</td>\n      <td>0</td>\n      <td>0</td>\n      <td>0</td>\n      <td>0</td>\n    </tr>\n    <tr>\n      <th>746</th>\n      <td>0</td>\n      <td>0</td>\n      <td>0</td>\n      <td>0</td>\n      <td>0</td>\n      <td>0</td>\n      <td>0</td>\n      <td>0</td>\n      <td>0</td>\n      <td>0</td>\n      <td>...</td>\n      <td>0</td>\n      <td>0</td>\n      <td>0</td>\n      <td>0</td>\n      <td>0</td>\n      <td>0</td>\n      <td>0</td>\n      <td>0</td>\n      <td>0</td>\n      <td>0</td>\n    </tr>\n  </tbody>\n</table>\n<p>747 rows × 8713 columns</p>\n</div>",
      "text/plain": "     00  000  000pes  008704050406  0089  0121  01223585236  01223585334  \\\n0     2    0       0             0     0     0            0            0   \n1     0    0       0             0     0     0            0            0   \n2     0    0       0             0     0     0            0            0   \n3     0    0       0             0     0     0            0            0   \n4     0    1       0             0     0     0            0            0   \n..   ..  ...     ...           ...   ...   ...          ...          ...   \n742   0    0       0             0     0     0            0            0   \n743   0    0       0             0     0     0            0            0   \n744   0    0       0             0     0     0            0            0   \n745   0    0       0             0     0     0            0            0   \n746   0    0       0             0     0     0            0            0   \n\n     0125698789  02  ...  zhong  zindgi  zoe  zogtorius  zoom  zouk  zyada  \\\n0             0   0  ...      0       0    0          0     0     0      0   \n1             0   0  ...      0       0    0          0     0     0      0   \n2             0   0  ...      0       0    0          0     0     0      0   \n3             0   0  ...      0       0    0          0     0     0      0   \n4             0   0  ...      0       0    0          0     0     0      0   \n..          ...  ..  ...    ...     ...  ...        ...   ...   ...    ...   \n742           0   0  ...      0       0    0          0     0     0      0   \n743           0   0  ...      0       0    0          0     0     0      0   \n744           0   0  ...      0       0    0          0     0     0      0   \n745           0   0  ...      0       0    0          0     0     0      0   \n746           0   0  ...      0       0    0          0     0     0      0   \n\n     èn  ú1  〨ud  \n0     0   0    0  \n1     0   0    0  \n2     0   0    0  \n3     0   0    0  \n4     0   0    0  \n..   ..  ..  ...  \n742   0   0    0  \n743   0   0    0  \n744   0   0    0  \n745   0   0    0  \n746   0   0    0  \n\n[747 rows x 8713 columns]"
     },
     "execution_count": 85,
     "metadata": {},
     "output_type": "execute_result"
    }
   ],
   "source": [
    "#matriz termino documento spam\n",
    "arreglo_spam = count_vector.transform(dfs['sms_message']).toarray()\n",
    "arreglo_spam\n",
    "mat_spam_rep = pd.DataFrame(arreglo_spam,columns=count_vector.get_feature_names())\n",
    "mat_spam_rep"
   ]
  },
  {
   "cell_type": "code",
   "execution_count": 86,
   "metadata": {},
   "outputs": [
    {
     "data": {
      "text/html": "<div>\n<style scoped>\n    .dataframe tbody tr th:only-of-type {\n        vertical-align: middle;\n    }\n\n    .dataframe tbody tr th {\n        vertical-align: top;\n    }\n\n    .dataframe thead th {\n        text-align: right;\n    }\n</style>\n<table border=\"1\" class=\"dataframe\">\n  <thead>\n    <tr style=\"text-align: right;\">\n      <th></th>\n      <th>00</th>\n      <th>000</th>\n      <th>000pes</th>\n      <th>008704050406</th>\n      <th>0089</th>\n      <th>0121</th>\n      <th>01223585236</th>\n      <th>01223585334</th>\n      <th>0125698789</th>\n      <th>02</th>\n      <th>...</th>\n      <th>zhong</th>\n      <th>zindgi</th>\n      <th>zoe</th>\n      <th>zogtorius</th>\n      <th>zoom</th>\n      <th>zouk</th>\n      <th>zyada</th>\n      <th>èn</th>\n      <th>ú1</th>\n      <th>〨ud</th>\n    </tr>\n  </thead>\n  <tbody>\n    <tr>\n      <th>0</th>\n      <td>0</td>\n      <td>0</td>\n      <td>0</td>\n      <td>0</td>\n      <td>0</td>\n      <td>0</td>\n      <td>0</td>\n      <td>0</td>\n      <td>0</td>\n      <td>0</td>\n      <td>...</td>\n      <td>0</td>\n      <td>0</td>\n      <td>0</td>\n      <td>0</td>\n      <td>0</td>\n      <td>0</td>\n      <td>0</td>\n      <td>0</td>\n      <td>0</td>\n      <td>0</td>\n    </tr>\n    <tr>\n      <th>1</th>\n      <td>0</td>\n      <td>0</td>\n      <td>0</td>\n      <td>0</td>\n      <td>0</td>\n      <td>0</td>\n      <td>0</td>\n      <td>0</td>\n      <td>0</td>\n      <td>0</td>\n      <td>...</td>\n      <td>0</td>\n      <td>0</td>\n      <td>0</td>\n      <td>0</td>\n      <td>0</td>\n      <td>0</td>\n      <td>0</td>\n      <td>0</td>\n      <td>0</td>\n      <td>0</td>\n    </tr>\n    <tr>\n      <th>2</th>\n      <td>0</td>\n      <td>0</td>\n      <td>0</td>\n      <td>0</td>\n      <td>0</td>\n      <td>0</td>\n      <td>0</td>\n      <td>0</td>\n      <td>0</td>\n      <td>0</td>\n      <td>...</td>\n      <td>0</td>\n      <td>0</td>\n      <td>0</td>\n      <td>0</td>\n      <td>0</td>\n      <td>0</td>\n      <td>0</td>\n      <td>0</td>\n      <td>0</td>\n      <td>0</td>\n    </tr>\n    <tr>\n      <th>3</th>\n      <td>0</td>\n      <td>0</td>\n      <td>0</td>\n      <td>0</td>\n      <td>0</td>\n      <td>0</td>\n      <td>0</td>\n      <td>0</td>\n      <td>0</td>\n      <td>0</td>\n      <td>...</td>\n      <td>0</td>\n      <td>0</td>\n      <td>0</td>\n      <td>0</td>\n      <td>0</td>\n      <td>0</td>\n      <td>0</td>\n      <td>0</td>\n      <td>0</td>\n      <td>0</td>\n    </tr>\n    <tr>\n      <th>4</th>\n      <td>0</td>\n      <td>0</td>\n      <td>0</td>\n      <td>0</td>\n      <td>0</td>\n      <td>0</td>\n      <td>0</td>\n      <td>0</td>\n      <td>0</td>\n      <td>0</td>\n      <td>...</td>\n      <td>0</td>\n      <td>0</td>\n      <td>0</td>\n      <td>0</td>\n      <td>0</td>\n      <td>0</td>\n      <td>0</td>\n      <td>0</td>\n      <td>0</td>\n      <td>0</td>\n    </tr>\n    <tr>\n      <th>...</th>\n      <td>...</td>\n      <td>...</td>\n      <td>...</td>\n      <td>...</td>\n      <td>...</td>\n      <td>...</td>\n      <td>...</td>\n      <td>...</td>\n      <td>...</td>\n      <td>...</td>\n      <td>...</td>\n      <td>...</td>\n      <td>...</td>\n      <td>...</td>\n      <td>...</td>\n      <td>...</td>\n      <td>...</td>\n      <td>...</td>\n      <td>...</td>\n      <td>...</td>\n      <td>...</td>\n    </tr>\n    <tr>\n      <th>4820</th>\n      <td>0</td>\n      <td>0</td>\n      <td>0</td>\n      <td>0</td>\n      <td>0</td>\n      <td>0</td>\n      <td>0</td>\n      <td>0</td>\n      <td>0</td>\n      <td>0</td>\n      <td>...</td>\n      <td>0</td>\n      <td>0</td>\n      <td>0</td>\n      <td>0</td>\n      <td>0</td>\n      <td>0</td>\n      <td>0</td>\n      <td>0</td>\n      <td>0</td>\n      <td>0</td>\n    </tr>\n    <tr>\n      <th>4821</th>\n      <td>0</td>\n      <td>0</td>\n      <td>0</td>\n      <td>0</td>\n      <td>0</td>\n      <td>0</td>\n      <td>0</td>\n      <td>0</td>\n      <td>0</td>\n      <td>0</td>\n      <td>...</td>\n      <td>0</td>\n      <td>0</td>\n      <td>0</td>\n      <td>0</td>\n      <td>0</td>\n      <td>0</td>\n      <td>0</td>\n      <td>0</td>\n      <td>0</td>\n      <td>0</td>\n    </tr>\n    <tr>\n      <th>4822</th>\n      <td>0</td>\n      <td>0</td>\n      <td>0</td>\n      <td>0</td>\n      <td>0</td>\n      <td>0</td>\n      <td>0</td>\n      <td>0</td>\n      <td>0</td>\n      <td>0</td>\n      <td>...</td>\n      <td>0</td>\n      <td>0</td>\n      <td>0</td>\n      <td>0</td>\n      <td>0</td>\n      <td>0</td>\n      <td>0</td>\n      <td>0</td>\n      <td>0</td>\n      <td>0</td>\n    </tr>\n    <tr>\n      <th>4823</th>\n      <td>0</td>\n      <td>0</td>\n      <td>0</td>\n      <td>0</td>\n      <td>0</td>\n      <td>0</td>\n      <td>0</td>\n      <td>0</td>\n      <td>0</td>\n      <td>0</td>\n      <td>...</td>\n      <td>0</td>\n      <td>0</td>\n      <td>0</td>\n      <td>0</td>\n      <td>0</td>\n      <td>0</td>\n      <td>0</td>\n      <td>0</td>\n      <td>0</td>\n      <td>0</td>\n    </tr>\n    <tr>\n      <th>4824</th>\n      <td>0</td>\n      <td>0</td>\n      <td>0</td>\n      <td>0</td>\n      <td>0</td>\n      <td>0</td>\n      <td>0</td>\n      <td>0</td>\n      <td>0</td>\n      <td>0</td>\n      <td>...</td>\n      <td>0</td>\n      <td>0</td>\n      <td>0</td>\n      <td>0</td>\n      <td>0</td>\n      <td>0</td>\n      <td>0</td>\n      <td>0</td>\n      <td>0</td>\n      <td>0</td>\n    </tr>\n  </tbody>\n</table>\n<p>4825 rows × 8713 columns</p>\n</div>",
      "text/plain": "      00  000  000pes  008704050406  0089  0121  01223585236  01223585334  \\\n0      0    0       0             0     0     0            0            0   \n1      0    0       0             0     0     0            0            0   \n2      0    0       0             0     0     0            0            0   \n3      0    0       0             0     0     0            0            0   \n4      0    0       0             0     0     0            0            0   \n...   ..  ...     ...           ...   ...   ...          ...          ...   \n4820   0    0       0             0     0     0            0            0   \n4821   0    0       0             0     0     0            0            0   \n4822   0    0       0             0     0     0            0            0   \n4823   0    0       0             0     0     0            0            0   \n4824   0    0       0             0     0     0            0            0   \n\n      0125698789  02  ...  zhong  zindgi  zoe  zogtorius  zoom  zouk  zyada  \\\n0              0   0  ...      0       0    0          0     0     0      0   \n1              0   0  ...      0       0    0          0     0     0      0   \n2              0   0  ...      0       0    0          0     0     0      0   \n3              0   0  ...      0       0    0          0     0     0      0   \n4              0   0  ...      0       0    0          0     0     0      0   \n...          ...  ..  ...    ...     ...  ...        ...   ...   ...    ...   \n4820           0   0  ...      0       0    0          0     0     0      0   \n4821           0   0  ...      0       0    0          0     0     0      0   \n4822           0   0  ...      0       0    0          0     0     0      0   \n4823           0   0  ...      0       0    0          0     0     0      0   \n4824           0   0  ...      0       0    0          0     0     0      0   \n\n      èn  ú1  〨ud  \n0      0   0    0  \n1      0   0    0  \n2      0   0    0  \n3      0   0    0  \n4      0   0    0  \n...   ..  ..  ...  \n4820   0   0    0  \n4821   0   0    0  \n4822   0   0    0  \n4823   0   0    0  \n4824   0   0    0  \n\n[4825 rows x 8713 columns]"
     },
     "execution_count": 86,
     "metadata": {},
     "output_type": "execute_result"
    }
   ],
   "source": [
    "#matriz termino documento ham\n",
    "arreglo_ham = count_vector.transform(dfh['sms_message']).toarray()\n",
    "mat_ham_rep = pd.DataFrame(arreglo_ham,columns=count_vector.get_feature_names())\n",
    "mat_ham_rep"
   ]
  },
  {
   "cell_type": "markdown",
   "metadata": {},
   "source": [
    "<h1>se crea modelo de entrenamiento</h1>"
   ]
  },
  {
   "cell_type": "code",
   "execution_count": 87,
   "metadata": {},
   "outputs": [
    {
     "name": "stdout",
     "output_type": "stream",
     "text": "0.13406317300789664\n"
    }
   ],
   "source": [
    "#probabilidad p(spam)\n",
    "dict_probabiliti = dict()\n",
    "dict_probabiliti['spam'] = len(dfs.index) / len(df.index)\n",
    "print(dict_probabiliti['spam'])"
   ]
  },
  {
   "cell_type": "code",
   "execution_count": 88,
   "metadata": {},
   "outputs": [
    {
     "name": "stdout",
     "output_type": "stream",
     "text": "0.8659368269921034\n"
    }
   ],
   "source": [
    "#probabilidad p(ham)\n",
    "dict_probabiliti['ham'] = len(dfh.index) / len(df.index)\n",
    "print(dict_probabiliti['ham'])"
   ]
  },
  {
   "cell_type": "code",
   "execution_count": 89,
   "metadata": {},
   "outputs": [
    {
     "name": "stdout",
     "output_type": "stream",
     "text": "{'spam': 0.13406317300789664, 'ham': 0.8659368269921034}\n"
    }
   ],
   "source": [
    "print(dict_probabiliti)"
   ]
  },
  {
   "cell_type": "code",
   "execution_count": 90,
   "metadata": {},
   "outputs": [
    {
     "ename": "KeyboardInterrupt",
     "evalue": "",
     "output_type": "error",
     "traceback": [
      "\u001b[1;31m---------------------------------------------------------------------------\u001b[0m",
      "\u001b[1;31mKeyboardInterrupt\u001b[0m                         Traceback (most recent call last)",
      "\u001b[1;32m<ipython-input-90-15a51840b909>\u001b[0m in \u001b[0;36m<module>\u001b[1;34m\u001b[0m\n\u001b[0;32m      3\u001b[0m \u001b[0mref\u001b[0m \u001b[1;33m=\u001b[0m \u001b[1;36m0\u001b[0m\u001b[1;33m\u001b[0m\u001b[1;33m\u001b[0m\u001b[0m\n\u001b[0;32m      4\u001b[0m \u001b[1;32mfor\u001b[0m \u001b[0mcol\u001b[0m \u001b[1;32min\u001b[0m \u001b[0mdft\u001b[0m\u001b[1;33m:\u001b[0m\u001b[1;33m\u001b[0m\u001b[1;33m\u001b[0m\u001b[0m\n\u001b[1;32m----> 5\u001b[1;33m     \u001b[0mdf_bin_spam\u001b[0m\u001b[1;33m[\u001b[0m\u001b[0mcol\u001b[0m\u001b[1;33m]\u001b[0m \u001b[1;33m=\u001b[0m \u001b[0mdf_bin_spam\u001b[0m\u001b[1;33m[\u001b[0m\u001b[0mcol\u001b[0m\u001b[1;33m]\u001b[0m\u001b[1;33m.\u001b[0m\u001b[0mmap\u001b[0m\u001b[1;33m(\u001b[0m\u001b[1;33m{\u001b[0m\u001b[1;36m0\u001b[0m\u001b[1;33m:\u001b[0m\u001b[1;36m0\u001b[0m\u001b[1;33m}\u001b[0m\u001b[1;33m)\u001b[0m\u001b[1;33m\u001b[0m\u001b[1;33m\u001b[0m\u001b[0m\n\u001b[0m\u001b[0;32m      6\u001b[0m \u001b[1;31m#df_bin_spam = df_bin_spam.fillna(1)\u001b[0m\u001b[1;33m\u001b[0m\u001b[1;33m\u001b[0m\u001b[1;33m\u001b[0m\u001b[0m\n\u001b[0;32m      7\u001b[0m \u001b[0mdf_bin_spam\u001b[0m\u001b[1;33m\u001b[0m\u001b[1;33m\u001b[0m\u001b[0m\n",
      "\u001b[1;32m~\\AppData\\Roaming\\Python\\Python37\\site-packages\\pandas\\core\\frame.py\u001b[0m in \u001b[0;36m__setitem__\u001b[1;34m(self, key, value)\u001b[0m\n\u001b[0;32m   2936\u001b[0m         \u001b[1;32melse\u001b[0m\u001b[1;33m:\u001b[0m\u001b[1;33m\u001b[0m\u001b[1;33m\u001b[0m\u001b[0m\n\u001b[0;32m   2937\u001b[0m             \u001b[1;31m# set column\u001b[0m\u001b[1;33m\u001b[0m\u001b[1;33m\u001b[0m\u001b[1;33m\u001b[0m\u001b[0m\n\u001b[1;32m-> 2938\u001b[1;33m             \u001b[0mself\u001b[0m\u001b[1;33m.\u001b[0m\u001b[0m_set_item\u001b[0m\u001b[1;33m(\u001b[0m\u001b[0mkey\u001b[0m\u001b[1;33m,\u001b[0m \u001b[0mvalue\u001b[0m\u001b[1;33m)\u001b[0m\u001b[1;33m\u001b[0m\u001b[1;33m\u001b[0m\u001b[0m\n\u001b[0m\u001b[0;32m   2939\u001b[0m \u001b[1;33m\u001b[0m\u001b[0m\n\u001b[0;32m   2940\u001b[0m     \u001b[1;32mdef\u001b[0m \u001b[0m_setitem_slice\u001b[0m\u001b[1;33m(\u001b[0m\u001b[0mself\u001b[0m\u001b[1;33m,\u001b[0m \u001b[0mkey\u001b[0m\u001b[1;33m,\u001b[0m \u001b[0mvalue\u001b[0m\u001b[1;33m)\u001b[0m\u001b[1;33m:\u001b[0m\u001b[1;33m\u001b[0m\u001b[1;33m\u001b[0m\u001b[0m\n",
      "\u001b[1;32m~\\AppData\\Roaming\\Python\\Python37\\site-packages\\pandas\\core\\frame.py\u001b[0m in \u001b[0;36m_set_item\u001b[1;34m(self, key, value)\u001b[0m\n\u001b[0;32m   2999\u001b[0m         \u001b[0mself\u001b[0m\u001b[1;33m.\u001b[0m\u001b[0m_ensure_valid_index\u001b[0m\u001b[1;33m(\u001b[0m\u001b[0mvalue\u001b[0m\u001b[1;33m)\u001b[0m\u001b[1;33m\u001b[0m\u001b[1;33m\u001b[0m\u001b[0m\n\u001b[0;32m   3000\u001b[0m         \u001b[0mvalue\u001b[0m \u001b[1;33m=\u001b[0m \u001b[0mself\u001b[0m\u001b[1;33m.\u001b[0m\u001b[0m_sanitize_column\u001b[0m\u001b[1;33m(\u001b[0m\u001b[0mkey\u001b[0m\u001b[1;33m,\u001b[0m \u001b[0mvalue\u001b[0m\u001b[1;33m)\u001b[0m\u001b[1;33m\u001b[0m\u001b[1;33m\u001b[0m\u001b[0m\n\u001b[1;32m-> 3001\u001b[1;33m         \u001b[0mNDFrame\u001b[0m\u001b[1;33m.\u001b[0m\u001b[0m_set_item\u001b[0m\u001b[1;33m(\u001b[0m\u001b[0mself\u001b[0m\u001b[1;33m,\u001b[0m \u001b[0mkey\u001b[0m\u001b[1;33m,\u001b[0m \u001b[0mvalue\u001b[0m\u001b[1;33m)\u001b[0m\u001b[1;33m\u001b[0m\u001b[1;33m\u001b[0m\u001b[0m\n\u001b[0m\u001b[0;32m   3002\u001b[0m \u001b[1;33m\u001b[0m\u001b[0m\n\u001b[0;32m   3003\u001b[0m         \u001b[1;31m# check if we are modifying a copy\u001b[0m\u001b[1;33m\u001b[0m\u001b[1;33m\u001b[0m\u001b[1;33m\u001b[0m\u001b[0m\n",
      "\u001b[1;32m~\\AppData\\Roaming\\Python\\Python37\\site-packages\\pandas\\core\\generic.py\u001b[0m in \u001b[0;36m_set_item\u001b[1;34m(self, key, value)\u001b[0m\n\u001b[0;32m   3622\u001b[0m \u001b[1;33m\u001b[0m\u001b[0m\n\u001b[0;32m   3623\u001b[0m     \u001b[1;32mdef\u001b[0m \u001b[0m_set_item\u001b[0m\u001b[1;33m(\u001b[0m\u001b[0mself\u001b[0m\u001b[1;33m,\u001b[0m \u001b[0mkey\u001b[0m\u001b[1;33m,\u001b[0m \u001b[0mvalue\u001b[0m\u001b[1;33m)\u001b[0m \u001b[1;33m->\u001b[0m \u001b[1;32mNone\u001b[0m\u001b[1;33m:\u001b[0m\u001b[1;33m\u001b[0m\u001b[1;33m\u001b[0m\u001b[0m\n\u001b[1;32m-> 3624\u001b[1;33m         \u001b[0mself\u001b[0m\u001b[1;33m.\u001b[0m\u001b[0m_data\u001b[0m\u001b[1;33m.\u001b[0m\u001b[0mset\u001b[0m\u001b[1;33m(\u001b[0m\u001b[0mkey\u001b[0m\u001b[1;33m,\u001b[0m \u001b[0mvalue\u001b[0m\u001b[1;33m)\u001b[0m\u001b[1;33m\u001b[0m\u001b[1;33m\u001b[0m\u001b[0m\n\u001b[0m\u001b[0;32m   3625\u001b[0m         \u001b[0mself\u001b[0m\u001b[1;33m.\u001b[0m\u001b[0m_clear_item_cache\u001b[0m\u001b[1;33m(\u001b[0m\u001b[1;33m)\u001b[0m\u001b[1;33m\u001b[0m\u001b[1;33m\u001b[0m\u001b[0m\n\u001b[0;32m   3626\u001b[0m \u001b[1;33m\u001b[0m\u001b[0m\n",
      "\u001b[1;32m~\\AppData\\Roaming\\Python\\Python37\\site-packages\\pandas\\core\\internals\\managers.py\u001b[0m in \u001b[0;36mset\u001b[1;34m(self, item, value)\u001b[0m\n\u001b[0;32m   1098\u001b[0m                 \u001b[1;32melse\u001b[0m\u001b[1;33m:\u001b[0m\u001b[1;33m\u001b[0m\u001b[1;33m\u001b[0m\u001b[0m\n\u001b[0;32m   1099\u001b[0m                     \u001b[0mself\u001b[0m\u001b[1;33m.\u001b[0m\u001b[0m_blklocs\u001b[0m\u001b[1;33m[\u001b[0m\u001b[0mblk\u001b[0m\u001b[1;33m.\u001b[0m\u001b[0mmgr_locs\u001b[0m\u001b[1;33m.\u001b[0m\u001b[0mindexer\u001b[0m\u001b[1;33m]\u001b[0m \u001b[1;33m=\u001b[0m \u001b[1;33m-\u001b[0m\u001b[1;36m1\u001b[0m\u001b[1;33m\u001b[0m\u001b[1;33m\u001b[0m\u001b[0m\n\u001b[1;32m-> 1100\u001b[1;33m                     \u001b[0mblk\u001b[0m\u001b[1;33m.\u001b[0m\u001b[0mdelete\u001b[0m\u001b[1;33m(\u001b[0m\u001b[0mblk_locs\u001b[0m\u001b[1;33m)\u001b[0m\u001b[1;33m\u001b[0m\u001b[1;33m\u001b[0m\u001b[0m\n\u001b[0m\u001b[0;32m   1101\u001b[0m                     \u001b[0mself\u001b[0m\u001b[1;33m.\u001b[0m\u001b[0m_blklocs\u001b[0m\u001b[1;33m[\u001b[0m\u001b[0mblk\u001b[0m\u001b[1;33m.\u001b[0m\u001b[0mmgr_locs\u001b[0m\u001b[1;33m.\u001b[0m\u001b[0mindexer\u001b[0m\u001b[1;33m]\u001b[0m \u001b[1;33m=\u001b[0m \u001b[0mnp\u001b[0m\u001b[1;33m.\u001b[0m\u001b[0marange\u001b[0m\u001b[1;33m(\u001b[0m\u001b[0mlen\u001b[0m\u001b[1;33m(\u001b[0m\u001b[0mblk\u001b[0m\u001b[1;33m)\u001b[0m\u001b[1;33m)\u001b[0m\u001b[1;33m\u001b[0m\u001b[1;33m\u001b[0m\u001b[0m\n\u001b[0;32m   1102\u001b[0m \u001b[1;33m\u001b[0m\u001b[0m\n",
      "\u001b[1;32m~\\AppData\\Roaming\\Python\\Python37\\site-packages\\pandas\\core\\internals\\blocks.py\u001b[0m in \u001b[0;36mdelete\u001b[1;34m(self, loc)\u001b[0m\n\u001b[0;32m    380\u001b[0m         \u001b[0mDelete\u001b[0m \u001b[0mgiven\u001b[0m \u001b[0mloc\u001b[0m\u001b[1;33m(\u001b[0m\u001b[1;33m-\u001b[0m\u001b[0ms\u001b[0m\u001b[1;33m)\u001b[0m \u001b[1;32mfrom\u001b[0m \u001b[0mblock\u001b[0m \u001b[1;32min\u001b[0m\u001b[1;33m-\u001b[0m\u001b[0mplace\u001b[0m\u001b[1;33m.\u001b[0m\u001b[1;33m\u001b[0m\u001b[1;33m\u001b[0m\u001b[0m\n\u001b[0;32m    381\u001b[0m         \"\"\"\n\u001b[1;32m--> 382\u001b[1;33m         \u001b[0mself\u001b[0m\u001b[1;33m.\u001b[0m\u001b[0mvalues\u001b[0m \u001b[1;33m=\u001b[0m \u001b[0mnp\u001b[0m\u001b[1;33m.\u001b[0m\u001b[0mdelete\u001b[0m\u001b[1;33m(\u001b[0m\u001b[0mself\u001b[0m\u001b[1;33m.\u001b[0m\u001b[0mvalues\u001b[0m\u001b[1;33m,\u001b[0m \u001b[0mloc\u001b[0m\u001b[1;33m,\u001b[0m \u001b[1;36m0\u001b[0m\u001b[1;33m)\u001b[0m\u001b[1;33m\u001b[0m\u001b[1;33m\u001b[0m\u001b[0m\n\u001b[0m\u001b[0;32m    383\u001b[0m         \u001b[0mself\u001b[0m\u001b[1;33m.\u001b[0m\u001b[0mmgr_locs\u001b[0m \u001b[1;33m=\u001b[0m \u001b[0mself\u001b[0m\u001b[1;33m.\u001b[0m\u001b[0mmgr_locs\u001b[0m\u001b[1;33m.\u001b[0m\u001b[0mdelete\u001b[0m\u001b[1;33m(\u001b[0m\u001b[0mloc\u001b[0m\u001b[1;33m)\u001b[0m\u001b[1;33m\u001b[0m\u001b[1;33m\u001b[0m\u001b[0m\n\u001b[0;32m    384\u001b[0m \u001b[1;33m\u001b[0m\u001b[0m\n",
      "\u001b[1;32m<__array_function__ internals>\u001b[0m in \u001b[0;36mdelete\u001b[1;34m(*args, **kwargs)\u001b[0m\n",
      "\u001b[1;32m~\\AppData\\Roaming\\Python\\Python37\\site-packages\\numpy\\lib\\function_base.py\u001b[0m in \u001b[0;36mdelete\u001b[1;34m(arr, obj, axis)\u001b[0m\n\u001b[0;32m   4415\u001b[0m         \u001b[0mkeep\u001b[0m\u001b[1;33m[\u001b[0m\u001b[0mobj\u001b[0m\u001b[1;33m,\u001b[0m \u001b[1;33m]\u001b[0m \u001b[1;33m=\u001b[0m \u001b[1;32mFalse\u001b[0m\u001b[1;33m\u001b[0m\u001b[1;33m\u001b[0m\u001b[0m\n\u001b[0;32m   4416\u001b[0m         \u001b[0mslobj\u001b[0m\u001b[1;33m[\u001b[0m\u001b[0maxis\u001b[0m\u001b[1;33m]\u001b[0m \u001b[1;33m=\u001b[0m \u001b[0mkeep\u001b[0m\u001b[1;33m\u001b[0m\u001b[1;33m\u001b[0m\u001b[0m\n\u001b[1;32m-> 4417\u001b[1;33m         \u001b[0mnew\u001b[0m \u001b[1;33m=\u001b[0m \u001b[0marr\u001b[0m\u001b[1;33m[\u001b[0m\u001b[0mtuple\u001b[0m\u001b[1;33m(\u001b[0m\u001b[0mslobj\u001b[0m\u001b[1;33m)\u001b[0m\u001b[1;33m]\u001b[0m\u001b[1;33m\u001b[0m\u001b[1;33m\u001b[0m\u001b[0m\n\u001b[0m\u001b[0;32m   4418\u001b[0m \u001b[1;33m\u001b[0m\u001b[0m\n\u001b[0;32m   4419\u001b[0m     \u001b[1;32mif\u001b[0m \u001b[0mwrap\u001b[0m\u001b[1;33m:\u001b[0m\u001b[1;33m\u001b[0m\u001b[1;33m\u001b[0m\u001b[0m\n",
      "\u001b[1;31mKeyboardInterrupt\u001b[0m: "
     ]
    }
   ],
   "source": [
    "#probabilidad p(word|spam)\n",
    "df_bin_spam = mat_spam_rep\n",
    "ref = 0\n",
    "for col in dft:\n",
    "    df_bin_spam[col] = df_bin_spam[col].map({0:0})\n",
    "#df_bin_spam = df_bin_spam.fillna(1)\n",
    "df_bin_spam"
   ]
  },
  {
   "cell_type": "code",
   "execution_count": null,
   "metadata": {},
   "outputs": [],
   "source": []
  }
 ]
}