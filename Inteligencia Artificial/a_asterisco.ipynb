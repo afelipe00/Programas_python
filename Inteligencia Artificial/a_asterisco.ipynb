{
 "cells": [
  {
   "cell_type": "code",
   "execution_count": 22,
   "metadata": {},
   "outputs": [],
   "source": [
    "class Grafo:\n",
    "\n",
    "    def __init__(self, ls_adyacencia):\n",
    "        self.ls_adyacencia = ls_adyacencia\n",
    "    #funcion heuristica con valores para todos los nodos\n",
    "    def func_heuristica(self,value):\n",
    "        dcc_heuristica = {\n",
    "            'Arad': 366,\n",
    "            'Zering': 374,\n",
    "            'Oradea': 380,\n",
    "            'Timisoara': 329,\n",
    "            'Lugoj': 244,\n",
    "            'Mehadia': 241,\n",
    "            'Drobeta': 242,\n",
    "            'Craiova': 160,\n",
    "            'Rimmicu': 193,\n",
    "            'Sibu': 253,\n",
    "            'Fagaras': 176,\n",
    "            'Pitesti': 100,\n",
    "            'Bucharest': 0,\n",
    "        }\n",
    "        return dcc_heuristica[value]\n",
    "    #metodo para obtener estados\n",
    "    def get_states_n(self, value):\n",
    "        return self.ls_adyacencia[value]\n",
    "    #metodo de busqueda\n",
    "    def busqueda_asterisco(self, inicio,final):\n",
    "        novisitados_v = set([inicio])\n",
    "        visitados_nv = set([])\n",
    "        dcc_nod = dict()\n",
    "        dcc_nod[inicio] = 0\n",
    "\n",
    "        dcc_map_ad = dict()\n",
    "        dcc_map_ad[inicio] = inicio\n",
    "        while len(novisitados_v) > 0:\n",
    "            value = None\n",
    "            for key in novisitados_v:\n",
    "                if value == None or dcc_nod[key] + self.func_heuristica(key)\\\n",
    "                < dcc_nod[value] + self.func_heuristica(value):\n",
    "                    value = key\n",
    "                    #print('entro a la condicion', value, 'key', key)\n",
    "            \n",
    "            if value == None:\n",
    "                print(f'Ruta no encontrada, valor: {value}')\n",
    "                return None\n",
    "            \n",
    "            if value == final:\n",
    "                new_trip = list()\n",
    "                while dcc_map_ad[value] != value:\n",
    "                    new_trip.append(value)\n",
    "                    value = dcc_map_ad[value]\n",
    "                new_trip.append(inicio)\n",
    "                new_trip.reverse()\n",
    "                print('Ruta encontrada:')\n",
    "                for i in new_trip:\n",
    "                    print(f'parada en {i} : {dcc_nod[i]}')\n",
    "                return new_trip\n",
    "            for (this, peso) in self.get_states_n(value):\n",
    "                if this not in novisitados_v and this not in visitados_nv:\n",
    "                    novisitados_v.add(this)\n",
    "                    dcc_map_ad[this] = value\n",
    "                    dcc_nod[this] = dcc_nod[value] + peso\n",
    "                else:\n",
    "                    if dcc_nod[this] > dcc_nod[value] + peso:\n",
    "                        dcc_nod[this] = dcc_nod[value] + peso\n",
    "                        dcc_map_ad[this] = value\n",
    "                        if this in visitados_nv:\n",
    "                            visitados_nv.remove(this)\n",
    "                            novisitados_v.add(this)\n",
    "            novisitados_v.remove(value)\n",
    "            visitados_nv.add(value)\n",
    "        print('ruta sin salida')\n",
    "        return None"
   ]
  },
  {
   "cell_type": "code",
   "execution_count": 23,
   "metadata": {},
   "outputs": [
    {
     "output_type": "stream",
     "name": "stdout",
     "text": "Ruta encontrada:\nparada en Arad : 0\nparada en Sibu : 140\nparada en Rimmicu : 220\nparada en Pitesti : 317\nparada en Bucharest : 418\n"
    },
    {
     "output_type": "execute_result",
     "data": {
      "text/plain": "['Arad', 'Sibu', 'Rimmicu', 'Pitesti', 'Bucharest']"
     },
     "metadata": {},
     "execution_count": 23
    }
   ],
   "source": [
    "lista_adyacencia = {\n",
    "    'Arad': [('Zering', 75), ('Sibu', 140), ('Timisoara', 118)],\n",
    "    'Zering': [('Oradea', 171)],\n",
    "    'Oradea': [('Sibu', 151)],\n",
    "    'Timisoara': [('Lugoj', 111)],\n",
    "    'Lugoj': [('Drobeta', 75)],\n",
    "    'Mehadia': [('Oradea', 171)],\n",
    "    'Drobeta': [('Craiova', 120)],\n",
    "    'Craiova': [('Rimmicu', 146), ('Pitesti', 138)],\n",
    "    'Rimmicu': [('Pitesti', 97)],\n",
    "    'Sibu': [('Rimmicu', 80), ('Fagaras', 99)],\n",
    "    'Fagaras': [('Bucharest', 211)],\n",
    "    'Pitesti': [('Bucharest', 101)]\n",
    "}\n",
    "grafo = Grafo(lista_adyacencia)\n",
    "grafo.busqueda_asterisco('Arad', 'Bucharest')"
   ]
  },
  {
   "cell_type": "code",
   "execution_count": null,
   "metadata": {},
   "outputs": [],
   "source": []
  }
 ],
 "metadata": {
  "language_info": {
   "codemirror_mode": {
    "name": "ipython",
    "version": 3
   },
   "file_extension": ".py",
   "mimetype": "text/x-python",
   "name": "python",
   "nbconvert_exporter": "python",
   "pygments_lexer": "ipython3",
   "version": "3.7.5-final"
  },
  "orig_nbformat": 2,
  "kernelspec": {
   "name": "python37564bit0dc79bb492bd44c78f05d4b2f5c90882",
   "display_name": "Python 3.7.5 64-bit"
  }
 },
 "nbformat": 4,
 "nbformat_minor": 2
}