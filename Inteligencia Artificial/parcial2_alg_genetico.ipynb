{
 "cells": [
  {
   "cell_type": "code",
   "execution_count": 11,
   "metadata": {},
   "outputs": [],
   "source": [
    "import random \n",
    "import numpy as np"
   ]
  },
  {
   "cell_type": "code",
   "execution_count": 12,
   "metadata": {},
   "outputs": [
    {
     "output_type": "execute_result",
     "data": {
      "text/plain": "array([[4, 2, 3, 5, 1, 6],\n       [5, 6, 1, 3, 2, 4],\n       [1, 5, 4, 2, 6, 3],\n       [2, 3, 6, 4, 5, 1],\n       [3, 1, 2, 6, 4, 5],\n       [6, 4, 5, 1, 3, 2]])"
     },
     "metadata": {},
     "execution_count": 12
    }
   ],
   "source": [
    "\"\"\"\n",
    "Se crean las variables necesarias para el algoritmo genetico\n",
    "\n",
    "modelo: es el estado final al cual se desea llegar\n",
    "mat_genetico = la longitud de caracteres que tiene cada individuo\n",
    "num_p = numero de individuos iniciales.\n",
    "num_repro = numero de individuos seleccionados para la reproduccion\n",
    "mutacion_chance = probabilidad de tener una mutacion\n",
    "\n",
    "\"\"\"\n",
    "#Creamos el modelo\n",
    "modelo = [4,2,3,5,1,6,5,6,1,3,2,4,1,5,4,2,6,3,2,3,6,4,5,1,3,1,2,6,4,5,6,4,5,1,3,2]\n",
    "#Material genetico\n",
    "mat_genetico = 36\n",
    "#Poblacion maxima inicial\n",
    "num_p = 6\n",
    "#Numero de individuos para la reproduccion\n",
    "pressure = 3\n",
    "#Probabilidad de mutar\n",
    "mutacion_chance = 0.2\n",
    "#Esto es el como queremos que nos represente la grafica\n",
    "arreglo_show = np.array(modelo)\n",
    "arreglo_show.reshape(6,6)"
   ]
  },
  {
   "cell_type": "code",
   "execution_count": 13,
   "metadata": {},
   "outputs": [],
   "source": [
    "\"\"\"\n",
    "funcion para crear el numero de individuos\n",
    "\n",
    "idividuo: arreglo de numeros aleatorios de tamaño 36\n",
    "\n",
    "\"\"\"\n",
    "def individuo( min, max):\n",
    "    return [random.randint(min, max) for i in range(largo)]"
   ]
  },
  {
   "cell_type": "code",
   "execution_count": 14,
   "metadata": {},
   "outputs": [],
   "source": [
    "\"\"\"\n",
    "funcion para crear una poblacion\n",
    "\n",
    "se crean tantos individuos como poblacion maxima se desea tener\n",
    "\n",
    "\"\"\"\n",
    "def crear_Poblacion():\n",
    "    return [individuo(1, 6) for i in range(num_p)]"
   ]
  },
  {
   "cell_type": "code",
   "execution_count": 15,
   "metadata": {},
   "outputs": [],
   "source": [
    "\"\"\"\n",
    "funcion para calcular la aptitud de los individuos\n",
    "\n",
    "el parametro de aptitud, es la solucion de sudoku expresado en un arreglo\n",
    "\n",
    "\"\"\"\n",
    "def calcular_Fitness(individuo):\n",
    "    fitness = 0\n",
    "    for i in range(len(individuo)):    \n",
    "        if individuo[i] == modelo[i]:\n",
    "            fitness += 1\n",
    "    return fitness"
   ]
  },
  {
   "cell_type": "code",
   "execution_count": 16,
   "metadata": {},
   "outputs": [],
   "source": [
    "\"\"\"\n",
    "funcion para seleccionar y definir la reproduccion\n",
    "\n",
    "puntuados: lista de tuplas (fitness, individuo) de todos los individuos\n",
    "selected: seleccion de individuos con mejor puntuacion (cantidad = numero individuos para la reporduccion)\n",
    "\n",
    "reproduccion: Por cada elemento restante (poblacion - selected) sucede:\n",
    "    #1. se seleccionan dos individuos aleatorios entre los seleccionados\n",
    "    #2. se escoge un numero aleatorio (punto) de caracteristicas del primer individuo (principio)\n",
    "    #3. se toman las caracteristicas restantes del segundo individuo (final)\n",
    "    #4. se reemplaza un elemento de la poblacion.\n",
    "\n",
    "\"\"\"\n",
    "def selection_and_reproduction(population):\n",
    "    puntuados = [ (calcular_Fitness(i), i) for i in population]\n",
    "\n",
    "  \n",
    "    puntuados = [i[1] for i in sorted(puntuados)]\n",
    "    population = puntuados\n",
    "\n",
    "    selected = puntuados[(len(puntuados)-pressure):]\n",
    "    \n",
    "    \n",
    "    for i in range(len(population)-pressure):\n",
    "        punto = random.randint(1,largo-1)\n",
    "        padre = random.sample(selected, 2)\n",
    "        \n",
    "        population[i][:punto] = padre[0][:punto]\n",
    "        population[i][punto:] = padre[1][punto:]\n",
    "        \n",
    "    return population"
   ]
  },
  {
   "cell_type": "code",
   "execution_count": 17,
   "metadata": {},
   "outputs": [],
   "source": [
    "def mutacion(population):#Realizamos la mutacion\n",
    "    for i in range(len(population) - pressure):\n",
    "        if random.random() <= mutacion_chance:\n",
    "            punto = random.randint(0, largo - 1)#Escojemos una posicion aleatoria de caracteristica\n",
    "            nuevo_valor = random.randint(1, 6)#Ponemos un valor nuevo en esa posicion\n",
    "\n",
    "            while nuevo_valor == population[i][punto]:\n",
    "                nuevo_valor = random.randint(1, 6)#Evitamos que la nueva mutacion sea igual a la anterior\n",
    "\n",
    "            population[i][punto] = nuevo_valor\n",
    "    return population"
   ]
  },
  {
   "cell_type": "code",
   "execution_count": 29,
   "metadata": {},
   "outputs": [
    {
     "output_type": "stream",
     "name": "stdout",
     "text": "poblacion inicial: \n\n[array([[1, 4, 1, 5, 5, 2],\n       [2, 6, 6, 2, 1, 5],\n       [4, 3, 3, 6, 2, 5],\n       [5, 2, 1, 6, 3, 5],\n       [1, 1, 2, 5, 2, 2],\n       [1, 2, 5, 3, 6, 6]]), array([[4, 4, 3, 4, 2, 2],\n       [3, 6, 6, 2, 3, 4],\n       [1, 3, 4, 2, 4, 2],\n       [2, 4, 5, 6, 6, 2],\n       [2, 4, 6, 5, 4, 3],\n       [3, 3, 6, 1, 1, 2]]), array([[5, 6, 4, 4, 6, 2],\n       [1, 5, 4, 5, 4, 6],\n       [2, 1, 5, 4, 5, 3],\n       [2, 5, 6, 3, 3, 6],\n       [6, 4, 6, 4, 1, 3],\n       [3, 4, 2, 5, 6, 3]]), array([[6, 6, 4, 6, 3, 4],\n       [2, 4, 5, 6, 4, 6],\n       [3, 3, 1, 6, 4, 3],\n       [6, 6, 1, 5, 5, 5],\n       [6, 1, 6, 3, 1, 2],\n       [1, 1, 3, 1, 5, 3]]), array([[6, 4, 6, 5, 4, 3],\n       [4, 5, 5, 6, 5, 4],\n       [4, 5, 4, 2, 4, 2],\n       [4, 5, 5, 6, 5, 6],\n       [5, 3, 1, 3, 4, 2],\n       [6, 5, 2, 4, 5, 6]]), array([[3, 5, 3, 3, 1, 3],\n       [5, 6, 6, 3, 4, 6],\n       [5, 1, 3, 1, 3, 4],\n       [3, 1, 6, 4, 5, 3],\n       [3, 6, 4, 4, 6, 5],\n       [1, 1, 1, 4, 2, 3]])]\npoblacion final:\n[array([[4, 2, 3, 5, 1, 6],\n       [5, 6, 1, 3, 2, 6],\n       [1, 5, 4, 2, 6, 3],\n       [2, 3, 6, 4, 5, 1],\n       [3, 1, 2, 6, 4, 5],\n       [6, 4, 5, 1, 3, 2]]), array([[4, 2, 3, 5, 1, 6],\n       [5, 6, 1, 3, 2, 6],\n       [1, 5, 4, 2, 6, 3],\n       [2, 3, 6, 4, 5, 1],\n       [2, 1, 2, 6, 4, 5],\n       [6, 4, 5, 1, 3, 2]]), array([[4, 2, 3, 5, 1, 6],\n       [5, 6, 1, 3, 2, 6],\n       [1, 5, 4, 2, 6, 3],\n       [2, 3, 6, 4, 5, 1],\n       [3, 1, 2, 6, 4, 5],\n       [6, 4, 5, 1, 3, 2]]), array([[4, 2, 3, 5, 1, 6],\n       [5, 6, 1, 3, 2, 6],\n       [1, 5, 4, 2, 6, 3],\n       [2, 3, 6, 4, 5, 1],\n       [3, 1, 2, 6, 4, 5],\n       [6, 4, 5, 1, 3, 2]]), array([[4, 2, 3, 5, 1, 6],\n       [5, 6, 1, 3, 2, 6],\n       [1, 5, 4, 2, 6, 3],\n       [2, 3, 6, 4, 5, 1],\n       [3, 1, 2, 6, 4, 5],\n       [6, 4, 5, 1, 3, 2]]), array([[4, 2, 3, 5, 1, 6],\n       [5, 6, 1, 3, 2, 6],\n       [1, 5, 4, 2, 6, 3],\n       [2, 3, 6, 4, 5, 1],\n       [3, 1, 2, 6, 4, 5],\n       [6, 4, 5, 1, 3, 2]])]\n"
    }
   ],
   "source": [
    "\"\"\"\n",
    "se crea el modelo genetico\n",
    "con 1000 iteraciones\n",
    "con probabilidad de 0.2\n",
    "con 6 sujetos iniciales\n",
    "con 3 individuos para la reproduccion\n",
    "\n",
    "\"\"\"\n",
    "population = crear_Poblacion()\n",
    "print(\"poblacion inicial: \\n\")\n",
    "arreglo_show = list()\n",
    "for i in range(len(population)):\n",
    "    arreglo_show.append(np.array(population[i]).reshape(6,6))\n",
    "print(arreglo_show)\n",
    "for i in range(1000):\n",
    "    population = selection_and_reproduction(population)\n",
    "    population = mutacion(population)\n",
    "print(\"poblacion final:\")\n",
    "arreglo_show = list()\n",
    "for i in range(len(population)):\n",
    "    arreglo_show.append(np.array(population[i]).reshape(6,6))\n",
    "print(arreglo_show)"
   ]
  },
  {
   "cell_type": "code",
   "execution_count": 33,
   "metadata": {},
   "outputs": [
    {
     "output_type": "stream",
     "name": "stdout",
     "text": "poblacion inicial: \n\n[array([[2, 2, 5, 2, 4, 4],\n       [5, 4, 6, 5, 4, 4],\n       [3, 3, 2, 1, 6, 2],\n       [3, 1, 3, 6, 6, 4],\n       [3, 1, 2, 4, 2, 3],\n       [5, 4, 2, 5, 4, 3]]), array([[3, 2, 2, 1, 5, 5],\n       [2, 4, 5, 2, 5, 3],\n       [2, 2, 4, 3, 3, 3],\n       [3, 2, 6, 6, 2, 3],\n       [2, 4, 3, 1, 2, 5],\n       [2, 1, 5, 6, 3, 6]]), array([[1, 4, 2, 4, 5, 1],\n       [5, 1, 1, 1, 3, 6],\n       [6, 1, 4, 4, 3, 6],\n       [4, 3, 2, 4, 6, 2],\n       [3, 3, 2, 2, 1, 6],\n       [1, 3, 5, 5, 6, 3]]), array([[1, 6, 5, 4, 3, 4],\n       [6, 1, 4, 1, 3, 6],\n       [2, 5, 3, 4, 3, 1],\n       [4, 3, 3, 6, 4, 4],\n       [1, 4, 6, 2, 1, 1],\n       [1, 2, 4, 4, 3, 2]]), array([[5, 4, 6, 1, 6, 4],\n       [2, 6, 2, 1, 2, 5],\n       [5, 2, 5, 3, 1, 2],\n       [6, 4, 1, 4, 4, 4],\n       [1, 6, 6, 1, 3, 6],\n       [4, 3, 3, 4, 4, 2]]), array([[1, 5, 5, 5, 1, 5],\n       [4, 4, 3, 4, 6, 1],\n       [1, 6, 3, 5, 3, 4],\n       [4, 2, 4, 5, 1, 5],\n       [4, 4, 6, 1, 4, 6],\n       [6, 3, 3, 6, 4, 6]])]\npoblacion final:\n[array([[4, 4, 6, 4, 1, 1],\n       [5, 6, 1, 5, 3, 4],\n       [6, 1, 4, 4, 3, 6],\n       [4, 3, 6, 4, 6, 1],\n       [3, 1, 2, 4, 4, 6],\n       [1, 6, 5, 6, 3, 6]]), array([[4, 4, 6, 4, 1, 1],\n       [5, 6, 1, 5, 3, 4],\n       [6, 1, 4, 4, 3, 6],\n       [4, 3, 6, 4, 6, 1],\n       [3, 1, 2, 4, 4, 6],\n       [1, 6, 5, 6, 3, 6]]), array([[4, 4, 6, 4, 1, 4],\n       [5, 6, 1, 5, 3, 4],\n       [6, 1, 4, 4, 3, 6],\n       [4, 3, 6, 4, 6, 1],\n       [3, 4, 2, 4, 4, 6],\n       [1, 6, 5, 6, 3, 6]]), array([[4, 4, 6, 4, 1, 1],\n       [5, 6, 1, 5, 3, 4],\n       [6, 1, 4, 4, 3, 6],\n       [4, 3, 6, 4, 6, 1],\n       [3, 1, 2, 4, 4, 6],\n       [1, 6, 5, 6, 3, 6]]), array([[4, 4, 6, 4, 1, 1],\n       [5, 6, 1, 5, 3, 4],\n       [6, 1, 4, 4, 3, 6],\n       [4, 3, 6, 4, 6, 1],\n       [3, 1, 2, 4, 4, 6],\n       [1, 6, 5, 6, 3, 6]]), array([[4, 4, 6, 4, 1, 4],\n       [5, 6, 1, 5, 3, 4],\n       [6, 1, 4, 4, 3, 6],\n       [4, 3, 6, 4, 6, 1],\n       [3, 1, 2, 4, 4, 6],\n       [1, 6, 5, 6, 3, 6]])]\n"
    }
   ],
   "source": [
    "\"\"\"\n",
    "se crea el modelo genetico\n",
    "con 100 iteraciones\n",
    "con probabilidad de 0.2\n",
    "con 6 sujetos iniciales\n",
    "con 3 individuos para la reproduccion\n",
    "\n",
    "\"\"\"\n",
    "population = crear_Poblacion()\n",
    "print(\"poblacion inicial: \\n\")\n",
    "arreglo_show = list()\n",
    "for i in range(len(population)):\n",
    "    arreglo_show.append(np.array(population[i]).reshape(6,6))\n",
    "print(arreglo_show)\n",
    "for i in range(100):\n",
    "    population = selection_and_reproduction(population)\n",
    "    population = mutacion(population)\n",
    "print(\"poblacion final:\")\n",
    "arreglo_show = list()\n",
    "for i in range(len(population)):\n",
    "    arreglo_show.append(np.array(population[i]).reshape(6,6))\n",
    "print(arreglo_show)"
   ]
  },
  {
   "cell_type": "code",
   "execution_count": 34,
   "metadata": {},
   "outputs": [
    {
     "output_type": "stream",
     "name": "stdout",
     "text": "poblacion inicial: \n\n[array([[1, 5, 6, 3, 6, 5],\n       [6, 2, 2, 1, 3, 6],\n       [4, 3, 2, 2, 4, 6],\n       [2, 1, 1, 6, 4, 6],\n       [3, 1, 3, 5, 1, 1],\n       [5, 2, 5, 3, 3, 1]]), array([[6, 3, 6, 5, 2, 1],\n       [6, 6, 6, 1, 2, 6],\n       [4, 6, 6, 2, 5, 1],\n       [4, 3, 3, 1, 3, 6],\n       [6, 4, 1, 1, 5, 6],\n       [3, 5, 3, 4, 5, 6]]), array([[5, 4, 2, 5, 2, 4],\n       [3, 4, 3, 4, 6, 6],\n       [5, 4, 4, 2, 2, 5],\n       [5, 5, 5, 3, 4, 1],\n       [4, 1, 5, 6, 4, 3],\n       [3, 3, 2, 5, 2, 6]]), array([[6, 6, 5, 5, 3, 5],\n       [3, 4, 2, 1, 2, 5],\n       [4, 4, 2, 6, 5, 5],\n       [5, 2, 4, 3, 3, 1],\n       [5, 5, 5, 6, 3, 6],\n       [1, 3, 1, 6, 6, 3]]), array([[5, 4, 1, 2, 1, 6],\n       [5, 1, 1, 6, 5, 4],\n       [2, 4, 5, 6, 3, 3],\n       [6, 2, 5, 6, 6, 3],\n       [2, 1, 5, 1, 5, 2],\n       [5, 4, 3, 3, 3, 2]]), array([[5, 4, 1, 3, 2, 6],\n       [5, 2, 6, 1, 3, 3],\n       [2, 6, 6, 6, 3, 2],\n       [1, 2, 1, 2, 4, 5],\n       [1, 6, 6, 6, 4, 2],\n       [3, 1, 4, 3, 6, 2]]), array([[4, 3, 2, 5, 4, 3],\n       [1, 1, 6, 1, 6, 4],\n       [6, 6, 5, 3, 4, 6],\n       [4, 3, 3, 3, 2, 3],\n       [2, 6, 6, 5, 3, 2],\n       [2, 1, 6, 6, 5, 5]]), array([[6, 5, 3, 5, 3, 5],\n       [1, 2, 2, 6, 1, 2],\n       [6, 2, 3, 4, 6, 2],\n       [3, 1, 5, 3, 4, 1],\n       [6, 3, 2, 1, 6, 2],\n       [2, 6, 1, 4, 3, 6]]), array([[2, 5, 2, 6, 5, 2],\n       [3, 4, 5, 4, 4, 2],\n       [5, 2, 6, 3, 1, 1],\n       [4, 5, 1, 2, 6, 3],\n       [2, 2, 2, 3, 1, 6],\n       [2, 1, 6, 4, 5, 1]]), array([[1, 5, 6, 2, 1, 3],\n       [6, 3, 2, 3, 3, 5],\n       [2, 6, 4, 1, 6, 6],\n       [2, 4, 1, 5, 5, 1],\n       [6, 6, 4, 6, 6, 2],\n       [4, 5, 3, 1, 4, 6]])]\npoblacion final:\n[array([[4, 2, 3, 5, 1, 6],\n       [5, 6, 1, 3, 2, 4],\n       [1, 5, 4, 2, 6, 3],\n       [2, 3, 6, 4, 5, 1],\n       [3, 1, 2, 6, 4, 5],\n       [6, 2, 5, 1, 3, 2]]), array([[4, 2, 3, 5, 1, 6],\n       [5, 6, 1, 3, 2, 4],\n       [1, 5, 4, 2, 6, 3],\n       [2, 3, 6, 4, 5, 1],\n       [3, 1, 2, 6, 4, 5],\n       [6, 4, 5, 1, 3, 2]]), array([[4, 2, 3, 5, 1, 6],\n       [5, 6, 1, 3, 2, 4],\n       [1, 5, 4, 2, 6, 3],\n       [2, 3, 6, 4, 5, 1],\n       [3, 1, 2, 6, 4, 5],\n       [6, 4, 5, 1, 3, 2]]), array([[4, 2, 3, 5, 1, 6],\n       [5, 6, 1, 3, 2, 4],\n       [1, 5, 4, 2, 6, 3],\n       [2, 3, 6, 4, 5, 1],\n       [3, 1, 2, 6, 4, 5],\n       [6, 4, 5, 1, 3, 2]]), array([[4, 2, 3, 5, 1, 6],\n       [5, 6, 1, 3, 2, 4],\n       [1, 5, 4, 2, 6, 3],\n       [2, 3, 6, 4, 5, 1],\n       [3, 1, 2, 6, 4, 5],\n       [6, 4, 5, 1, 3, 2]]), array([[4, 2, 3, 5, 1, 6],\n       [5, 6, 1, 3, 2, 4],\n       [1, 5, 4, 2, 6, 3],\n       [2, 3, 6, 4, 5, 1],\n       [3, 1, 2, 6, 4, 5],\n       [6, 4, 5, 1, 3, 2]]), array([[4, 2, 3, 5, 1, 6],\n       [5, 6, 1, 3, 2, 4],\n       [1, 5, 4, 2, 6, 3],\n       [2, 3, 6, 4, 5, 1],\n       [3, 1, 2, 6, 4, 5],\n       [6, 4, 5, 1, 3, 2]]), array([[4, 2, 3, 5, 1, 6],\n       [5, 6, 1, 3, 2, 4],\n       [1, 5, 4, 2, 6, 3],\n       [2, 3, 6, 4, 5, 1],\n       [3, 1, 2, 6, 4, 5],\n       [6, 4, 5, 1, 3, 2]]), array([[4, 2, 3, 5, 1, 6],\n       [5, 6, 1, 3, 2, 4],\n       [1, 5, 4, 2, 6, 3],\n       [2, 3, 6, 4, 5, 1],\n       [3, 1, 2, 6, 4, 5],\n       [6, 4, 5, 1, 3, 2]]), array([[4, 2, 3, 5, 1, 6],\n       [5, 6, 1, 3, 2, 4],\n       [1, 5, 4, 2, 6, 3],\n       [2, 3, 6, 4, 5, 1],\n       [3, 1, 2, 6, 4, 5],\n       [6, 4, 5, 1, 3, 2]])]\n"
    }
   ],
   "source": [
    "\"\"\"\n",
    "se crea el modelo genetico\n",
    "con 1000 iteraciones\n",
    "con probabilidad de 0.2\n",
    "con 10 sujetos iniciales\n",
    "con 3 individuos para la reproduccion\n",
    "\n",
    "\"\"\"\n",
    "num_p = 10\n",
    "population = crear_Poblacion()\n",
    "print(\"poblacion inicial: \\n\")\n",
    "arreglo_show = list()\n",
    "for i in range(len(population)):\n",
    "    arreglo_show.append(np.array(population[i]).reshape(6,6))\n",
    "print(arreglo_show)\n",
    "for i in range(1000):\n",
    "    population = selection_and_reproduction(population)\n",
    "    population = mutacion(population)\n",
    "print(\"poblacion final:\")\n",
    "arreglo_show = list()\n",
    "for i in range(len(population)):\n",
    "    arreglo_show.append(np.array(population[i]).reshape(6,6))\n",
    "print(arreglo_show)"
   ]
  },
  {
   "cell_type": "code",
   "execution_count": 35,
   "metadata": {},
   "outputs": [
    {
     "output_type": "stream",
     "name": "stdout",
     "text": "poblacion inicial: \n\n[array([[5, 4, 3, 4, 2, 2],\n       [1, 5, 6, 1, 3, 2],\n       [4, 6, 4, 1, 6, 3],\n       [6, 3, 6, 3, 1, 5],\n       [1, 5, 2, 1, 2, 2],\n       [1, 6, 2, 4, 1, 5]]), array([[5, 3, 5, 3, 1, 1],\n       [6, 3, 5, 1, 2, 1],\n       [4, 5, 5, 6, 4, 2],\n       [2, 4, 5, 4, 2, 2],\n       [6, 1, 1, 2, 2, 1],\n       [5, 6, 4, 2, 1, 5]]), array([[6, 5, 6, 1, 3, 2],\n       [3, 2, 2, 6, 6, 2],\n       [2, 6, 2, 5, 4, 5],\n       [6, 4, 4, 4, 1, 3],\n       [1, 4, 1, 4, 1, 5],\n       [2, 6, 4, 4, 1, 3]]), array([[2, 4, 4, 5, 4, 1],\n       [5, 3, 4, 6, 2, 3],\n       [3, 3, 3, 3, 2, 5],\n       [2, 5, 3, 4, 1, 5],\n       [6, 2, 4, 4, 2, 3],\n       [2, 4, 1, 3, 2, 5]]), array([[2, 1, 4, 2, 2, 1],\n       [1, 6, 2, 1, 3, 4],\n       [6, 1, 5, 3, 4, 3],\n       [1, 5, 4, 5, 6, 1],\n       [5, 3, 6, 4, 5, 5],\n       [1, 1, 1, 1, 5, 4]]), array([[5, 6, 1, 3, 2, 4],\n       [5, 2, 2, 3, 3, 2],\n       [2, 6, 3, 3, 6, 1],\n       [2, 2, 1, 3, 2, 3],\n       [2, 4, 5, 2, 1, 2],\n       [3, 2, 1, 3, 6, 5]]), array([[5, 2, 6, 2, 1, 2],\n       [2, 3, 1, 5, 5, 5],\n       [1, 4, 4, 5, 2, 3],\n       [1, 5, 6, 4, 6, 2],\n       [6, 5, 2, 6, 1, 5],\n       [4, 6, 6, 6, 1, 5]]), array([[3, 2, 5, 1, 6, 6],\n       [5, 3, 4, 5, 3, 6],\n       [2, 2, 3, 4, 5, 2],\n       [5, 6, 2, 5, 3, 4],\n       [6, 5, 1, 2, 1, 1],\n       [5, 4, 4, 5, 5, 4]]), array([[4, 4, 3, 2, 1, 5],\n       [4, 2, 5, 4, 1, 2],\n       [1, 5, 2, 2, 6, 4],\n       [5, 1, 4, 6, 6, 6],\n       [4, 6, 1, 3, 2, 5],\n       [1, 4, 2, 3, 5, 1]]), array([[3, 6, 4, 4, 2, 6],\n       [6, 5, 4, 4, 2, 2],\n       [1, 6, 1, 5, 3, 5],\n       [2, 6, 1, 4, 5, 3],\n       [3, 6, 2, 1, 5, 5],\n       [4, 4, 4, 4, 6, 4]])]\npoblacion final:\n[array([[4, 2, 3, 5, 1, 6],\n       [5, 6, 1, 3, 2, 4],\n       [1, 5, 4, 2, 6, 3],\n       [2, 3, 6, 4, 5, 1],\n       [3, 1, 2, 6, 4, 5],\n       [6, 4, 5, 1, 3, 2]]), array([[4, 2, 3, 5, 1, 6],\n       [5, 6, 1, 3, 2, 4],\n       [1, 5, 4, 2, 6, 3],\n       [2, 3, 6, 4, 5, 1],\n       [3, 1, 2, 6, 4, 5],\n       [6, 4, 5, 1, 3, 2]]), array([[4, 2, 3, 5, 1, 6],\n       [5, 6, 1, 3, 2, 4],\n       [1, 5, 4, 2, 6, 3],\n       [2, 3, 6, 4, 5, 1],\n       [3, 1, 2, 6, 4, 5],\n       [6, 4, 5, 1, 3, 2]]), array([[4, 2, 3, 5, 1, 6],\n       [5, 6, 1, 3, 2, 4],\n       [1, 5, 4, 2, 6, 3],\n       [2, 3, 6, 4, 5, 1],\n       [3, 1, 2, 6, 4, 5],\n       [6, 4, 1, 1, 3, 2]]), array([[4, 2, 3, 5, 1, 6],\n       [5, 6, 1, 3, 2, 4],\n       [1, 5, 4, 2, 6, 3],\n       [2, 3, 6, 4, 5, 1],\n       [3, 1, 2, 6, 4, 5],\n       [6, 4, 5, 1, 3, 2]]), array([[4, 2, 3, 5, 1, 6],\n       [5, 6, 1, 3, 2, 4],\n       [1, 5, 4, 2, 6, 3],\n       [2, 3, 6, 4, 5, 1],\n       [3, 1, 2, 6, 4, 5],\n       [6, 4, 5, 1, 3, 2]]), array([[4, 2, 3, 5, 1, 6],\n       [5, 6, 1, 3, 2, 4],\n       [1, 5, 4, 2, 6, 3],\n       [2, 3, 6, 4, 5, 1],\n       [3, 1, 2, 6, 4, 5],\n       [6, 4, 5, 1, 3, 2]]), array([[4, 2, 3, 5, 1, 6],\n       [5, 6, 1, 3, 2, 4],\n       [1, 5, 4, 2, 6, 3],\n       [2, 3, 6, 4, 5, 1],\n       [3, 1, 2, 6, 4, 5],\n       [6, 4, 5, 1, 3, 2]]), array([[4, 2, 3, 5, 1, 6],\n       [5, 6, 1, 3, 2, 4],\n       [1, 5, 4, 2, 6, 3],\n       [2, 3, 6, 4, 5, 1],\n       [3, 1, 2, 6, 4, 5],\n       [6, 4, 5, 1, 3, 2]]), array([[4, 2, 3, 5, 1, 6],\n       [5, 6, 1, 3, 2, 4],\n       [1, 5, 4, 2, 6, 3],\n       [2, 3, 6, 4, 5, 1],\n       [3, 1, 2, 6, 4, 5],\n       [6, 4, 5, 1, 3, 2]])]\n"
    }
   ],
   "source": [
    "\"\"\"\n",
    "se crea el modelo genetico\n",
    "con 100 iteraciones\n",
    "con probabilidad de 0.2\n",
    "con 10 sujetos iniciales\n",
    "con 3 individuos para la reproduccion\n",
    "\n",
    "\"\"\"\n",
    "population = crear_Poblacion()\n",
    "print(\"poblacion inicial: \\n\")\n",
    "arreglo_show = list()\n",
    "for i in range(len(population)):\n",
    "    arreglo_show.append(np.array(population[i]).reshape(6,6))\n",
    "print(arreglo_show)\n",
    "for i in range(1000):\n",
    "    population = selection_and_reproduction(population)\n",
    "    population = mutacion(population)\n",
    "print(\"poblacion final:\")\n",
    "arreglo_show = list()\n",
    "for i in range(len(population)):\n",
    "    arreglo_show.append(np.array(population[i]).reshape(6,6))\n",
    "print(arreglo_show)"
   ]
  },
  {
   "cell_type": "code",
   "execution_count": 36,
   "metadata": {},
   "outputs": [
    {
     "output_type": "stream",
     "name": "stdout",
     "text": "poblacion inicial: \n\n[array([[5, 3, 4, 3, 6, 6],\n       [4, 2, 4, 5, 5, 2],\n       [4, 1, 6, 5, 2, 2],\n       [3, 1, 4, 1, 1, 1],\n       [2, 5, 6, 6, 3, 3],\n       [2, 6, 2, 5, 1, 5]]), array([[1, 2, 1, 6, 4, 5],\n       [4, 4, 3, 4, 1, 6],\n       [1, 4, 4, 1, 1, 5],\n       [1, 4, 4, 3, 4, 2],\n       [3, 6, 1, 1, 1, 6],\n       [4, 4, 3, 4, 4, 1]]), array([[3, 3, 5, 5, 5, 5],\n       [1, 6, 5, 1, 5, 6],\n       [2, 1, 3, 6, 3, 6],\n       [6, 5, 2, 4, 2, 4],\n       [2, 2, 1, 3, 5, 2],\n       [3, 1, 6, 5, 2, 4]]), array([[1, 3, 4, 2, 6, 4],\n       [1, 5, 5, 4, 2, 6],\n       [2, 2, 4, 6, 5, 1],\n       [2, 6, 4, 4, 5, 5],\n       [5, 1, 4, 5, 2, 5],\n       [4, 2, 1, 1, 4, 2]]), array([[1, 5, 2, 2, 1, 6],\n       [5, 1, 3, 4, 4, 1],\n       [1, 3, 1, 1, 1, 2],\n       [4, 5, 4, 2, 1, 1],\n       [5, 1, 6, 3, 3, 5],\n       [1, 2, 4, 2, 3, 6]]), array([[2, 3, 6, 3, 5, 3],\n       [2, 4, 2, 6, 1, 2],\n       [1, 2, 5, 1, 1, 3],\n       [4, 6, 5, 2, 5, 6],\n       [5, 2, 2, 1, 1, 4],\n       [4, 5, 1, 2, 5, 4]]), array([[4, 4, 4, 6, 4, 1],\n       [2, 2, 5, 1, 5, 3],\n       [4, 4, 6, 5, 5, 2],\n       [3, 5, 3, 3, 4, 2],\n       [3, 5, 4, 5, 1, 2],\n       [6, 6, 3, 3, 6, 1]]), array([[4, 3, 3, 2, 2, 4],\n       [6, 6, 3, 5, 6, 5],\n       [5, 6, 6, 3, 6, 2],\n       [2, 4, 6, 2, 1, 1],\n       [2, 6, 3, 4, 4, 3],\n       [2, 5, 3, 5, 4, 3]]), array([[6, 1, 6, 1, 3, 3],\n       [3, 2, 3, 1, 4, 3],\n       [3, 2, 2, 5, 6, 3],\n       [1, 4, 2, 3, 5, 1],\n       [6, 1, 3, 2, 6, 2],\n       [6, 1, 4, 4, 6, 4]]), array([[5, 6, 1, 1, 3, 5],\n       [3, 6, 4, 2, 5, 3],\n       [3, 5, 6, 2, 5, 1],\n       [4, 5, 6, 2, 6, 5],\n       [1, 2, 6, 4, 6, 1],\n       [3, 3, 2, 3, 6, 4]])]\npoblacion final:\n[array([[4, 2, 3, 5, 1, 6],\n       [5, 6, 1, 3, 2, 4],\n       [1, 5, 4, 2, 6, 3],\n       [2, 3, 6, 4, 5, 1],\n       [3, 1, 2, 6, 4, 5],\n       [6, 4, 5, 1, 3, 2]]), array([[4, 2, 3, 5, 1, 6],\n       [5, 6, 1, 3, 2, 4],\n       [1, 5, 4, 2, 6, 3],\n       [2, 3, 6, 4, 5, 1],\n       [3, 1, 2, 6, 4, 5],\n       [6, 4, 5, 1, 3, 2]]), array([[4, 2, 3, 5, 1, 6],\n       [5, 6, 1, 3, 2, 4],\n       [1, 5, 4, 2, 6, 3],\n       [2, 3, 6, 4, 5, 1],\n       [3, 1, 2, 6, 4, 5],\n       [6, 4, 5, 1, 3, 2]]), array([[4, 2, 3, 5, 1, 6],\n       [5, 6, 1, 3, 2, 4],\n       [1, 5, 4, 2, 6, 3],\n       [2, 3, 6, 4, 5, 1],\n       [3, 1, 2, 6, 4, 5],\n       [6, 4, 5, 1, 3, 2]]), array([[4, 2, 3, 5, 1, 6],\n       [5, 6, 1, 3, 2, 4],\n       [1, 5, 4, 2, 6, 3],\n       [2, 3, 6, 4, 5, 1],\n       [3, 1, 2, 6, 4, 5],\n       [6, 4, 5, 1, 3, 2]]), array([[4, 2, 3, 5, 1, 6],\n       [5, 6, 1, 3, 2, 4],\n       [1, 5, 4, 2, 6, 3],\n       [2, 3, 6, 4, 5, 1],\n       [3, 1, 2, 6, 4, 5],\n       [6, 4, 5, 1, 3, 2]]), array([[4, 2, 3, 5, 1, 6],\n       [5, 6, 1, 3, 2, 4],\n       [1, 5, 4, 2, 6, 3],\n       [2, 3, 6, 4, 5, 1],\n       [3, 1, 2, 6, 4, 5],\n       [6, 4, 5, 1, 3, 2]]), array([[4, 2, 3, 5, 1, 6],\n       [5, 6, 1, 3, 2, 4],\n       [1, 5, 4, 2, 6, 3],\n       [2, 3, 6, 4, 5, 1],\n       [3, 1, 2, 6, 4, 5],\n       [6, 4, 5, 1, 3, 2]]), array([[4, 2, 3, 5, 1, 6],\n       [5, 6, 1, 3, 2, 4],\n       [1, 5, 4, 2, 6, 3],\n       [2, 3, 6, 4, 5, 1],\n       [3, 1, 2, 6, 4, 5],\n       [6, 4, 5, 1, 3, 2]]), array([[4, 2, 3, 5, 1, 6],\n       [5, 6, 1, 3, 2, 4],\n       [1, 5, 4, 2, 6, 3],\n       [2, 3, 6, 4, 5, 1],\n       [3, 1, 2, 6, 4, 5],\n       [6, 4, 5, 1, 3, 2]])]\n"
    }
   ],
   "source": [
    "\"\"\"\n",
    "se crea el modelo genetico\n",
    "con 1000 iteraciones\n",
    "con probabilidad de 0.5\n",
    "con 6 sujetos iniciales\n",
    "con 3 individuos para la reproduccion\n",
    "\n",
    "\"\"\"\n",
    "mutacion_chance = 0.5\n",
    "population = crear_Poblacion()\n",
    "print(\"poblacion inicial: \\n\")\n",
    "arreglo_show = list()\n",
    "for i in range(len(population)):\n",
    "    arreglo_show.append(np.array(population[i]).reshape(6,6))\n",
    "print(arreglo_show)\n",
    "for i in range(1000):\n",
    "    population = selection_and_reproduction(population)\n",
    "    population = mutacion(population)\n",
    "print(\"poblacion final:\")\n",
    "arreglo_show = list()\n",
    "for i in range(len(population)):\n",
    "    arreglo_show.append(np.array(population[i]).reshape(6,6))\n",
    "print(arreglo_show)"
   ]
  },
  {
   "cell_type": "code",
   "execution_count": 37,
   "metadata": {},
   "outputs": [
    {
     "output_type": "stream",
     "name": "stdout",
     "text": "poblacion inicial: \n\n[array([[5, 4, 5, 5, 3, 2],\n       [5, 3, 3, 6, 2, 1],\n       [2, 6, 3, 4, 6, 6],\n       [6, 5, 2, 6, 6, 5],\n       [6, 6, 5, 6, 4, 6],\n       [4, 2, 5, 3, 6, 1]]), array([[4, 1, 2, 3, 5, 2],\n       [4, 3, 3, 2, 3, 6],\n       [2, 5, 4, 5, 4, 2],\n       [4, 6, 4, 5, 4, 5],\n       [6, 3, 3, 1, 3, 5],\n       [3, 6, 2, 6, 5, 4]]), array([[4, 5, 1, 5, 6, 2],\n       [1, 1, 6, 3, 2, 2],\n       [1, 6, 1, 3, 3, 4],\n       [4, 5, 3, 4, 6, 4],\n       [4, 1, 5, 1, 5, 2],\n       [3, 4, 1, 6, 4, 4]]), array([[2, 1, 4, 1, 4, 2],\n       [6, 2, 3, 3, 5, 1],\n       [3, 5, 5, 3, 2, 3],\n       [4, 3, 1, 6, 4, 2],\n       [3, 5, 4, 1, 6, 6],\n       [1, 1, 6, 6, 6, 3]]), array([[1, 5, 4, 1, 2, 6],\n       [1, 6, 4, 3, 3, 1],\n       [1, 4, 1, 2, 1, 6],\n       [4, 4, 2, 3, 5, 2],\n       [3, 1, 1, 1, 2, 4],\n       [6, 2, 1, 5, 2, 4]]), array([[3, 1, 3, 2, 3, 4],\n       [2, 4, 5, 4, 5, 1],\n       [2, 3, 5, 6, 4, 6],\n       [5, 4, 6, 2, 6, 3],\n       [6, 3, 6, 3, 4, 5],\n       [5, 3, 4, 2, 4, 6]]), array([[2, 2, 6, 4, 6, 3],\n       [3, 6, 5, 4, 1, 6],\n       [2, 6, 3, 4, 1, 3],\n       [6, 6, 4, 2, 2, 4],\n       [2, 2, 2, 5, 2, 4],\n       [5, 2, 4, 3, 6, 6]]), array([[2, 4, 1, 2, 5, 3],\n       [3, 6, 3, 5, 3, 3],\n       [3, 3, 1, 1, 4, 3],\n       [2, 1, 3, 4, 5, 3],\n       [3, 4, 3, 1, 1, 3],\n       [1, 5, 4, 2, 4, 4]]), array([[4, 1, 4, 3, 2, 5],\n       [6, 4, 1, 3, 5, 6],\n       [2, 1, 5, 2, 6, 5],\n       [6, 4, 5, 5, 1, 4],\n       [2, 3, 1, 5, 5, 6],\n       [4, 6, 2, 5, 6, 2]]), array([[1, 6, 6, 6, 1, 2],\n       [2, 1, 4, 6, 5, 3],\n       [3, 6, 5, 2, 3, 4],\n       [1, 1, 3, 1, 1, 4],\n       [1, 3, 2, 3, 1, 1],\n       [5, 6, 5, 4, 4, 2]])]\npoblacion final:\n[array([[4, 6, 3, 5, 1, 6],\n       [6, 6, 6, 3, 2, 4],\n       [1, 5, 4, 2, 6, 3],\n       [2, 3, 6, 4, 5, 1],\n       [3, 1, 2, 6, 4, 5],\n       [6, 5, 5, 1, 3, 2]]), array([[4, 6, 3, 5, 1, 6],\n       [6, 6, 6, 3, 2, 4],\n       [1, 5, 4, 2, 6, 3],\n       [2, 3, 6, 4, 5, 1],\n       [3, 1, 2, 6, 4, 5],\n       [6, 5, 5, 1, 3, 2]]), array([[4, 6, 3, 5, 1, 6],\n       [6, 6, 6, 3, 2, 4],\n       [1, 5, 4, 2, 6, 3],\n       [2, 3, 6, 4, 5, 1],\n       [3, 1, 2, 6, 4, 5],\n       [6, 5, 5, 1, 3, 2]]), array([[4, 6, 3, 5, 1, 6],\n       [6, 6, 6, 3, 2, 4],\n       [1, 5, 4, 2, 6, 3],\n       [2, 3, 6, 4, 5, 1],\n       [3, 1, 2, 6, 4, 3],\n       [6, 5, 5, 1, 3, 2]]), array([[4, 2, 3, 5, 1, 6],\n       [6, 6, 6, 3, 2, 4],\n       [1, 5, 4, 2, 6, 3],\n       [2, 3, 6, 4, 5, 1],\n       [3, 1, 2, 6, 4, 5],\n       [6, 5, 5, 1, 3, 2]]), array([[4, 6, 3, 5, 1, 6],\n       [6, 6, 6, 3, 2, 4],\n       [1, 5, 4, 2, 6, 3],\n       [2, 3, 6, 4, 5, 1],\n       [2, 1, 2, 6, 4, 5],\n       [6, 5, 5, 1, 3, 2]]), array([[4, 6, 3, 2, 1, 6],\n       [6, 6, 6, 3, 2, 4],\n       [1, 5, 4, 2, 6, 3],\n       [2, 3, 6, 4, 5, 1],\n       [3, 1, 2, 6, 4, 5],\n       [6, 5, 5, 1, 3, 2]]), array([[4, 6, 3, 5, 1, 6],\n       [6, 6, 6, 3, 2, 4],\n       [1, 5, 4, 2, 6, 3],\n       [2, 3, 6, 4, 5, 1],\n       [3, 1, 2, 6, 4, 5],\n       [6, 5, 5, 1, 3, 2]]), array([[4, 6, 3, 5, 1, 6],\n       [6, 6, 6, 3, 2, 4],\n       [1, 5, 4, 2, 6, 3],\n       [2, 3, 6, 4, 5, 1],\n       [3, 1, 2, 6, 4, 5],\n       [6, 5, 5, 1, 3, 2]]), array([[4, 6, 3, 5, 1, 6],\n       [6, 6, 6, 3, 2, 4],\n       [1, 5, 4, 2, 6, 3],\n       [2, 3, 6, 4, 5, 1],\n       [3, 1, 2, 6, 4, 5],\n       [6, 5, 5, 1, 3, 2]])]\n"
    }
   ],
   "source": [
    "\"\"\"\n",
    "se crea el modelo genetico\n",
    "con 100 iteraciones\n",
    "con probabilidad de 0.5\n",
    "con 6 sujetos iniciales\n",
    "con 3 individuos para la reproduccion\n",
    "\n",
    "\"\"\"\n",
    "mutacion_chance = 0.5\n",
    "population = crear_Poblacion()\n",
    "print(\"poblacion inicial: \\n\")\n",
    "arreglo_show = list()\n",
    "for i in range(len(population)):\n",
    "    arreglo_show.append(np.array(population[i]).reshape(6,6))\n",
    "print(arreglo_show)\n",
    "for i in range(100):\n",
    "    population = selection_and_reproduction(population)\n",
    "    population = mutacion(population)\n",
    "print(\"poblacion final:\")\n",
    "arreglo_show = list()\n",
    "for i in range(len(population)):\n",
    "    arreglo_show.append(np.array(population[i]).reshape(6,6))\n",
    "print(arreglo_show)"
   ]
  }
 ],
 "metadata": {
  "language_info": {
   "codemirror_mode": {
    "name": "ipython",
    "version": 3
   },
   "file_extension": ".py",
   "mimetype": "text/x-python",
   "name": "python",
   "nbconvert_exporter": "python",
   "pygments_lexer": "ipython3",
   "version": "3.7.5-final"
  },
  "orig_nbformat": 2,
  "kernelspec": {
   "name": "python37564bit0dc79bb492bd44c78f05d4b2f5c90882",
   "display_name": "Python 3.7.5 64-bit"
  }
 },
 "nbformat": 4,
 "nbformat_minor": 2
}