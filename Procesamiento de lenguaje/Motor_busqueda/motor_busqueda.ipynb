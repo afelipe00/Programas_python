{
 "cells": [
  {
   "cell_type": "code",
   "execution_count": 21,
   "metadata": {},
   "outputs": [],
   "source": [
    "from gensim.parsing.preprocessing import remove_stopwords\n",
    "from  gensim.parsing.porter import PorterStemmer\n",
    "from gensim import corpora\n",
    "from gensim import models\n",
    "from gensim import similarities\n",
    "import xml.etree.ElementTree as ET\n",
    "import os\n",
    "from smart_open import open"
   ]
  },
  {
   "cell_type": "code",
   "execution_count": 22,
   "metadata": {},
   "outputs": [],
   "source": [
    "#funcion que retorna una lista con los docs extraidos de los NAF\n",
    "def xml_extract(carpeta):\n",
    "    dicc_documents = {}\n",
    "    for archivo in os.listdir(carpeta):\n",
    "        direc = carpeta + '/' + archivo\n",
    "        doc = ET.parse(direc)\n",
    "        root = doc.getroot()\n",
    "        Ids = root.find('*/public').get(\"publicId\")\n",
    "        raw = root.find('raw').text\n",
    "        dicc_documents[Ids] = raw\n",
    "    return dicc_documents\n",
    "\n"
   ]
  },
  {
   "cell_type": "code",
   "execution_count": 23,
   "metadata": {},
   "outputs": [],
   "source": [
    "#funcion que normaliza, quita stopwords y hace steming a los doc\n",
    "def process(text):\n",
    "    p = PorterStemmer()\n",
    "    doc_org = text.lower() #normalizo en minusculas\n",
    "    doc_nor = remove_stopwords(doc_org)\n",
    "    doc_stem = p.stem_sentence(doc_nor)\n",
    "    return doc_stem.split()"
   ]
  },
  {
   "cell_type": "code",
   "execution_count": 24,
   "metadata": {},
   "outputs": [],
   "source": [
    "def load_docs():\n",
    "    dic_docs = {}\n",
    "    dic_query = {}\n",
    "    carpeta = 'C:/Users/Felipe Diaz/Documents/GitHub/Programas_python/Procesamiento de lenguaje/Motor_busqueda/prueba'\n",
    "    dic_docs = xml_extract(carpeta)\n",
    "    carpeta = 'C:/Users/Felipe Diaz/Documents/GitHub/Programas_python/Procesamiento de lenguaje/Motor_busqueda/pquery'\n",
    "    dic_query = xml_extract(carpeta)\n",
    "    #se crea la lista con los documentos procesados\n",
    "    docdict = []\n",
    "    for doc in dic_docs:\n",
    "        docdict.append(process(dic_docs[doc]))\n",
    "    #print(\"\\nveamos\\n\")\n",
    "    #for indice in docdict:\n",
    "    #    print(indice)\n",
    "    #llamamos al metodo gensim para crear el diccionario \n",
    "    #a partir de los documentos\n",
    "    vocabulary_doc = corpora.Dictionary(docdict)\n",
    "    vocabulary_doc.save('dic_documents.dict')\n",
    "    print(vocabulary_doc)\n",
    "    print(vocabulary_doc.token2id)\n",
    "    class mycorpus(object):\n",
    "        def __iter__(self):\n",
    "            for doc in dic_docs:\n",
    "                yield vocabulary_doc.doc2bow(process(dic_docs[doc]))\n",
    "    \n",
    "    corpus_memory_friendly = mycorpus()\n",
    "\n",
    "    corpora.MmCorpus.serialize('corpus.mm',corpus_memory_friendly)\n",
    "\n",
    "    corpus = corpora.MmCorpus('corpus.mm')\n",
    "    print(\"\\ncorpus\\n\",corpus)\n",
    "\n",
    "    #IDF Y TF\n",
    "    vocabulary_doc = corpora.Dictionary.load('dic_documents.dict')\n",
    "    corpus = corpora.MmCorpus('corpus.mm')\n",
    "    tfidf = models.TfidfModel(corpus)\n",
    "\n",
    "    lis_doc_bow = []\n",
    "    for querii in dic_query:\n",
    "        query_doc_bow = vocabulary_doc.doc2bow(process(dic_query[querii]))\n",
    "        query_doc_bow = tfidf[query_doc_bow]\n",
    "        lis_doc_bow.append(query_doc_bow)\n",
    "    index = similarities.MatrixSimilarity(tfidf[corpus])\n",
    "    index.save('clase3tfidf.index')\n",
    "\n",
    "    print(\"\\nlista bolsa de palabras query:\\n\",lis_doc_bow)\n",
    "\n",
    "    index = similarities.MatrixSimilarity.load('clase3tfidf.index')\n",
    "\n",
    "    simil_allquery = []\n",
    "    for querii in lis_doc_bow:\n",
    "        print(querii)\n",
    "        sims = index[querii]\n",
    "        print(\"similar\\n\", sims)\n",
    "    "
   ]
  },
  {
   "cell_type": "code",
   "execution_count": 25,
   "metadata": {},
   "outputs": [
    {
     "name": "stdout",
     "output_type": "stream",
     "text": "agstolzen': 24671, 'hanover,': 24672, 'history?‘': 24673, 'iffland': 24674, 'iffland,': 24675, 'iffland-r': 24676, 'iffland-ring,': 24677, 'iffland?': 24678, 'iffland‘': 24679, 'iffland’': 24680, 'imagination,': 24681, 'jäger”,': 24682, 'less': 24683, 'likeness,': 24684, 'masteri': 24685, 'nathan': 24686, 'next…': 24687, 'parts:': 24688, 'predecessor.': 24689, 'princes.': 24690, 'progress.': 24691, 'ring‘': 24692, 'robbers,': 24693, 'robbers‘.': 24694, 'royalty.': 24695, 'sam': 24696, 'schiller‘': 24697, 'sentiment': 24698, 'service”),': 24699, 'theaterfreunde.': 24700, 'uncertain.': 24701, 'walters,': 24702, 'wise': 24703, '‘i': 24704, '‘lord': 24705, '“iffland-ring”,': 24706, '“ringparabel“.': 24707, '5,500': 24708, '8.62-metre-long': 24709, 'affection': 24710, 'archie.': 24711, 'arguabl': 24712, 'attenborough': 24713, 'bloomsburi': 24714, 'budgetari': 24715, 'centre.': 24716, 'computer-enhanc': 24717, 'contest.': 24718, 'creatur': 24719, 'demonstrations.': 24720, 'devon': 24721, 'diliff.': 24722, 'exhibition.': 24723, 'experiences.': 24724, 'festivals.': 24725, 'fowk': 24726, 'idiosyncrat': 24727, 'limited.': 24728, 'microfossil': 24729, 'multimedia': 24730, 'museum‘': 24731, 'opening,': 24732, 'purchased,': 24733, 'remit': 24734, 'retained.': 24735, 'romanesqu': 24736, 'scheme': 24737, 'skeletons,': 24738, 'sloan': 24739, 'squid,': 24740, 'style.': 24741, 'trustees,': 24742, 'waterhous': 24743, 'works”': 24744, '(1809-1862).': 24745, '(generaldirektor)': 24746, '(ludwigs-eisenbahn-gesellschaft),': 24747, '1845/46': 24748, '25th': 24749, '7.45': 24750, 'again': 24751, 'assistance,': 24752, 'astronaut.': 24753, 'bockmüller.': 24754, 'contract.': 24755, 'credentials,': 24756, 'driver,': 24757, 'driver.': 24758, 'driver’': 24759, 'drove': 24760, 'eight-month': 24761, 'englishman“.': 24762, 'extended.': 24763, 'faster.': 24764, 'fell.': 24765, 'fürth.': 24766, 'gentleman‘': 24767, 'hat,': 24768, 'horses.': 24769, 'hourli': 24770, 'instead?': 24771, 'inter-c': 24772, 'litl': 24773, 'locomotive,': 24774, 'locomotives,': 24775, 'mechanic.': 24776, 'no-on': 24777, 'occupation,': 24778, 'overcoat': 24779, 'rails,': 24780, 'railway,': 24781, 'railway.': 24782, 'rainhil': 24783, 'reenact': 24784, 'roof': 24785, 'stand.': 24786, 'steam-hauled,': 24787, 'stephenson': 24788, 'stephenson,': 24789, 'stipul': 24790, 'successors,': 24791, 'walbottle,': 24792, 'wilson‘': 24793, '“tall': 24794, '(1875-1912).': 24795, 'accident.': 24796, 'actress.': 24797, 'applaud': 24798, 'belmont': 24799, 'bleriot‘': 24800, 'bleriot’': 24801, 'competitions.': 24802, 'cuba,': 24803, 'fantas': 24804, 'farmer‘': 24805, 'hamel': 24806, 'leslie‘': 24807, 'leslie‘s,': 24808, 'liberty.': 24809, 'magazine.': 24810, 'moisant': 24811, 'moisant,': 24812, 'pilot‘': 24813, 'quimbi': 24814, 'quimby.': 24815, 'quimby‘': 24816, 'racetrack.': 24817, 'screenplai': 24818, 'thirty-seven,': 24819, 'titanic,': 24820, 'trehawk': 24821, 'vanderbilt': 24822, '114,000.': 24823, '1728': 24824, '42,773': 24825, 'baronet.': 24826, 'comparison,': 24827, 'dictionary,': 24828, 'dictionary.': 24829, 'dixie,': 24830, 'edial': 24831, 'gentleman’': 24832, 'headmast': 24833, 'hector,': 24834, 'hitch': 24835, 'issues,': 24836, 'johnson‘': 24837, 'language”,': 24838, 'lexicographi': 24839, 'presume?‘.': 24840, 'quotation,': 24841, 'rambler': 24842, 'rambler”': 24843, 'saturday.': 24844, 'scholarship,': 24845, 'solihul': 24846, 'tourett': 24847, 'used”.': 24848, 'wakefield“.': 24849, 'warren.': 24850, 'wolstan': 24851, '‘dr': 24852, '‘irene‘.': 24853, '‘only’': 24854, '“dictionari': 24855, '“vicar': 24856, '(3/4': 24857, '(“movement“)': 24858, '(“to': 24859, '1/32': 24860, '1894-1896.': 24861, '1895': 24862, 'alva': 24863, 'anschütz.': 24864, 'apparatus,': 24865, 'apparent.': 24866, 'attraction.': 24867, 'behind.': 24868, 'beneath': 24869, 'bow': 24870, 'bromid': 24871, 'cabinet,': 24872, 'caveat': 24873, 'caveat,': 24874, 'celluloid': 24875, 'charles-émil': 24876, 'cinema': 24877, 'clubs.': 24878, 'coars': 24879, 'concurrently.': 24880, 'cylinder,': 24881, 'dexterity.': 24882, 'dickson': 24883, 'dickson,': 24884, 'disc,': 24885, 'ear”.': 24886, 'edison,': 24887, 'edison‘': 24888, 'employees,': 24889, 'encountered:': 24890, 'filmstudio': 24891, 'funni': 24892, 'grace.': 24893, 'gun“,': 24894, 'image;': 24895, 'inch)': 24896, 'intermitt': 24897, 'jersey,': 24898, 'kineto-': 24899, 'kinetograph,': 24900, 'kinetoscop': 24901, 'kinetoscope,': 24902, 'kinetoscope.': 24903, 'kinetoscopes.': 24904, 'lens.': 24905, 'loop': 24906, 'marey,': 24907, 'momentarili': 24908, 'monkeyshines,': 24909, 'muybridge‘': 24910, 'nickl': 24911, 'ottamar': 24912, 'peep': 24913, 'peephol': 24914, 'perfect…on': 24915, 'pine': 24916, 'retent': 24917, 'reynaud,': 24918, 'scientist-photograph': 24919, 'scopo': 24920, 'show.': 24921, 'smile': 24922, 'spindles.': 24923, 'sprocket': 24924, 'strip-bas': 24925, 'that?': 24926, 'tongue-in-cheek': 24927, 'unaccept': 24928, 'viewer‘': 24929, 'view”).': 24930, 'wheel,': 24931, 'wide,': 24932, 'women‘': 24933, 'wrap': 24934, 'zoopraxiscope,': 24935, 'étienne-jul': 24936, '“chronophotograph': 24937, '“freeze”': 24938, '“small': 24939, '104.': 24940, '14-year': 24941, '1519,': 24942, '1527': 24943, '1533,': 24944, '1544,': 24945, '1559.': 24946, '1562,': 24947, '1566,': 24948, '1568,': 24949, '1572,': 24950, '74': 24951, 'accident“,': 24952, 'alba': 24953, 'all!': 24954, 'all!”.': 24955, 'allianc': 24956, 'ambois': 24957, 'attack.': 24958, 'attacker.': 24959, 'aveng': 24960, 'bartholomew‘': 24961, 'bartholomew’': 24962, 'barthomomew’': 24963, 'blame': 24964, 'bourbon,': 24965, 'catherine,': 24966, 'catherine.': 24967, 'catherine‘': 24968, 'charles‘': 24969, 'chenonceau,': 24970, 'château': 24971, 'coligni': 24972, 'coligny.': 24973, 'condé': 24974, 'consort': 24975, 'consort.': 24976, 'coronation.': 24977, 'cri': 24978, 'deem': 24979, 'dian': 24980, 'diefendorf': 24981, 'dispens': 24982, 'elisabeth': 24983, 'emotion,': 24984, 'enemies,': 24985, 'favours.': 24986, 'fertile.': 24987, 'francis‘': 24988, 'govenor': 24989, 'guis': 24990, 'guise,': 24991, 'havr': 24992, 'henry,': 24993, 'henry‘': 24994, 'heresy.': 24995, 'herself,': 24996, 'hugenot': 24997, 'huguenot': 24998, 'ix': 24999, 'lecturebi': 25000, 'margaret,': 25001, 'margaret.': 25002, 'massacre‘': 25003, 'moldavia.': 25004, 'navarre,': 25005, 'noblewoman': 25006, 'old’': 25007, 'ordered,': 25008, 'orléans,': 25009, 'ottoman': 25010, 'ottoman-control': 25011, 'poitiers,': 25012, 'punit': 25013, 'regrett': 25014, 'retak': 25015, 'saint-denis.': 25016, 'scrap': 25017, 'since,': 25018, 'tout': 25019, 'truce.': 25020, 'urbino': 25021, 'valoi': 25022, 'vassy,': 25023, '“then': 25024, '(robert)': 25025, '(sonia)': 25026, 'au': 25027, 'bourg': 25028, 'bruce,': 25029, 'buckberrough': 25030, 'champ': 25031, 'cubism“.': 25032, 'delaunay.': 25033, 'delaunei': 25034, 'delauney’': 25035, 'delauney’s.': 25036, 'deserter.': 25037, 'disque’': 25038, 'duty.': 25039, 'exam,': 25040, 'futurist': 25041, 'galeri': 25042, 'girl’': 25043, 'gleizes,': 25044, 'herbst': 25045, 'indépend': 25046, 'intensively,': 25047, 'klee,': 25048, 'léger,': 25049, 'macdonald': 25050, 'macke,': 25051, 'marc,': 25052, 'mars:': 25053, 'metzing': 25054, 'metzinger,': 25055, 'metzinger.': 25056, 'metzinger‘': 25057, 'monochromat': 25058, 'orphism': 25059, 'orphism,': 25060, 'orphism.': 25061, 'orphist': 25062, 'painters.': 25063, 'picabia,': 25064, 'pigment,': 25065, 'poiret,': 25066, 'reiter': 25067, 'reiter‘.': 25068, 'ronsin‘': 25069, 'rouge.': 25070, 'russell,': 25071, 'sherri': 25072, 'sonia': 25073, 'sturm.': 25074, 'styles.': 25075, 'terk,': 25076, 'woman‘.': 25077, 'wright,': 25078, '‘der': 25079, '‘deserter‘.': 25080, '‘finnish': 25081, '‘paysag': 25082, '‘sonia': 25083, '“relaunch': 25084, 'all': 25085, 'allerorten': 25086, 'alt': 25087, 'an.': 25088, 'antwort': 25089, 'ausführungen': 25090, 'begeistert.': 25091, 'bestsellerlist': 25092, 'bestsellerliste.': 25093, 'buch': 25094, 'charme:': 25095, 'daher': 25096, 'darau': 25097, 'darmrohr': 25098, 'darmrohr”': 25099, 'dies': 25100, 'diesen': 25101, 'dieser': 25102, 'einmal': 25103, 'enders,': 25104, 'entstandenen': 25105, 'erfolg': 25106, 'erinnerung': 25107, 'es': 25108, 'euch': 25109, 'fragen': 25110, 'freuen': 25111, 'führt': 25112, 'geblieben,': 25113, 'giulia': 25114, 'haben': 25115, 'hervorging.': 25116, 'heut': 25117, 'ihr': 25118, 'ihrem': 25119, 'ihren': 25120, 'insbesonder': 25121, 'interessanten': 25122, 'inzwischen': 25123, 'jahr': 25124, 'jahren': 25125, 'jetzt': 25126, 'kurio': 25127, 'liest': 25128, 'machen': 25129, 'medieninteress': 25130, 'medizinstudentin': 25131, 'mehr': 25132, 'mittelpunkt': 25133, 'mittlerweil': 25134, 'muss.': 25135, 'noch': 25136, 'organ”': 25137, 'paar': 25138, 'paperback-sachbuch': 25139, 'rede': 25140, 'sie': 25141, 'siegerin': 25142, 'siegervideo': 25143, 'slam': 25144, 'stehen': 25145, 'stellen': 25146, 'studentin,': 25147, 'thema': 25148, 'un': 25149, 'unterschätzt': 25150, 'veranstaltung': 25151, 'verstanden,': 25152, 'vom': 25153, 'vor': 25154, 'vor.': 25155, 'wir': 25156, 'zum': 25157, '“berühmtes”': 25158, '“da': 25159, '“darm': 25160, '“kacken”': 25161, '“pupsen”': 25162, '12th': 25163, 'abnorm': 25164, 'agitans.': 25165, 'agitans“,': 25166, 'basal': 25167, 'bradykinesia.': 25168, 'charcot': 25169, 'disease’': 25170, 'doctrines,': 25171, 'drool': 25172, 'gait,': 25173, 'ganglia': 25174, 'geologist,': 25175, 'melita': 25176, 'neurologist': 25177, 'paleontologist,': 25178, 'palsy,': 25179, 'palsy‘': 25180, 'papyru': 25181, 'paralysi': 25182, 'parkinson': 25183, 'parkinson,': 25184, 'parkinson.': 25185, 'parkinson‘': 25186, 'parkinson’': 25187, 'peritonitis.': 25188, 'petrossian,': 25189, 'post-french': 25190, 'rigidity,': 25191, 'shake': 25192, 'surgeon,': 25193, 'treatments.': 25194, 'tremor,': 25195, 'tremor.': 25196, 'tremors.': 25197, '‘shake': 25198, '‘shaki': 25199, '“paralysi': 25200, '(c.8)': 25201, '1895,': 25202, 'acceptance,': 25203, 'achieved,': 25204, 'aerodynamics.': 25205, 'airfield,': 25206, 'airspeed,': 25207, 'autogiro': 25208, 'autogiro,': 25209, 'autogiro.': 25210, 'autorotate,': 25211, 'blade.': 25212, 'c.6': 25213, 'caminos,': 25214, 'capability.': 25215, 'channel,': 25216, 'cierva': 25217, 'cierva,': 25218, 'cierva‘': 25219, 'cierva’': 25220, 'codorníu': 25221, 'croydon': 25222, 'dc-2': 25223, 'declutched.': 25224, 'delivery,': 25225, 'dissymmetri': 25226, 'escuela': 25227, 'farnborough,': 25228, 'fate': 25229, 'flap': 25230, 'franco,': 25231, 'goals.[1]': 25232, 'hafner': 25233, 'hampshire,': 25234, 'hinge.': 25235, 'hub': 25236, 'industrialist': 25237, 'ingeniero': 25238, 'innovation.': 25239, 'it.[1]': 25240, 'jarama.': 25241, 'jump': 25242, 'klm': 25243, 'liaison,': 25244, 'lift)': 25245, 'mathematically.': 25246, 'murcia,': 25247, 'no-lift': 25248, 'paracuello': 25249, 'propeller,': 25250, 'puerto': 25251, 'rotary-w': 25252, 'runway.[2]': 25253, 'satisfactorili': 25254, 'setting,': 25255, 'single-rotor': 25256, 'spider': 25257, 'stall': 25258, 'stall,': 25259, 'stall.': 25260, 'suddenly.': 25261, 'take-off': 25262, 'take-off,': 25263, 'today‘': 25264, 'uk.': 25265, 'unbalanc': 25266, 'unsafe,': 25267, 'variation,': 25268, 'weir,': 25269, 'wing,': 25270, 'bowstr': 25271, 'bridge.[1,2]': 25272, 'bridges.': 25273, 'commission': 25274, 'commissioners.': 25275, 'cotton-spin': 25276, 'diagon': 25277, 'enlargement,': 25278, 'fairfield': 25279, 'fell,': 25280, 'greenwich,': 25281, 'hardwick,': 25282, 'hartwick': 25283, 'investment,': 25284, 'iron.[1,3]': 25285, 'long-term': 25286, 'material,': 25287, 'short-life.': 25288, 'slow,': 25289, 'squir': 25290, 'ton': 25291, 'truss': 25292, 'utica': 25293, 'utica.': 25294, 'whipple.': 25295, '(1781)': 25296, '1759': 25297, '1765,': 25298, '1786.': 25299, '64.[3]': 25300, '[5]': 25301, 'accepted.': 25302, 'accountant,': 25303, 'alik': 25304, 'ardent': 25305, 'bank“,': 25306, 'bars,': 25307, 'benvi': 25308, 'breviary,': 25309, 'broker,': 25310, 'chart,': 25311, 'chart.': 25312, 'clarity.': 25313, 'convict,': 25314, 'depiction.': 25315, 'diagrams:': 25316, 'draftsman,': 25317, 'dunde': 25318, 'economist,': 25319, 'editor,': 25320, 'enlightenment,': 25321, 'export': 25322, 'forev': 25323, 'galignani’': 25324, 'graph,': 25325, 'graph.': 25326, 'graphs.': 25327, 'grasp': 25328, 'hachure,': 25329, 'hints,': 25330, 'journalist.': 25331, 'libel,': 25332, 'liff': 25333, 'meikle,': 25334, 'messenger.': 25335, 'mill-wright': 25336, 'millwright,': 25337, 'pamphleteer,': 25338, 'partners.[4]': 25339, 'pie': 25340, 'playfair': 25341, 'playfair‘': 25342, 'playfair’': 25343, 'prosecut': 25344, 'publicist,': 25345, 'scotland‘': 25346, 'shading,': 25347, 'significance,': 25348, 'silversmith,': 25349, 'speculator,': 25350, 'start.': 25351, 'statistician,': 25352, 'telegraph,': 25353, 'thresh': 25354, 'time-seri': 25355, 'timelin': 25356, 'trade-bal': 25357, 'watt‘': 25358, 'wiliam': 25359, '“secur': 25360, '140': 25361, '1752': 25362, '1760.': 25363, '1776.': 25364, '1830s,': 25365, '247': 25366, '36.000': 25367, 'alta': 25368, 'anza': 25369, 'anza,': 25370, 'anza’': 25371, 'apache.': 25372, 'apporov': 25373, 'arcángel': 25374, 'asiacutes.': 25375, 'assisi': 25376, 'bay.': 25377, 'colonists.': 25378, 'commanch': 25379, 'discovered,': 25380, 'fort,': 25381, 'frai': 25382, 'frontera': 25383, 'gila': 25384, 'monterei': 25385, 'monterey.': 25386, 'new-spanish': 25387, 'orsi': 25388, 'overland': 25389, 'peninsula.': 25390, 'presidio': 25391, 'presidio,': 25392, 'rio': 25393, 'settlement.': 25394, 'sonora,': 25395, 'sonoran': 25396, 'southwest': 25397}\n\ncorpus\n MmCorpus(331 documents, 25398 features, 85394 non-zero entries)\n\nlista bolsa de palabras query:\n [[(750, 0.5371226603573479), (1361, 0.699705532824141), (2589, 0.47107474467002575)], [(56, 0.22208585068536765), (269, 0.9183561377687239), (896, 0.32756660261368087)], [(14871, 1.0)], [(133, 0.28190986390534256), (632, 0.15508663292688316), (1598, 0.9468236186958336)], [(414, 0.48724725579234085), (1897, 0.8732640561266869)], [(706, 0.5386371930161565), (796, 0.48541955963548883), (810, 0.6886492760636315)], [(136, 0.22270723705930576), (163, 0.05553402766128108), (852, 0.4751270950933135), (11373, 0.849453766747382)], [(1386, 0.3619139745693467), (16716, 0.9322114969315806)], [(50, 0.1480549576027511), (1663, 0.32618055853910793), (7582, 0.9336412441405764)], [(466, 0.38815942655156543), (2009, 0.8014955571133657), (3380, 0.45490343096826097)], [(56, 0.19566261125763434), (281, 0.3463500225470456), (2122, 0.38355713449516954), (6500, 0.8334516956700966)], [(264, 0.5050700843512151), (272, 0.4426229125404188), (321, 0.6619652822606069), (1386, 0.33285301901789643)], [(3380, 0.6374295188427228), (3622, 0.7705086686779941)], [(3656, 0.33490763587773076), (3690, 0.356809424955482), (10034, 0.5763180184522098), (22295, 0.6545085570877175)], [(3206, 0.36443638115413546), (4123, 0.36443638115413546), (4221, 0.3508954903768105), (7131, 0.5451470804463132), (7613, 0.5604099068508996)], [(162, 0.28175434282728123), (749, 0.45147822540053356), (16900, 0.8466297315161758)], [(466, 0.3340781185010449), (684, 0.5317962500192829), (1270, 0.36017474410322137), (6448, 0.6898251321272727)], [(56, 0.12097190168996454), (3976, 0.6723359485890905), (19461, 0.7302945783971845)], [(4221, 0.6741108337952176), (4485, 0.7386302077223192)], [(3134, 1.0)], [(210, 0.3811664253139042), (251, 0.500252560753079), (622, 0.4068567214350479), (14850, 0.6625157657720536)], [(942, 0.4116224435265937), (1884, 0.2643961065220761), (5785, 0.4576261592486298), (6629, 0.5927031448141158), (7380, 0.44714979966446144)], [(16, 0.22280424895764336), (1402, 0.37930063562164895), (1936, 0.41269754710943996), (5785, 0.7976026761949117)], [(118, 0.9153493689609252), (1402, 0.4026605676532482)], [(2437, 0.6550424469063898), (3816, 0.7555920809212398)], [(136, 0.6450960749752914), (868, 0.7641014684264603)], [(579, 0.37644995726522434), (3141, 0.9264369539666534)], [(7709, 0.7565643095412673), (13994, 0.6539192958831734)], [(136, 0.23311230744690625), (466, 0.4306055647758372), (3787, 0.623000996614865), (4559, 0.6100059490838973)], [(1115, 0.2484829083872348), (1901, 0.39203733471692415), (1914, 0.46685477035699796), (3426, 0.38622149722037286), (5764, 0.6460979421939367)], [(1291, 0.3865628152903134), (12878, 0.9222630805983871)], [(55, 0.2407978429093176), (1155, 0.3583812072383557), (3641, 0.46078054084573594), (6249, 0.7754099575879262)], [(4303, 0.7434888857983681), (4374, 0.6687482909842096)], [(481, 0.2976631121626366), (540, 0.47183533428782354), (7114, 0.5752324318836417), (9498, 0.5982271627771367)], [(264, 0.49841744680530864), (272, 0.4367928111388928), (1030, 0.5295243567851534), (1525, 0.5295243567851534)]]\n[0.         0.         0.         0.         0.         0.\n 0.         0.         0.         0.         0.         0.\n 0.         0.         0.         0.         0.         0.\n 0.         0.         0.         0.         0.         0.\n 0.         0.         0.         0.         0.         0.\n 0.         0.         0.         0.         0.         0.\n 0.         0.         0.         0.         0.         0.\n 0.         0.         0.         0.         0.         0.\n 0.         0.         0.         0.         0.         0.\n 0.         0.         0.         0.         0.         0.\n 0.         0.         0.         0.         0.         0.\n 0.         0.         0.         0.         0.         0.\n 0.         0.         0.         0.         0.         0.\n 0.         0.         0.         0.         0.         0.\n 0.         0.         0.         0.         0.         0.\n 0.         0.         0.         0.         0.         0.\n 0.         0.         0.         0.         0.         0.\n 0.         0.         0.         0.         0.         0.\n 0.         0.         0.         0.         0.         0.\n 0.         0.         0.         0.         0.         0.\n 0.         0.         0.         0.         0.         0.\n 0.         0.         0.         0.         0.         0.\n 0.         0.         0.         0.         0.         0.\n 0.         0.         0.         0.         0.         0.\n 0.         0.         0.         0.         0.         0.\n 0.         0.038663   0.         0.         0.         0.\n 0.         0.         0.         0.         0.         0.\n 0.         0.         0.         0.         0.         0.\n 0.         0.         0.         0.         0.         0.\n 0.         0.         0.         0.         0.         0.\n 0.         0.         0.         0.         0.         0.\n 0.         0.         0.         0.         0.         0.\n 0.         0.         0.         0.         0.         0.\n 0.         0.         0.         0.         0.         0.\n 0.         0.         0.         0.         0.         0.\n 0.         0.         0.         0.         0.         0.\n 0.         0.         0.         0.         0.         0.\n 0.         0.         0.         0.         0.         0.\n 0.         0.         0.         0.         0.         0.\n 0.         0.         0.         0.         0.         0.\n 0.         0.         0.         0.         0.         0.\n 0.         0.         0.         0.         0.         0.\n 0.         0.         0.         0.         0.         0.\n 0.         0.         0.         0.         0.         0.\n 0.         0.         0.         0.         0.         0.\n 0.         0.         0.         0.         0.         0.\n 0.         0.         0.         0.         0.         0.\n 0.04416244 0.         0.         0.         0.         0.\n 0.         0.         0.         0.         0.         0.\n 0.         0.         0.         0.         0.         0.\n 0.         0.         0.         0.         0.         0.\n 0.         0.         0.         0.         0.         0.\n 0.         0.         0.         0.         0.         0.\n 0.         0.         0.         0.         0.         0.\n 0.         0.         0.         0.         0.         0.\n 0.        ]\n"
    }
   ],
   "source": [
    "if __name__ == \"__main__\":\n",
    "    load_docs()\n"
   ]
  }
 ],
 "metadata": {
  "kernelspec": {
   "display_name": "Python 3",
   "language": "python",
   "name": "python3"
  },
  "language_info": {
   "codemirror_mode": {
    "name": "ipython",
    "version": 3
   },
   "file_extension": ".py",
   "mimetype": "text/x-python",
   "name": "python",
   "nbconvert_exporter": "python",
   "pygments_lexer": "ipython3",
   "version": "3.7.5-final"
  }
 },
 "nbformat": 4,
 "nbformat_minor": 4
}