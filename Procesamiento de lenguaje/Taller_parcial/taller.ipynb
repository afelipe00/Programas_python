{
 "nbformat": 4,
 "nbformat_minor": 2,
 "metadata": {
  "language_info": {
   "name": "python",
   "codemirror_mode": {
    "name": "ipython",
    "version": 3
   },
   "version": "3.7.3-final"
  },
  "orig_nbformat": 2,
  "file_extension": ".py",
  "mimetype": "text/x-python",
  "name": "python",
  "npconvert_exporter": "python",
  "pygments_lexer": "ipython3",
  "version": 3,
  "kernelspec": {
   "name": "python37332bitc0e1efddd7c742e4bca91aa534a1bda5",
   "display_name": "Python 3.7.3 32-bit"
  }
 },
 "cells": [
  {
   "cell_type": "code",
   "execution_count": 445,
   "metadata": {},
   "outputs": [],
   "source": [
    "import re\n",
    "import math"
   ]
  },
  {
   "cell_type": "code",
   "execution_count": 446,
   "metadata": {},
   "outputs": [],
   "source": [
    "def quit_stop(documentos,stop):\n",
    "    lista = []\n",
    "    for dic in documentos:\n",
    "        temp = {}\n",
    "        for word in dic:\n",
    "            if word not in stop:\n",
    "                temp[word] = dic[word]\n",
    "        lista.append(temp)\n",
    "    return lista"
   ]
  },
  {
   "cell_type": "code",
   "execution_count": 447,
   "metadata": {},
   "outputs": [],
   "source": [
    "def stemm(docs):\n",
    "    lista = []\n",
    "    for dic in docs:\n",
    "        if 'estudiamos' in dic:\n",
    "            dic['estudio'] = dic.pop('estudiamos')\n",
    "        if 'estudiar' in dic:\n",
    "            dic['estudio'] = dic.pop('estudiar')\n",
    "        if 'similitudes' in dic:\n",
    "            dic['similitud'] = dic.pop('similitudes')\n",
    "        if 'usando' in dic:\n",
    "            dic['usa'] = dic.pop('usando')\n",
    "        lista.append(dic)\n",
    "    return lista"
   ]
  },
  {
   "cell_type": "code",
   "execution_count": 448,
   "metadata": {},
   "outputs": [],
   "source": [
    "#crea un vocabulario del corpus a partir de una lista de documentos (calcula el IDF)\n",
    "def crear_voc(docs):\n",
    "    voc_corpus = dict()\n",
    "    for dic in docs:\n",
    "        for pal in dic:\n",
    "            if pal in voc_corpus:\n",
    "                voc_corpus[pal]+=1\n",
    "            else:\n",
    "                voc_corpus[pal]=1\n",
    "    return voc_corpus"
   ]
  },
  {
   "cell_type": "code",
   "execution_count": 449,
   "metadata": {},
   "outputs": [],
   "source": [
    "#se tokeniza los documentos y se calcula el TF\n",
    "def tokenizar(doc):\n",
    "    documents = []\n",
    "    for palabras in doc:\n",
    "        text = palabras\n",
    "        text_normal = text.lower()\n",
    "        lista_pal = re.findall(r'[\\w]+',text_normal)\n",
    "        document_words = {}\n",
    "        for key in lista_pal:\n",
    "            if key in document_words:\n",
    "                document_words[key]+=1\n",
    "            else:\n",
    "                document_words[key]=1\n",
    "        documents.append(document_words)\n",
    "    return documents"
   ]
  },
  {
   "cell_type": "code",
   "execution_count": 450,
   "metadata": {},
   "outputs": [],
   "source": [
    "def TF_IDF(voc, documentos):\n",
    "    print (\"vocabulario: \", voc)\n",
    "    print(len(voc))\n",
    "    list_idftf = []\n",
    "    for dic in documentos:\n",
    "        dic_idftf = {}\n",
    "        for key in voc:\n",
    "            if key not in dic:\n",
    "                 dic_idftf[key] = 0\n",
    "            else:\n",
    "                dic_idftf[key] = (dic[key]/len(dic)) * (math.log10(len(documentos)/voc[key]))\n",
    "        #print(\"idftf: \", dic_idftf)\n",
    "        list_idftf.append(dic_idftf)\n",
    "    return list_idftf                  "
   ]
  },
  {
   "cell_type": "code",
   "execution_count": 451,
   "metadata": {},
   "outputs": [],
   "source": [
    "#lee archivos de texto metiendolos en listas \n",
    "def lectura_text():\n",
    "    documentos = []\n",
    "    doc_token = []\n",
    "    stop_words = []\n",
    "    voc_corpus = {}\n",
    "    with open(\"corpus.txt\",\"r\",encoding='utf8') as doc:#se leen los documentos\n",
    "        for lineas, texto in enumerate(doc):\n",
    "            documentos.append(texto)\n",
    "    with open(\"stopwords.txt\",\"r\",encoding='utf8') as stop:#se leen las stopwords\n",
    "        for lineas, texto in enumerate(stop):\n",
    "            texto = texto.rstrip('\\n')\n",
    "            stop_words.append(texto)\n",
    "    doc_token = tokenizar(documentos)# se tokenizan todos los documentos (lista de diccionarios)\n",
    "    doc_token = quit_stop(doc_token,stop_words)# se quitan las stop words de los documentos (lista de diccionarios)\n",
    "    doc_token = stemm(doc_token)# se stemmizan los documentos ()\n",
    "    voc_corpus = crear_voc(doc_token)\n",
    "    list_tfidf = TF_IDF(voc_corpus,doc_token)\n",
    "    print(\"lista idftfs:\", list_tfidf)\n"
   ]
  },
  {
   "cell_type": "code",
   "execution_count": 452,
   "metadata": {},
   "outputs": [
    {
     "name": "stdout",
     "output_type": "stream",
     "text": "vocabulario:  {'pasar': 1, 'parcial': 1, 'estudio': 3, 'practico': 1, 'python': 2, 'voy': 1, 'avanzar': 1, 'curso': 1, 'clase': 1, 'modelo': 4, 'bolsa': 4, 'palabras': 4, 'requiere': 1, 'procesar': 2, 'texto': 2, 'remover': 1, 'stopwords': 1, 'normalizar': 1, 'tareas': 1, 'ponderar': 1, 'importancias': 1, 'usa': 2, 'tfidf': 1, 'calcular': 2, 'documentos': 2, 'debemos': 1, 'vectorizar': 1, 'similitud': 3, 'distancia': 1, 'coseno': 1, 'podemos': 1, 'implementamos': 1, 'diferentes': 1, 'medidas': 1, 'métricas': 2, 'evaluación': 2, 'empleadas': 1, 'encuentra': 1, 'medida': 1, 'f1': 1}\n40\nlista idftfs: [{'pasar': 0.3333333333333333, 'parcial': 0.3333333333333333, 'estudio': 0.17429291509344585, 'practico': 0, 'python': 0, 'voy': 0, 'avanzar': 0, 'curso': 0, 'clase': 0, 'modelo': 0, 'bolsa': 0, 'palabras': 0, 'requiere': 0, 'procesar': 0, 'texto': 0, 'remover': 0, 'stopwords': 0, 'normalizar': 0, 'tareas': 0, 'ponderar': 0, 'importancias': 0, 'usa': 0, 'tfidf': 0, 'calcular': 0, 'documentos': 0, 'debemos': 0, 'vectorizar': 0, 'similitud': 0, 'distancia': 0, 'coseno': 0, 'podemos': 0, 'implementamos': 0, 'diferentes': 0, 'medidas': 0, 'métricas': 0, 'evaluación': 0, 'empleadas': 0, 'encuentra': 0, 'medida': 0, 'f1': 0}, {'pasar': 0, 'parcial': 0, 'estudio': 0, 'practico': 0.2, 'python': 0.13979400086720378, 'voy': 0.2, 'avanzar': 0.2, 'curso': 0.2, 'clase': 0, 'modelo': 0, 'bolsa': 0, 'palabras': 0, 'requiere': 0, 'procesar': 0, 'texto': 0, 'remover': 0, 'stopwords': 0, 'normalizar': 0, 'tareas': 0, 'ponderar': 0, 'importancias': 0, 'usa': 0, 'tfidf': 0, 'calcular': 0, 'documentos': 0, 'debemos': 0, 'vectorizar': 0, 'similitud': 0, 'distancia': 0, 'coseno': 0, 'podemos': 0, 'implementamos': 0, 'diferentes': 0, 'medidas': 0, 'métricas': 0, 'evaluación': 0, 'empleadas': 0, 'encuentra': 0, 'medida': 0, 'f1': 0}, {'pasar': 0, 'parcial': 0, 'estudio': 0.10457574905606754, 'practico': 0, 'python': 0, 'voy': 0, 'avanzar': 0, 'curso': 0, 'clase': 0.2, 'modelo': 0.07958800173440753, 'bolsa': 0.07958800173440753, 'palabras': 0.07958800173440753, 'requiere': 0, 'procesar': 0, 'texto': 0, 'remover': 0, 'stopwords': 0, 'normalizar': 0, 'tareas': 0, 'ponderar': 0, 'importancias': 0, 'usa': 0, 'tfidf': 0, 'calcular': 0, 'documentos': 0, 'debemos': 0, 'vectorizar': 0, 'similitud': 0, 'distancia': 0, 'coseno': 0, 'podemos': 0, 'implementamos': 0, 'diferentes': 0, 'medidas': 0, 'métricas': 0, 'evaluación': 0, 'empleadas': 0, 'encuentra': 0, 'medida': 0, 'f1': 0}, {'pasar': 0, 'parcial': 0, 'estudio': 0, 'practico': 0, 'python': 0, 'voy': 0, 'avanzar': 0, 'curso': 0, 'clase': 0, 'modelo': 0.06632333477867293, 'bolsa': 0.06632333477867293, 'palabras': 0.06632333477867293, 'requiere': 0.16666666666666666, 'procesar': 0.1164950007226698, 'texto': 0.1164950007226698, 'remover': 0, 'stopwords': 0, 'normalizar': 0, 'tareas': 0, 'ponderar': 0, 'importancias': 0, 'usa': 0, 'tfidf': 0, 'calcular': 0, 'documentos': 0, 'debemos': 0, 'vectorizar': 0, 'similitud': 0, 'distancia': 0, 'coseno': 0, 'podemos': 0, 'implementamos': 0, 'diferentes': 0, 'medidas': 0, 'métricas': 0, 'evaluación': 0, 'empleadas': 0, 'encuentra': 0, 'medida': 0, 'f1': 0}, {'pasar': 0, 'parcial': 0, 'estudio': 0, 'practico': 0, 'python': 0, 'voy': 0, 'avanzar': 0, 'curso': 0, 'clase': 0, 'modelo': 0, 'bolsa': 0, 'palabras': 0, 'requiere': 0, 'procesar': 0.1164950007226698, 'texto': 0.1164950007226698, 'remover': 0.16666666666666666, 'stopwords': 0.16666666666666666, 'normalizar': 0.16666666666666666, 'tareas': 0.16666666666666666, 'ponderar': 0, 'importancias': 0, 'usa': 0, 'tfidf': 0, 'calcular': 0, 'documentos': 0, 'debemos': 0, 'vectorizar': 0, 'similitud': 0, 'distancia': 0, 'coseno': 0, 'podemos': 0, 'implementamos': 0, 'diferentes': 0, 'medidas': 0, 'métricas': 0, 'evaluación': 0, 'empleadas': 0, 'encuentra': 0, 'medida': 0, 'f1': 0}, {'pasar': 0, 'parcial': 0, 'estudio': 0, 'practico': 0, 'python': 0, 'voy': 0, 'avanzar': 0, 'curso': 0, 'clase': 0, 'modelo': 0.05684857266743394, 'bolsa': 0.05684857266743394, 'palabras': 0.11369714533486788, 'requiere': 0, 'procesar': 0, 'texto': 0, 'remover': 0, 'stopwords': 0, 'normalizar': 0, 'tareas': 0, 'ponderar': 0.14285714285714285, 'importancias': 0.14285714285714285, 'usa': 0.0998528577622884, 'tfidf': 0.14285714285714285, 'calcular': 0, 'documentos': 0, 'debemos': 0, 'vectorizar': 0, 'similitud': 0, 'distancia': 0, 'coseno': 0, 'podemos': 0, 'implementamos': 0, 'diferentes': 0, 'medidas': 0, 'métricas': 0, 'evaluación': 0, 'empleadas': 0, 'encuentra': 0, 'medida': 0, 'f1': 0}, {'pasar': 0, 'parcial': 0, 'estudio': 0, 'practico': 0, 'python': 0, 'voy': 0, 'avanzar': 0, 'curso': 0, 'clase': 0, 'modelo': 0.0497425010840047, 'bolsa': 0.0497425010840047, 'palabras': 0.0497425010840047, 'requiere': 0, 'procesar': 0, 'texto': 0, 'remover': 0, 'stopwords': 0, 'normalizar': 0, 'tareas': 0, 'ponderar': 0, 'importancias': 0, 'usa': 0, 'tfidf': 0, 'calcular': 0.08737125054200236, 'documentos': 0.08737125054200236, 'debemos': 0.125, 'vectorizar': 0.125, 'similitud': 0.0653598431600422, 'distancia': 0, 'coseno': 0, 'podemos': 0, 'implementamos': 0, 'diferentes': 0, 'medidas': 0, 'métricas': 0, 'evaluación': 0, 'empleadas': 0, 'encuentra': 0, 'medida': 0, 'f1': 0}, {'pasar': 0, 'parcial': 0, 'estudio': 0, 'practico': 0, 'python': 0, 'voy': 0, 'avanzar': 0, 'curso': 0, 'clase': 0, 'modelo': 0, 'bolsa': 0, 'palabras': 0, 'requiere': 0, 'procesar': 0, 'texto': 0, 'remover': 0, 'stopwords': 0, 'normalizar': 0, 'tareas': 0, 'ponderar': 0, 'importancias': 0, 'usa': 0.0998528577622884, 'tfidf': 0, 'calcular': 0.0998528577622884, 'documentos': 0.0998528577622884, 'debemos': 0, 'vectorizar': 0, 'similitud': 0.0746969636114768, 'distancia': 0.14285714285714285, 'coseno': 0.14285714285714285, 'podemos': 0.14285714285714285, 'implementamos': 0, 'diferentes': 0, 'medidas': 0, 'métricas': 0, 'evaluación': 0, 'empleadas': 0, 'encuentra': 0, 'medida': 0, 'f1': 0}, {'pasar': 0, 'parcial': 0, 'estudio': 0.0653598431600422, 'practico': 0, 'python': 0.08737125054200236, 'voy': 0, 'avanzar': 0, 'curso': 0, 'clase': 0, 'modelo': 0, 'bolsa': 0, 'palabras': 0, 'requiere': 0, 'procesar': 0, 'texto': 0, 'remover': 0, 'stopwords': 0, 'normalizar': 0, 'tareas': 0, 'ponderar': 0, 'importancias': 0, 'usa': 0, 'tfidf': 0, 'calcular': 0, 'documentos': 0, 'debemos': 0, 'vectorizar': 0, 'similitud': 0.0653598431600422, 'distancia': 0, 'coseno': 0, 'podemos': 0, 'implementamos': 0.125, 'diferentes': 0.25, 'medidas': 0.125, 'métricas': 0.08737125054200236, 'evaluación': 0.08737125054200236, 'empleadas': 0, 'encuentra': 0, 'medida': 0, 'f1': 0}, {'pasar': 0, 'parcial': 0, 'estudio': 0, 'practico': 0, 'python': 0, 'voy': 0, 'avanzar': 0, 'curso': 0, 'clase': 0, 'modelo': 0, 'bolsa': 0, 'palabras': 0, 'requiere': 0, 'procesar': 0, 'texto': 0, 'remover': 0, 'stopwords': 0, 'normalizar': 0, 'tareas': 0, 'ponderar': 0, 'importancias': 0, 'usa': 0, 'tfidf': 0, 'calcular': 0, 'documentos': 0, 'debemos': 0, 'vectorizar': 0, 'similitud': 0, 'distancia': 0, 'coseno': 0, 'podemos': 0, 'implementamos': 0, 'diferentes': 0, 'medidas': 0, 'métricas': 0.1164950007226698, 'evaluación': 0.1164950007226698, 'empleadas': 0.16666666666666666, 'encuentra': 0.16666666666666666, 'medida': 0.16666666666666666, 'f1': 0.16666666666666666}]\n"
    }
   ],
   "source": [
    "if __name__ == \"__main__\":\n",
    "    lectura_text()"
   ]
  }
 ]
}