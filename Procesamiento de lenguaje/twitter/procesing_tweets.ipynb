{
 "cells": [
  {
   "cell_type": "code",
   "execution_count": 35,
   "metadata": {},
   "outputs": [],
   "source": [
    "import pandas as pd\n",
    "import numpy as np"
   ]
  },
  {
   "cell_type": "code",
   "execution_count": 36,
   "metadata": {},
   "outputs": [
    {
     "output_type": "stream",
     "name": "stderr",
     "text": "b'Skipping line 657616: expected 7 fields, saw 8\\nSkipping line 657844: expected 7 fields, saw 10\\n'\n"
    },
    {
     "output_type": "execute_result",
     "data": {
      "text/plain": "                    id             user                        location  \\\n0  1251188710235832321      BaldEagle68                         Alkmaar   \n1  1251188710021922817   JackieMcReath1                           earth   \n2  1251188710214959105    Rocko_Supreme                    Brooklyn, NY   \n3  1251188710290403335       hegotbanks  university of central arkansas   \n4  1251188710407888897     Stu20199Rudd             Rhinebeck, New York   \n5  1251190667918946305       ErikkUglyy                      Dallas, TX   \n6  1251190668040560640  abdulmuhammad30                          London   \n7  1251190668107681794      guiiguihime                 Candied Island    \n8  1251190668279582721       leidyste10                      Dallas, TX   \n9  1251190668472586240    featuringFool                             NaN   \n\n                                               tweet lang mourning sentiment  \n0      Toilet paper delivery #UniqueDeliveryServices   en      NaN       NaN  \n1   @SpeakerPelosi a failed leader and an evil woman   en      NaN       NaN  \n2             The irs said fuck me and that stimulus   en      NaN       NaN  \n3  This COVID-19 pandemic would’ve went a lot smo...   en      NaN       NaN  \n4  With the Keys of the Kingdom of Heaven, I Loos...   en      NaN       NaN  \n5                                  @glosaucedo Pussy   en      NaN       NaN  \n6  This is honestly grotesque. NHS staff to be as...   en      NaN       NaN  \n7  @saudianprincess 😭😭😭 I’m dumb so I can’t. But ...   en      NaN       NaN  \n8  Ah it's been a year now\\r\\nThink I've figured ...   en      NaN       NaN  \n9                                               Send   en      NaN       NaN  ",
      "text/html": "<div>\n<style scoped>\n    .dataframe tbody tr th:only-of-type {\n        vertical-align: middle;\n    }\n\n    .dataframe tbody tr th {\n        vertical-align: top;\n    }\n\n    .dataframe thead th {\n        text-align: right;\n    }\n</style>\n<table border=\"1\" class=\"dataframe\">\n  <thead>\n    <tr style=\"text-align: right;\">\n      <th></th>\n      <th>id</th>\n      <th>user</th>\n      <th>location</th>\n      <th>tweet</th>\n      <th>lang</th>\n      <th>mourning</th>\n      <th>sentiment</th>\n    </tr>\n  </thead>\n  <tbody>\n    <tr>\n      <th>0</th>\n      <td>1251188710235832321</td>\n      <td>BaldEagle68</td>\n      <td>Alkmaar</td>\n      <td>Toilet paper delivery #UniqueDeliveryServices</td>\n      <td>en</td>\n      <td>NaN</td>\n      <td>NaN</td>\n    </tr>\n    <tr>\n      <th>1</th>\n      <td>1251188710021922817</td>\n      <td>JackieMcReath1</td>\n      <td>earth</td>\n      <td>@SpeakerPelosi a failed leader and an evil woman</td>\n      <td>en</td>\n      <td>NaN</td>\n      <td>NaN</td>\n    </tr>\n    <tr>\n      <th>2</th>\n      <td>1251188710214959105</td>\n      <td>Rocko_Supreme</td>\n      <td>Brooklyn, NY</td>\n      <td>The irs said fuck me and that stimulus</td>\n      <td>en</td>\n      <td>NaN</td>\n      <td>NaN</td>\n    </tr>\n    <tr>\n      <th>3</th>\n      <td>1251188710290403335</td>\n      <td>hegotbanks</td>\n      <td>university of central arkansas</td>\n      <td>This COVID-19 pandemic would’ve went a lot smo...</td>\n      <td>en</td>\n      <td>NaN</td>\n      <td>NaN</td>\n    </tr>\n    <tr>\n      <th>4</th>\n      <td>1251188710407888897</td>\n      <td>Stu20199Rudd</td>\n      <td>Rhinebeck, New York</td>\n      <td>With the Keys of the Kingdom of Heaven, I Loos...</td>\n      <td>en</td>\n      <td>NaN</td>\n      <td>NaN</td>\n    </tr>\n    <tr>\n      <th>5</th>\n      <td>1251190667918946305</td>\n      <td>ErikkUglyy</td>\n      <td>Dallas, TX</td>\n      <td>@glosaucedo Pussy</td>\n      <td>en</td>\n      <td>NaN</td>\n      <td>NaN</td>\n    </tr>\n    <tr>\n      <th>6</th>\n      <td>1251190668040560640</td>\n      <td>abdulmuhammad30</td>\n      <td>London</td>\n      <td>This is honestly grotesque. NHS staff to be as...</td>\n      <td>en</td>\n      <td>NaN</td>\n      <td>NaN</td>\n    </tr>\n    <tr>\n      <th>7</th>\n      <td>1251190668107681794</td>\n      <td>guiiguihime</td>\n      <td>Candied Island</td>\n      <td>@saudianprincess 😭😭😭 I’m dumb so I can’t. But ...</td>\n      <td>en</td>\n      <td>NaN</td>\n      <td>NaN</td>\n    </tr>\n    <tr>\n      <th>8</th>\n      <td>1251190668279582721</td>\n      <td>leidyste10</td>\n      <td>Dallas, TX</td>\n      <td>Ah it's been a year now\\r\\nThink I've figured ...</td>\n      <td>en</td>\n      <td>NaN</td>\n      <td>NaN</td>\n    </tr>\n    <tr>\n      <th>9</th>\n      <td>1251190668472586240</td>\n      <td>featuringFool</td>\n      <td>NaN</td>\n      <td>Send</td>\n      <td>en</td>\n      <td>NaN</td>\n      <td>NaN</td>\n    </tr>\n  </tbody>\n</table>\n</div>"
     },
     "metadata": {},
     "execution_count": 36
    }
   ],
   "source": [
    "\"\"\"\n",
    "lectura del csv\n",
    "\n",
    "\"\"\"\n",
    "df_tweets = pd.read_csv(\"tweet.csv\", error_bad_lines=False)\n",
    "df_tweets.head(10)"
   ]
  },
  {
   "cell_type": "code",
   "execution_count": 37,
   "metadata": {},
   "outputs": [
    {
     "output_type": "stream",
     "name": "stdout",
     "text": "(355, 7)\n                    id             user        location  \\\n0  1251196254647975936    Simon75218139             NaN   \n1  1251201468406906880   isaaclcolorado  Monterrey, Mex   \n2  1251203095754915842  Juan_manuel_Fer             NaN   \n3  1251203111542235136      miraLaAngie             NaN   \n4  1251204374090702848      KLaw0909091         Unknown   \n\n                                               tweet lang mourning sentiment  \n0                       I want to do san pedro again   en      NaN       NaN  \n1  @MauricioHr_ No fuiste el primero en adivinar,...   es      NaN       NaN  \n2  Jesucristo se pasó por allí! Lo que no consiga...   es      NaN       NaN  \n3  Happy birthday brother I miss you more than ev...   en      NaN       NaN  \n4            Bless the angels for watching over me 👼   en      NaN       NaN  \n"
    }
   ],
   "source": [
    "srs_text = df_tweets[\"tweet\"]\n",
    "srs_text = srs_text.dropna()\n",
    "df_filtred = pd.DataFrame(columns=[\"id\",\"user\",\"location\",\"tweet\",\"lang\",\"mourning\",\"sentiment\"])\n",
    "try:\n",
    "    count_true = 0\n",
    "    count_iter = 0\n",
    "    for text in srs_text:\n",
    "        if \"qepd\" in text:\n",
    "            df_filtred.loc[count_true] = df_tweets.loc[count_iter]\n",
    "            count_true += 1\n",
    "        elif \"QEPD\" in text:\n",
    "            df_filtred.loc[count_true] = df_tweets.loc[count_iter]\n",
    "            count_true += 1\n",
    "        elif \"no me arrepiento\" in text:\n",
    "            df_filtred.loc[count_true] = df_tweets.loc[count_iter]\n",
    "            count_true += 1\n",
    "        elif \"#QEPD\" in text:\n",
    "            df_filtred.loc[count_true] = df_tweets.loc[count_iter]\n",
    "            count_true += 1\n",
    "        elif \"#qepd\" in text:\n",
    "            df_filtred.loc[count_true] = df_tweets.loc[count_iter]\n",
    "            count_true += 1\n",
    "        elif \"jamas te olvidare\" in text:\n",
    "            df_filtred.loc[count_true] = df_tweets.loc[count_iter]\n",
    "            count_true += 1\n",
    "        elif \"otra vida\" in text:\n",
    "            df_filtred.loc[count_true] = df_tweets.loc[count_iter]\n",
    "            count_true += 1\n",
    "        elif \"lugar mejor\" in text:\n",
    "            df_filtred.loc[count_true] = df_tweets.loc[count_iter]\n",
    "            count_true += 1\n",
    "        elif \"👼\" in text:\n",
    "            df_filtred.loc[count_true] = df_tweets.loc[count_iter]\n",
    "            count_true += 1\n",
    "        elif \"👴\" in text:\n",
    "            df_filtred.loc[count_true] = df_tweets.loc[count_iter]\n",
    "            count_true += 1\n",
    "        elif \"en los cielos\" in text:\n",
    "            df_filtred.loc[count_true] = df_tweets.loc[count_iter]\n",
    "            count_true += 1\n",
    "        elif \"cielos\" in text:\n",
    "            df_filtred.loc[count_true] = df_tweets.loc[count_iter]\n",
    "            count_true += 1\n",
    "        elif \"angelito\" in text:\n",
    "            df_filtred.loc[count_true] = df_tweets.loc[count_iter]\n",
    "            count_true += 1\n",
    "        elif \"en tu muerte\" in text:\n",
    "            df_filtred.loc[count_true] = df_tweets.loc[count_iter]\n",
    "            count_true +=1\n",
    "        elif \"san pedro\" in text:\n",
    "            df_filtred.loc[count_true] = df_tweets.loc[count_iter]\n",
    "            count_true += 1\n",
    "        elif \"💒\" in text:\n",
    "            df_filtred.loc[count_true] = df_tweets.loc[count_iter]\n",
    "            count_true += 1\n",
    "        elif \"✝️\" in text:\n",
    "            df_filtred.loc[count_true] = df_tweets.loc[count_iter]\n",
    "            count_true += 1\n",
    "        elif \"en la cruz\" in text:\n",
    "            df_filtred.loc[count_true] = df_tweets.loc[count_iter]\n",
    "            count_true += 1\n",
    "        elif \"si estuvieras acá\" in text:\n",
    "            df_filtred.loc[count_true] = df_tweets.loc[count_iter]\n",
    "            count_true += 1\n",
    "        elif \"fuiste\" in text:\n",
    "            df_filtred.loc[count_true] = df_tweets.loc[count_iter]\n",
    "            count_true += 1\n",
    "        elif \"cristo\" in text:\n",
    "            df_filtred.loc[count_true] = df_tweets.loc[count_iter]\n",
    "            count_true +=1\n",
    "        elif \"enseñaste\" in text:\n",
    "            df_filtred.loc[count_true] = df_tweets.loc[count_iter]\n",
    "            count_true +=1\n",
    "        elif \"en los cielos\" in text:\n",
    "            df_filtred.loc[count_true] = df_tweets.loc[count_iter]\n",
    "            count_true +=1\n",
    "        elif \"pésame\" in text:\n",
    "            df_filtred.loc[count_true] = df_tweets.loc[count_iter]\n",
    "            count_true +=1\n",
    "        elif \"pesame\" in text:\n",
    "            df_filtred.loc[count_true] = df_tweets.loc[count_iter]\n",
    "            count_true +=1\n",
    "        elif \"está con dios\" in text:\n",
    "            df_filtred.loc[count_true] = df_tweets.loc[count_iter]\n",
    "            count_true +=1\n",
    "        count_iter += 1\n",
    "    print(df_filtred.shape)\n",
    "    print(df_filtred.head(5))\n",
    "except ValueError:\n",
    "    print(\"uj\")"
   ]
  },
  {
   "cell_type": "code",
   "execution_count": 38,
   "metadata": {},
   "outputs": [],
   "source": [
    "df_filtred.to_csv(\"tweets_filtrados.csv\")"
   ]
  },
  {
   "cell_type": "code",
   "execution_count": 39,
   "metadata": {},
   "outputs": [
    {
     "output_type": "execute_result",
     "data": {
      "text/plain": "en                                                                                                      855168\nes                                                                                                      228299\n CA\"                                                                                                         3\n USA\"                                                                                                        3\n iâ€™ll be up as soon as itâ€™s not a bad idea lmfao\"                                                        1\nMex.\"                                                                                                        1\n OH\"                                                                                                         1\n Mt. Vernon NY \"                                                                                             1\n Texas\"                                                                                                      1\n England\"                                                                                                    1\nMorocco\"                                                                                                     1\n Patricio ViÃ±ayo y Luis Helguera tambiÃ©n pasarÃ¡n los test de la Covid-19 https://t.co/QoA61tvjdt\"         1\n-119.185021\"                                                                                                 1\n she/her\"                                                                                                    1\n Ga\"                                                                                                         1\n NY\"                                                                                                         1\nName: lang, dtype: int64"
     },
     "metadata": {},
     "execution_count": 39
    }
   ],
   "source": [
    "df_tweets[\"lang\"].value_counts()"
   ]
  },
  {
   "cell_type": "code",
   "execution_count": 40,
   "metadata": {},
   "outputs": [],
   "source": [
    "df_span = df_tweets[df_tweets['lang'] == 'es']\n",
    "df_span.head(10)\n",
    "df_span.to_csv('tweet_mortem.csv')"
   ]
  },
  {
   "cell_type": "code",
   "execution_count": null,
   "metadata": {},
   "outputs": [],
   "source": []
  }
 ],
 "metadata": {
  "language_info": {
   "codemirror_mode": {
    "name": "ipython",
    "version": 3
   },
   "file_extension": ".py",
   "mimetype": "text/x-python",
   "name": "python",
   "nbconvert_exporter": "python",
   "pygments_lexer": "ipython3",
   "version": "3.7.5-final"
  },
  "orig_nbformat": 2,
  "kernelspec": {
   "name": "python37564bit1b6489eee0f845e28af683dd994f85fb",
   "display_name": "Python 3.7.5 64-bit"
  }
 },
 "nbformat": 4,
 "nbformat_minor": 2
}