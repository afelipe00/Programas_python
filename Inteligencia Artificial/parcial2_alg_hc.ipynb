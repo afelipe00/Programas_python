{
 "cells": [
  {
   "cell_type": "code",
   "execution_count": 45,
   "metadata": {},
   "outputs": [],
   "source": [
    "import random\n",
    "import numpy as np\n",
    "import pandas as pd"
   ]
  },
  {
   "cell_type": "code",
   "execution_count": 46,
   "metadata": {},
   "outputs": [
    {
     "output_type": "execute_result",
     "data": {
      "text/plain": "array([[0, 0, 3, 0, 1, 0],\n       [5, 6, 0, 3, 2, 0],\n       [0, 5, 4, 2, 0, 3],\n       [2, 0, 6, 4, 5, 0],\n       [0, 1, 2, 0, 4, 5],\n       [0, 4, 0, 1, 0, 0]])"
     },
     "metadata": {},
     "execution_count": 46
    }
   ],
   "source": [
    "#variables iniciales para la funcionalidad del codigo\n",
    "tablero_inicial = np.array([[0,0,3,0,1,0],[5,6,0,3,2,0],[0,5,4,2,0,3],[2,0,6,4,5,0],[0,1,2,0,4,5],[0,4,0,1,0,0]])\n",
    "tablero_modelo = np.array([[4,2,3,5,1,6],[5,6,1,3,2,4],[1,5,4,2,6,3],[2,3,6,4,5,1],[3,1,2,6,4,5],[6,4,5,1,3,2]])\n",
    "tablero_inicial"
   ]
  },
  {
   "cell_type": "code",
   "execution_count": 92,
   "metadata": {},
   "outputs": [],
   "source": [
    "#funcion que valida el correcto funcionamiento del codigo\n",
    "def es_valido(tablero):\n",
    "    valido = True\n",
    "    #loop para ver si las filas son validas\n",
    "    for fil in tablero:\n",
    "        serie = pd.Series(fil)\n",
    "        valido = filas(serie)\n",
    "    #loop para ver si las columnas son validas\n",
    "    for col in range(len(tablero)):\n",
    "        column = pd.Series(tablero[:,col])\n",
    "        valido = columnas(column)\n",
    "    #loop para seleccionar los cuadrantes\n",
    "    cu1 = tablero[:2,:3]\n",
    "    cu1 = cu1.ravel()\n",
    "    cu2 = tablero[:2,3:]\n",
    "    cu2 = cu2.ravel()\n",
    "    cu3 = tablero[2:4,:3]\n",
    "    cu3 = cu3.ravel()\n",
    "    cu4 = tablero[2:4,3:]\n",
    "    cu4 = cu4.ravel()\n",
    "    cu5 = tablero[4:,:3]\n",
    "    cu5 = cu5.ravel()\n",
    "    cu6 = tablero[4:,3:]\n",
    "    cu6 = cu6.ravel()\n",
    "    list_cuad = [pd.Series(cu1),pd.Series(cu2),pd.Series(cu3),pd.Series(cu4),pd.Series(cu5),pd.Series(cu6)]\n",
    "    for i in list_cuad:\n",
    "        cuadrante(i)\n",
    "    print(valido)\n",
    "    return valido  \n",
    "    \n",
    "def filas(fila):\n",
    "    if len(fila.value_counts()) != 6:\n",
    "        return False\n",
    "    else:\n",
    "        return True\n",
    "\n",
    "def columnas(col):\n",
    "    if len(col.value_counts()) != 6:\n",
    "        return False\n",
    "    else:\n",
    "        return True\n",
    "\n",
    "def cuadrante(cuad):\n",
    "    if len(cuad.value_counts()) != 6:\n",
    "        return False\n",
    "    else:\n",
    "        return True"
   ]
  },
  {
   "cell_type": "code",
   "execution_count": 94,
   "metadata": {},
   "outputs": [
    {
     "output_type": "stream",
     "name": "stdout",
     "text": "False\n"
    }
   ],
   "source": [
    "es_valido(tablero_inicial)"
   ]
  },
  {
   "cell_type": "code",
   "execution_count": null,
   "metadata": {},
   "outputs": [],
   "source": []
  },
  {
   "cell_type": "code",
   "execution_count": null,
   "metadata": {},
   "outputs": [],
   "source": []
  }
 ],
 "metadata": {
  "language_info": {
   "codemirror_mode": {
    "name": "ipython",
    "version": 3
   },
   "file_extension": ".py",
   "mimetype": "text/x-python",
   "name": "python",
   "nbconvert_exporter": "python",
   "pygments_lexer": "ipython3",
   "version": "3.7.5-final"
  },
  "orig_nbformat": 2,
  "kernelspec": {
   "name": "python37564bit0dc79bb492bd44c78f05d4b2f5c90882",
   "display_name": "Python 3.7.5 64-bit"
  }
 },
 "nbformat": 4,
 "nbformat_minor": 2
}