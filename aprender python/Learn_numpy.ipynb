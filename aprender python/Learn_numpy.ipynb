{
 "nbformat": 4,
 "nbformat_minor": 2,
 "metadata": {
  "language_info": {
   "name": "python",
   "codemirror_mode": {
    "name": "ipython",
    "version": 3
   },
   "version": "3.7.5-final"
  },
  "orig_nbformat": 2,
  "file_extension": ".py",
  "mimetype": "text/x-python",
  "name": "python",
  "npconvert_exporter": "python",
  "pygments_lexer": "ipython3",
  "version": 3,
  "kernelspec": {
   "name": "python37564bit0dc79bb492bd44c78f05d4b2f5c90882",
   "display_name": "Python 3.7.5 64-bit"
  }
 },
 "cells": [
  {
   "cell_type": "markdown",
   "metadata": {},
   "source": [
    "numpy es una libreria para python muy util y manejada en el manejo del data science"
   ]
  },
  {
   "cell_type": "code",
   "execution_count": 2,
   "metadata": {},
   "outputs": [],
   "source": [
    "import numpy as np\n",
    "from numpy import pi"
   ]
  },
  {
   "cell_type": "code",
   "execution_count": 13,
   "metadata": {},
   "outputs": [
    {
     "output_type": "stream",
     "name": "stdout",
     "text": "posicion 4: 78\ndesde la posicion 3 hasta el final [65 78 89 56 45 12 32 65 98]\nposicion del 3 al 7 [65 78 89 56]\nimprecion con intervalos cada 3 [21 65 56 32]\n"
    }
   ],
   "source": [
    "#arreglos\n",
    "#es importante saber que cuando se declara un arreglo para numpy se tiene que enviar como parametro una secuencia unica como argumento (lista) y no multiples elementos separados por coma\n",
    "np.array([12,15,125,35,53,65,45,78])#denotacions para crear un arreglo con numpy\n",
    "a= np.array([21,54,32,65,78,89,56,45,12,32,65,98])\n",
    "print(f'posicion 4: {a[4]}')#los arreglos de numpy son iterables, por lo que en esta caso estamos mostrando la posicions 4 del arreglo (tomando en cuetna que comienza desde 0)\n",
    "#se puede iterar con la denotacion de slices\n",
    "print(f'desde la posicion 3 hasta el final {a[3:]}')#desde la posicion 3 hasta el final\n",
    "print(f'posicion del 3 al 7 {a[3:7]}')\n",
    "print(f'imprecion con intervalos cada 3 {a[::3]}')"
   ]
  },
  {
   "cell_type": "code",
   "execution_count": 89,
   "metadata": {},
   "outputs": [
    {
     "output_type": "stream",
     "name": "stdout",
     "text": "arreglo bidimencional: \n[[1 2 3 4]\n [5 6 7 8]]\nultima fila: [5 6 7 8]\n"
    }
   ],
   "source": [
    "#arreglos de dos dimensiones\n",
    "\"\"\"\n",
    "el objeto principal de numpy es un arreglo multidimensional homogeneo\n",
    "este es una tabla de elementos (por lo general numeros), todos del mismos tipo, indezados como una TUPLA de enteros no negativos (non-negative).\n",
    "\n",
    "en numpy las dimendiones de un arreglo son llamadas axes (trad dir: hachas)\n",
    "por ejemplo un arreglo [1,2,3] tiene un eje y este ejes diene una longitud de 3. entonces:\n",
    "el numero de filas en numpy se define como axes y el numero de columnas en numpy se define con la longitud\n",
    "\"\"\"\n",
    "mat = np.array([[1,2,3,4],[5,6,7,8]])\n",
    "print(f'arreglo bidimencional: \\n{mat}')\n",
    "#para poder ver la ultima fila del arreglo\n",
    "print(f'ultima fila: {mat[-1]}') "
   ]
  },
  {
   "cell_type": "code",
   "execution_count": 52,
   "metadata": {},
   "outputs": [
    {
     "output_type": "stream",
     "name": "stdout",
     "text": "ver el numero de dimensiones(axes): 2 ; 1\nforma de los arreglos: (2, 4),(8,)\nnumero de elementos 8 ; 8\ntipo de los elementos en los arreglos: int32 ; int32\ntamano en bytes de los elementos: 4 ; 4 \ndirecciones: <memory at 0x000001E639582128> ; <memory at 0x000001E639538A08>\n"
    }
   ],
   "source": [
    "#metodos de array\n",
    "vect = np.array([21,54,874,65,231,54,21,87])\n",
    "mat = np.array([[1,2,3,4],[5,6,7,8]])\n",
    "#retornar el numero de dimensiones de un arreglo\n",
    "print(f'ver el numero de dimensiones(axes): {mat.ndim} ; {vect.ndim}')\n",
    "#retornar la \"forma\" del arreglo (retorna una tuple)\n",
    "#para una matriz retorna una tupla con (filas,columnas)\n",
    "#para un vector retorna su longitud en forma de tupla (longitud,)\n",
    "print(f'forma de los arreglos: {mat.shape},{vect.shape}')\n",
    "#para retornar el numero de elementos of un arreglo\n",
    "print(f'numero de elementos {mat.size} ; {vect.size}')\n",
    "#retorna el tipo de elementos que contiene el arreglo\n",
    "print(f'tipo de los elementos en los arreglos: {mat.dtype} ; {vect.dtype}')\n",
    "#retornar el tamano en bytes de cada elemento en el arreglo, por ejemplo: un arreglo de elementos de tipo float64 tiene un (itemzise) de 8=(64/8) mientras que un elemento de tipo complex32 tiene un (itemzise) de 4 = (32/8)\n",
    "print(f'tamano en bytes de los elementos: {vect.itemsize} ; {vect.itemsize} ')\n",
    "#retorna la direccion en la que se encuentra almancenado el arreglo (primera posicion), este atributo por lo general no es utilizado dado que numpy da acceso a los elementos en el arreglo usando indexaciones faciles\n",
    "print(f'direcciones: {mat.data} ; {vect.data}')"
   ]
  },
  {
   "cell_type": "code",
   "execution_count": 54,
   "metadata": {},
   "outputs": [
    {
     "output_type": "stream",
     "name": "stdout",
     "text": "[[1 2 3 4 5]\n [5 6 7 8 9]]\n[[1.+0.j 2.+0.j]\n [3.+0.j 4.+0.j]]\n"
    }
   ],
   "source": [
    "#otra forma de declarar arreglos\n",
    "#arreglos bidimensionales\n",
    "matuple = np.array([(1,2,3,4,5),(5,6,7,8,9)])\n",
    "print(matuple)\n",
    "#el tipo de elementos en la matriz tambien se puede especificar\n",
    "matcom = np.array([[1,2],[3,4]], dtype=complex)\n",
    "print(matcom)"
   ]
  },
  {
   "cell_type": "code",
   "execution_count": 63,
   "metadata": {},
   "outputs": [
    {
     "output_type": "stream",
     "name": "stdout",
     "text": "arreglo de ceros: [0. 0. 0. 0. 0.]\narreglo bidimencional de ceros:\n [[0. 0. 0. 0. 0.]\n [0. 0. 0. 0. 0.]\n [0. 0. 0. 0. 0.]\n [0. 0. 0. 0. 0.]]\narreglo de unos: [1. 1. 1. 1. 1.]\narreglo bidimensional de unos: \n[[1. 1. 1. 1. 1.]\n [1. 1. 1. 1. 1.]\n [1. 1. 1. 1. 1.]\n [1. 1. 1. 1. 1.]]\nvector de aleatorios:\n[[1.14587773e-312 1.37929726e-312 1.88857625e-312]\n [9.54898106e-313 6.79038653e-313 2.07955588e-312]]\narreglos a partir de rangos: [10 15 20 25]\nlinspace:\n[0.         0.06346652 0.12693304 0.19039955 0.25386607 0.31733259\n 0.38079911 0.44426563 0.50773215 0.57119866 0.63466518 0.6981317\n 0.76159822 0.82506474 0.88853126 0.95199777 1.01546429 1.07893081\n 1.14239733 1.20586385 1.26933037 1.33279688 1.3962634  1.45972992\n 1.52319644 1.58666296 1.65012947 1.71359599 1.77706251 1.84052903\n 1.90399555 1.96746207 2.03092858 2.0943951  2.15786162 2.22132814\n 2.28479466 2.34826118 2.41172769 2.47519421 2.53866073 2.60212725\n 2.66559377 2.72906028 2.7925268  2.85599332 2.91945984 2.98292636\n 3.04639288 3.10985939 3.17332591 3.23679243 3.30025895 3.36372547\n 3.42719199 3.4906585  3.55412502 3.61759154 3.68105806 3.74452458\n 3.8079911  3.87145761 3.93492413 3.99839065 4.06185717 4.12532369\n 4.1887902  4.25225672 4.31572324 4.37918976 4.44265628 4.5061228\n 4.56958931 4.63305583 4.69652235 4.75998887 4.82345539 4.88692191\n 4.95038842 5.01385494 5.07732146 5.14078798 5.2042545  5.26772102\n 5.33118753 5.39465405 5.45812057 5.52158709 5.58505361 5.64852012\n 5.71198664 5.77545316 5.83891968 5.9023862  5.96585272 6.02931923\n 6.09278575 6.15625227 6.21971879 6.28318531]\n"
    }
   ],
   "source": [
    "#crear arreglos predefinidos de forma dinamica (con metodos de numpy)\n",
    "#arreglos de zeros\n",
    "ceros = np.zeros(5)\n",
    "print(f'arreglo de ceros: {ceros}')\n",
    "ceros = np.zeros((4,5))\n",
    "print(f'arreglo bidimencional de ceros:\\n {ceros}')\n",
    "#arreglo de unos\n",
    "unos = np.ones(5)\n",
    "print(f'arreglo de unos: {unos}')\n",
    "unos = np.ones((4,5))\n",
    "print(f'arreglo bidimensional de unos: \\n{unos}')\n",
    "#arreglos de numeros aleatorios\n",
    "aleatorio = np.empty((2,3)) #los parametros ingresados representan las filas y columnas\n",
    "print(f'vector de aleatorios:\\n{aleatorio}')\n",
    "#arreglos a partir de rangos\n",
    "rango = np.arange(10,30,5)\n",
    "print(f'arreglos a partir de rangos: {rango}')\n",
    "#cuando se quiere crear un vector con un rango en el cual se emplean flotantes, no se recomienta mucho usar (arange) dado que no siempre es posible predecir el numero de elemento debido a la presicion en los decimales, para esto se creo la funcion linspace en el cual se define el intevalo deseado y el numero de elementos que se quiere\n",
    "rango_flotante = np.linspace(0,2*pi,100)\n",
    "print(f'linspace:\\n{rango_flotante}')"
   ]
  },
  {
   "cell_type": "code",
   "execution_count": 11,
   "metadata": {},
   "outputs": [
    {
     "output_type": "stream",
     "name": "stdout",
     "text": "[[65 12 54 78]\n [52 41 25 36]\n [48 59 26 15]\n [42 52 35 68]] (4, 4)\n[65 12 54 78 52 41 25 36 48 59 26 15 42 52 35 68]\n[[65 12]\n [54 78]\n [52 41]\n [25 36]\n [48 59]\n [26 15]\n [42 52]\n [35 68]]\n[[65 54 52 25 48 26 42 35]\n [12 78 41 36 59 15 52 68]]\n"
    }
   ],
   "source": [
    "#transformacion dimensional de los arreglos\n",
    "a = np.array([[65,12,54,78],[52,41,25,36],[48,59,26,15],[42,52,35,68]])\n",
    "print(a, a.shape)\n",
    "print(a.ravel())#retorna el arreglo bidimensional en uno unidimensional\n",
    "b= a.ravel()\n",
    "c= b.reshape(8,2)#pasa de arreglo unidimensional a bidimensional\n",
    "print(c)\n",
    "print(c.T)#modifica las filas por columnas"
   ]
  },
  {
   "cell_type": "code",
   "execution_count": 100,
   "metadata": {},
   "outputs": [
    {
     "output_type": "stream",
     "name": "stdout",
     "text": "[ 54 322  63  95]\n[0 1 4 9]\n[-5.58789049  5.51401534  8.26828679 -5.73381872]\n[ True False  True  True]\n[[ 1.5  2.6  3.7]\n [ 4.2  5.3  6.1]\n [-7.5 -8.1 -9.8]]\n[[  1.   2.   3.]\n [  4.   5.   6.]\n [ -8.  -9. -10.]]\n"
    }
   ],
   "source": [
    "#operaciones basicas (unidimensionales)\n",
    "a = np.array([54,323,65,98])\n",
    "b = np.arange(4)\n",
    "c = a-b\n",
    "print(c)\n",
    "print(b**2)\n",
    "print(10*np.sin(a))\n",
    "print(a<158)\n",
    "#redondear los valores flotantes\n",
    "#numpy redondea los valores en el valor inferior\n",
    "mat = np.array([[1.5,2.6,3.7],[4.2,5.3,6.1],[-7.5,-8.1,-9.8]])\n",
    "print(mat)\n",
    "print(np.floor(mat))"
   ]
  },
  {
   "cell_type": "code",
   "execution_count": null,
   "metadata": {},
   "outputs": [],
   "source": [
    "#concatenar matrices\n",
    "a= np.array([[1.,9.],[2.,3.]])"
   ]
  },
  {
   "cell_type": "code",
   "execution_count": 80,
   "metadata": {},
   "outputs": [
    {
     "output_type": "stream",
     "name": "stdout",
     "text": "[[2 0]\n [0 4]]\n[[5 4]\n [3 4]]\n[[5 4]\n [3 4]]\n3\n0\n4\n[[2 2]\n [3 7]]\n"
    }
   ],
   "source": [
    "#operaciones basicas (bidimensionales)\n",
    "A = np.array([[1,1],[0,1]])\n",
    "B = np.array([[2,0],[3,4]])\n",
    "print(A*B) #producto punto\n",
    "print(A@B) #producto matricial\n",
    "print(A.dot(B)) #otra forma de hacer producto matricial\n",
    "print(A.sum())#sumatoria\n",
    "print(B.min())#valor minimo\n",
    "print(B.max())#valor maximo\n",
    "print(B.cumsum(axis=1))#crea una matriz en la que va haciendo una sumatoria acumulada a lo largo de cada fila\n"
   ]
  },
  {
   "cell_type": "code",
   "execution_count": 88,
   "metadata": {},
   "outputs": [
    {
     "output_type": "stream",
     "name": "stdout",
     "text": "[[ 0.  1.  2.  3.]\n [10. 11. 12. 13.]\n [20. 21. 22. 23.]\n [30. 31. 32. 33.]\n [40. 41. 42. 43.]]\n"
    }
   ],
   "source": [
    "#las matrices multidimencionales pueden tener un indice por eje, estosn indices se dan como una tupla separada por comas\n",
    "#se puede crear un arreglos multidimencional enviando los indices a una funcion\n",
    "def f(x,y):\n",
    "    return 10*x+y\n",
    "funt = np.fromfunction(f,shape=(5,4))\n",
    "print(funt)"
   ]
  },
  {
   "cell_type": "code",
   "execution_count": 3,
   "metadata": {},
   "outputs": [
    {
     "output_type": "stream",
     "name": "stdout",
     "text": "[[54 21 65 32]\n [45 12 78 56]\n [85 52 65 54]\n [25 48 53 52]]\n\niteraciones filas:\n[54 21 65 32]\n[45 12 78 56]\n[85 52 65 54]\n[25 48 53 52]\n\niteraciones elementos:\n54\n21\n65\n32\n45\n12\n78\n56\n85\n52\n65\n54\n25\n48\n53\n52\n"
    }
   ],
   "source": [
    "#iterando sobre un arreglo multidimensional\n",
    "#por fila\n",
    "mat = np.array([[54,21,65,32],[45,12,78,56],[85,52,65,54],[25,48,53,52]])\n",
    "print(mat)\n",
    "print('\\niteraciones filas:')\n",
    "for row in mat:\n",
    "    print(row)\n",
    "print('\\niteraciones elementos:')\n",
    "for element in mat.flat:\n",
    "    print(element)"
   ]
  },
  {
   "cell_type": "code",
   "execution_count": null,
   "metadata": {},
   "outputs": [],
   "source": []
  }
 ]
}