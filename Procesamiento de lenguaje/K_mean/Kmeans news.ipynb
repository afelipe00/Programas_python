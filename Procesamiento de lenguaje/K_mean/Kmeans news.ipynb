{
 "cells": [
  {
   "cell_type": "markdown",
   "metadata": {},
   "source": [
    "se lee el JSON discriminando las categorias que no nos interesan"
   ]
  },
  {
   "cell_type": "code",
   "execution_count": null,
   "metadata": {},
   "outputs": [],
   "source": [
    "import pandas as pd\n",
    "def Read_JSON():\n",
    "    df = pd.read_json('News_Category_Dataset_v2.json', lines=True)\n",
    "    df = df.drop(['authors','link','date'],axis=1)\n",
    "    df['category'] = df.category.map({'POLITICS':0, 'ENTERTAINMENT':1, 'SPORTS':2})\n",
    "    df = df.dropna()\n",
    "    return df['category'], df.drop(['category'],axis=1)"
   ]
  },
  {
   "cell_type": "markdown",
   "metadata": {},
   "source": [
    "count verctorize para definir nuestos vectores"
   ]
  },
  {
   "cell_type": "code",
   "execution_count": null,
   "metadata": {},
   "outputs": [],
   "source": [
    "from sklearn.feature_extraction.text import TfidfVectorizer\n",
    "def vectorize():\n",
    "    lista, df = Read_JSON()\n",
    "    vectorizer = TfidfVectorizer(min_df=3, stop_words='english')\n",
    "    vectorized = vectorizer.fit_transform(df['headline']+df['short_description'])\n",
    "    return vectorized"
   ]
  },
  {
   "cell_type": "code",
   "execution_count": null,
   "metadata": {},
   "outputs": [],
   "source": [
    "import matplotlib.pyplot as plt\n",
    "from sklearn.cluster import KMeans\n",
    "list_category, df = Read_JSON()\n",
    "vectorized = vectorize()\n",
    "inertias = []\n",
    "for k in range(1,5):\n",
    "    model = KMeans(n_clusters=k)\n",
    "    model.fit(vectorized)\n",
    "    inertias.append(model.inertia_)\n",
    "print(inertias)"
   ]
  },
  {
   "cell_type": "code",
   "execution_count": null,
   "metadata": {},
   "outputs": [],
   "source": [
    "vectorize()"
   ]
  }
 ],
 "metadata": {
  "kernelspec": {
   "display_name": "Python 3",
   "language": "python",
   "name": "python3"
  },
  "language_info": {
   "codemirror_mode": {
    "name": "ipython",
    "version": 3
   },
   "file_extension": ".py",
   "mimetype": "text/x-python",
   "name": "python",
   "nbconvert_exporter": "python",
   "pygments_lexer": "ipython3",
   "version": "3.7.5-final"
  }
 },
 "nbformat": 4,
 "nbformat_minor": 4
}