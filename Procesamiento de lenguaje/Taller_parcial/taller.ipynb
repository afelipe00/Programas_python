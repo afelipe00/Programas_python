{
 "nbformat": 4,
 "nbformat_minor": 2,
 "metadata": {
  "language_info": {
   "name": "python",
   "codemirror_mode": {
    "name": "ipython",
    "version": 3
   },
   "version": "3.7.3-final"
  },
  "orig_nbformat": 2,
  "file_extension": ".py",
  "mimetype": "text/x-python",
  "name": "python",
  "npconvert_exporter": "python",
  "pygments_lexer": "ipython3",
  "version": 3,
  "kernelspec": {
   "name": "python37332bitc0e1efddd7c742e4bca91aa534a1bda5",
   "display_name": "Python 3.7.3 32-bit"
  }
 },
 "cells": [
  {
   "cell_type": "code",
   "execution_count": 176,
   "metadata": {},
   "outputs": [],
   "source": [
    "import re"
   ]
  },
  {
   "cell_type": "code",
   "execution_count": 177,
   "metadata": {},
   "outputs": [],
   "source": [
    "def quitar_stopword(voc,stop):\n",
    "    #print(stop)\n",
    "    temp = {}\n",
    "    for word in voc:\n",
    "        if word not in stop:\n",
    "            temp[word] = voc[word]\n",
    "    print(\"sin stopwords:\\n\", temp)\n",
    "    #print(len(temp))\n",
    "            "
   ]
  },
  {
   "cell_type": "code",
   "execution_count": 178,
   "metadata": {},
   "outputs": [],
   "source": [
    "def steamming(voc):\n",
    "    voc['estudio'] = voc.pop('estudiamos')\n",
    "    voc['estudio'] = voc.pop('estudiar')\n",
    "    voc['similitud'] = voc.pop('similitudes')\n",
    "    voc['usa'] = voc.pop('usando')\n",
    "    #voc['modelamiento'] = voc.pop('Modelo')\n",
    "    #voc['modelamiento'] = voc.pop('modelos')\n",
    "    return voc"
   ]
  },
  {
   "cell_type": "code",
   "execution_count": 179,
   "metadata": {},
   "outputs": [],
   "source": [
    "def crear_voc(doc):\n",
    "    voc_corpus = dict()\n",
    "    for indice in doc:\n",
    "        text = indice\n",
    "        text_normal = text.lower()\n",
    "        palabras = re.findall(r'[\\w]+',text_normal)\n",
    "        #print(palabras)\n",
    "        for pal in palabras:\n",
    "            if pal in voc_corpus:\n",
    "                voc_corpus[pal]+=1\n",
    "            else:\n",
    "                voc_corpus[pal]=1\n",
    "    return voc_corpus"
   ]
  },
  {
   "cell_type": "code",
   "execution_count": null,
   "metadata": {},
   "outputs": [],
   "source": []
  },
  {
   "cell_type": "code",
   "execution_count": 180,
   "metadata": {},
   "outputs": [],
   "source": [
    "def lectura_text():\n",
    "    documentos = []\n",
    "    stop_words = []\n",
    "    voc_stop = {}\n",
    "    voc_corpus = {}\n",
    "    with open(\"corpus.txt\",\"r\",encoding='utf8') as doc:\n",
    "        for lineas, texto in enumerate(doc):\n",
    "            documentos.append(texto)\n",
    "            #print(\"\\ndocumento \",lineas,\" : \", documentos[lineas])\n",
    "    with open(\"stopwords.txt\",\"r\",encoding='utf8') as stop:\n",
    "        for lineas, texto in enumerate(stop):\n",
    "            texto = texto.rstrip('\\n')\n",
    "            stop_words.append(texto)\n",
    "    voc_corpus = crear_voc(documentos)\n",
    "    voc_corpus = steamming(voc_corpus)\n",
    "    #print(\"vocabulario\",voc_corpus)\n",
    "    voc_stop = quitar_stopword(voc_corpus,stop_words)\n",
    "    "
   ]
  },
  {
   "cell_type": "code",
   "execution_count": 181,
   "metadata": {},
   "outputs": [
    {
     "name": "stdout",
     "output_type": "stream",
     "text": "sin stopwords:\n {'pasar': 1, 'parcial': 1, 'practico': 1, 'python': 2, 'voy': 1, 'avanzar': 1, 'curso': 1, 'clase': 1, 'modelo': 4, 'bolsa': 4, 'palabras': 5, 'requiere': 1, 'procesar': 2, 'texto': 2, 'remover': 1, 'stopwords': 1, 'normalizar': 1, 'tareas': 1, 'ponderar': 1, 'importancias': 1, 'usa': 1, 'tfidf': 1, 'calcular': 2, 'documentos': 2, 'debemos': 1, 'vectorizar': 1, 'distancia': 1, 'coseno': 1, 'podemos': 1, 'implementamos': 1, 'diferentes': 2, 'medidas': 1, 'similitud': 2, 'métricas': 2, 'evaluación': 2, 'empleadas': 1, 'encuentra': 1, 'medida': 1, 'f1': 1, 'estudio': 1}\n"
    }
   ],
   "source": [
    "if __name__ == \"__main__\":\n",
    "    lectura_text()"
   ]
  }
 ]
}